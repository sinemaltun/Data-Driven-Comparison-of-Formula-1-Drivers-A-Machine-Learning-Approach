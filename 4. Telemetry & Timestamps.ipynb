{
 "cells": [
  {
   "cell_type": "markdown",
   "source": [
    "# 4. TELEMETRY & TIMESTAMPS\n",
    "\n",
    "We will integrate our progress so far by visualizing the timestamp points on the track where team radio conversations take place for each driver, alongside analyzing the car's telemetry data at these specific locations.\n",
    "\n",
    "### 4.1 CONSTRUCT DICTIONARY"
   ],
   "metadata": {
    "collapsed": false
   },
   "id": "a39bf45427fb861b"
  },
  {
   "cell_type": "code",
   "execution_count": null,
   "outputs": [],
   "source": [
    "import fastf1\n",
    "import os\n",
    "import pickle\n",
    "import numpy as np\n",
    "import pandas as pd\n",
    "\n",
    "parent_dir = os.path.dirname(os.path.realpath(\"4. Telemetry & Timestamps.ipynb\")) \n",
    "data_path = os.path.join(parent_dir, 'Data Objects')"
   ],
   "metadata": {
    "collapsed": true,
    "is_executing": true
   },
   "id": "initial_id"
  },
  {
   "cell_type": "code",
   "execution_count": 2,
   "outputs": [
    {
     "name": "stdout",
     "output_type": "stream",
     "text": [
      "22 races in 2023!\n"
     ]
    }
   ],
   "source": [
    "with open(os.path.join(data_path, 'team_radio23.pkl'), 'rb') as f:\n",
    "    team_radio = pickle.load(f)\n",
    "    \n",
    "print(len(team_radio.keys()),\"races in 2023!\")"
   ],
   "metadata": {
    "collapsed": false,
    "ExecuteTime": {
     "end_time": "2024-06-11T21:31:25.378218500Z",
     "start_time": "2024-06-11T21:31:25.324454800Z"
    }
   },
   "id": "6c4468c4a425e2b1"
  },
  {
   "cell_type": "code",
   "execution_count": 3,
   "outputs": [
    {
     "name": "stdout",
     "output_type": "stream",
     "text": [
      "22 races in 2022!\n"
     ]
    }
   ],
   "source": [
    "with open(os.path.join(data_path, 'team_radio22.pkl'), 'rb') as f:\n",
    "    team_radio22 = pickle.load(f)\n",
    "    \n",
    "print(len(team_radio22.keys()),\"races in 2022!\")"
   ],
   "metadata": {
    "collapsed": false,
    "ExecuteTime": {
     "end_time": "2024-06-11T21:31:25.438095400Z",
     "start_time": "2024-06-11T21:31:25.371242400Z"
    }
   },
   "id": "5937a6cb404682f2"
  },
  {
   "cell_type": "code",
   "execution_count": 6,
   "outputs": [
    {
     "data": {
      "text/plain": "dict_keys(['Bahrain_Grand_Prix', 'Saudi_Arabian_Grand_Prix', 'Australian_Grand_Prix', 'Azerbaijan_Grand_Prix', 'Miami_Grand_Prix', 'Monaco_Grand_Prix', 'Spanish_Grand_Prix', 'Canadian_Grand_Prix', 'Austrian_Grand_Prix', 'British_Grand_Prix', 'Hungarian_Grand_Prix', 'Belgian_Grand_Prix', 'Dutch_Grand_Prix', 'Italian_Grand_Prix', 'Singapore_Grand_Prix', 'Japanese_Grand_Prix', 'Qatar_Grand_Prix', 'United_States_Grand_Prix', 'Mexico_City_Grand_Prix', 'São_Paulo_Grand_Prix', 'Las_Vegas_Grand_Prix', 'Abu_Dhabi_Grand_Prix'])"
     },
     "execution_count": 6,
     "metadata": {},
     "output_type": "execute_result"
    }
   ],
   "source": [
    "team_radio.keys()"
   ],
   "metadata": {
    "collapsed": false,
    "ExecuteTime": {
     "end_time": "2024-06-10T10:28:52.088998500Z",
     "start_time": "2024-06-10T10:28:52.078247700Z"
    }
   },
   "id": "a2a5c35e5b9cb317"
  },
  {
   "cell_type": "code",
   "execution_count": 7,
   "outputs": [
    {
     "data": {
      "text/plain": "dict_keys(['Bahrain_Grand_Prix', 'Saudi_Arabian_Grand_Prix', 'Australian_Grand_Prix', 'Emilia_Romagna_Grand_Prix', 'Miami_Grand_Prix', 'Spanish_Grand_Prix', 'Monaco_Grand_Prix', 'Azerbaijan_Grand_Prix', 'Canadian_Grand_Prix', 'British_Grand_Prix', 'Austrian_Grand_Prix', 'French_Grand_Prix', 'Hungarian_Grand_Prix', 'Belgian_Grand_Prix', 'Dutch_Grand_Prix', 'Italian_Grand_Prix', 'Singapore_Grand_Prix', 'Japanese_Grand_Prix', 'United_States_Grand_Prix', 'Mexico_City_Grand_Prix', 'São_Paulo_Grand_Prix', 'Abu_Dhabi_Grand_Prix'])"
     },
     "execution_count": 7,
     "metadata": {},
     "output_type": "execute_result"
    }
   ],
   "source": [
    "team_radio22.keys()"
   ],
   "metadata": {
    "collapsed": false,
    "ExecuteTime": {
     "end_time": "2024-06-10T10:28:59.590252300Z",
     "start_time": "2024-06-10T10:28:59.576069900Z"
    }
   },
   "id": "7cde8bc5bf319087"
  },
  {
   "cell_type": "markdown",
   "source": [
    "Common races: 'Bahrain_Grand_Prix', 'Saudi_Arabian_Grand_Prix', 'Australian_Grand_Prix', 'Azerbaijan_Grand_Prix', 'Miami_Grand_Prix', 'Monaco_Grand_Prix', 'Spanish_Grand_Prix', 'Canadian_Grand_Prix', 'Austrian_Grand_Prix', 'British_Grand_Prix', 'Hungarian_Grand_Prix', 'Belgian_Grand_Prix', 'Dutch_Grand_Prix', 'Italian_Grand_Prix', 'Singapore_Grand_Prix', 'Japanese_Grand_Prix', 'United_States_Grand_Prix', 'Mexico_City_Grand_Prix', 'São_Paulo_Grand_Prix', 'Abu_Dhabi_Grand_Prix'"
   ],
   "metadata": {
    "collapsed": false
   },
   "id": "c9e019bf7a90ecf3"
  },
  {
   "cell_type": "markdown",
   "source": [
    "Before we continue, we need to be cautious of potential issues/missing from our data.\n",
    "\n",
    "There might be certain races in which a driver is in the list of session drivers BUT not in the list of team radio drivers or vice-versa.\n",
    "\n",
    "We need to detect these certain cases before we join 2 data objects (team radio timestamps & telemetry data) by driver number!"
   ],
   "metadata": {
    "collapsed": false
   },
   "id": "b109ea784bb66267"
  },
  {
   "cell_type": "code",
   "execution_count": 9,
   "outputs": [],
   "source": [
    "def analyse_season(dictt, year):\n",
    "    i=1\n",
    "    for k,v in dictt.items():\n",
    "        session = fastf1.get_session(year, k,'Race') \n",
    "        session.load()\n",
    "        \n",
    "        drivers = sorted(session.drivers)\n",
    "        rd = v.index.get_level_values(0).unique()\n",
    "        \n",
    "        different_drivers = [x for x in drivers if x not in set(rd)]\n",
    "        different_drivers.append([x for x in rd if x not in set(drivers)])\n",
    "        \n",
    "        print(i,\" \",k,\"\\n\")\n",
    "        print(\"RACE \\n\",len(drivers),\" \",drivers)\n",
    "        print(\"RADIO \\n\",len(rd),\" \",rd)\n",
    "        if different_drivers !=[[]]: # if there is an inbalance between team radio drivers & session drivers in a race!\n",
    "            print(\"\\n Difference: \",different_drivers)\n",
    "        \n",
    "        i+=1"
   ],
   "metadata": {
    "collapsed": false,
    "ExecuteTime": {
     "end_time": "2024-06-10T10:35:20.770931500Z",
     "start_time": "2024-06-10T10:35:20.751677100Z"
    }
   },
   "id": "7cbf7a7d71123c70"
  },
  {
   "cell_type": "code",
   "execution_count": 8,
   "outputs": [],
   "source": [
    "def driver_from_session(grand_prix,number):\n",
    "    s= fastf1.get_session(2023, grand_prix,'Race') \n",
    "    s.load()\n",
    "    print(s.get_driver(number))\n",
    "    \n",
    "def driver_from_radio(grand_prix,number):\n",
    "    df = team_radio[grand_prix] \n",
    "    print(df.loc[(number, slice(None))]['Path New'][0])"
   ],
   "metadata": {
    "collapsed": false,
    "ExecuteTime": {
     "end_time": "2024-06-10T10:33:21.363704Z",
     "start_time": "2024-06-10T10:33:21.346446300Z"
    }
   },
   "id": "3a9082fb699ee18"
  },
  {
   "cell_type": "code",
   "execution_count": null,
   "outputs": [],
   "source": [
    "analyse_season(team_radio22, 2022)"
   ],
   "metadata": {
    "collapsed": false
   },
   "id": "b62d88549efe193a"
  },
  {
   "cell_type": "markdown",
   "source": [
    "## 2022 SEASON\n",
    "### SAUDI GP\n",
    "**RACE**\n",
    "- 20   ['1', '10', '11', '14', '16', '18', '20', '22', '23', '24', '27', '3', '31', '4', '44', '47', '55', '6', '63', '77']\n",
    "- \n",
    "**RADIO** \n",
    "- 19   ['1', '10', '11', '14', '16', '18', '20', '22', '23', '24', '27', '3',\n",
    "       '31', '4', '44', '55', '6', '63', '77']\n",
    "\n",
    "**Difference:** ['47']\n",
    "- No radio for \tMick Schumacher(47), but he raced.\n",
    "\n",
    "### Miami GP\n",
    "**RACE**\n",
    "- 20   ['1', '10', '11', '14', '16', '18', '20', '22', '23', '24', '3', '31', '4', '44', '47', '5', '55', '6', '63', '77']\n",
    "- \n",
    "**RADIO**\n",
    "- 18   ['1', '10', '14', '16', '18', '20', '22', '23', '3', '31', '4', '44',\n",
    "       '47', '5', '55', '6', '63', '77']\n",
    "       \n",
    "### British GP \n",
    "**RACE**\n",
    "- 20   ['1', '10', '11', '14', '16', '18', '20', '22', '23', '24', '3', '31', '4', '44', '47', '5', '55', '6', '63', '77']\n",
    "- \n",
    "**RADIO**\n",
    "- 18   ['1', '10', '11', '14', '16', '18', '20', '22', '3', '31', '4', '44',\n",
    "       '47', '5', '55', '6', '63', '77']\n",
    "\n",
    "**Difference:** ['23', '24']\n",
    "\n",
    "### Singapore GP\n",
    "\n",
    "**RACE**\n",
    "- 20   ['1', '10', '11', '14', '16', '18', '20', '22', '23', '24', '3', '31', '4', '44', '47', '5', '55', '6', '63', '77']\n",
    "\n",
    "**RADIO**\n",
    " 19   ['1', '10', '11', '16', '18', '20', '22', '23', '24', '3', '31', '4',\n",
    "       '44', '47', '5', '55', '6', '63', '77']\n",
    "\n",
    "**Difference:**  ['14']\n",
    "\n",
    "### São Paulo GP \n",
    "\n",
    "**RACE** \n",
    "- 20   ['1', '10', '11', '14', '16', '18', '20', '22', '23', '24', '3', '31', '4', '44', '47', '5', '55', '6', '63', '77']\n",
    "**RADIO** \n",
    "- 19   ['1', '10', '11', '14', '16', '18', '20', '22', '23', '24', '31', '4',\n",
    "       '44', '47', '5', '55', '6', '63', '77']\n",
    "\n",
    "**Difference:**  ['3']\n",
    "\n",
    "### GPs WHERE ALL DRIVERS MATCH!\n",
    "\n",
    "- Bahrain GP\n",
    "- Australian GP\n",
    "- Emilia Romagna GP\n",
    "- Spanish GP\n",
    "- Monaco GP\n",
    "- Azerbaijan GP\n",
    "- Canadian GP\n",
    "- Austrian GP\n",
    "- French GP\n",
    "- Hungarian GP\n",
    "- Belgian GP\n",
    "- Italian GP\n",
    "- Dutch GP\n",
    "- Japanese GP\n",
    "- United States GP\n",
    "- Mexico City GP\n",
    "- Abu Dhabi GP"
   ],
   "metadata": {
    "collapsed": false
   },
   "id": "cc95db3f94806764"
  },
  {
   "cell_type": "code",
   "execution_count": null,
   "outputs": [],
   "source": [
    "analyse_season(team_radio, 2023)"
   ],
   "metadata": {
    "collapsed": false
   },
   "id": "4b43484e0448cf77"
  },
  {
   "cell_type": "markdown",
   "source": [
    "## 2023 SEASON\n",
    "### Canadian GP\n",
    "\n",
    "**RACE**\n",
    "- 20   ['1', '10', '11', '14', '16', '18', '2', '20', '21', '22', '23', '24', '27', '31', '4', '44', '55', '63', '77', '81']\n",
    "\n",
    "**RADIO**\n",
    "- 19   ['1', '10', '11', '14', '16', '18', '2', '20', '22', '23', '24', '27', '31', '4', '44', '55', '63', '77', '81']\n",
    "\n",
    "**Difference:** ['21']\n",
    "- No radio for Nyck De Vries(21), but he raced.\n",
    "\n",
    "### Hungarian GP\n",
    "\n",
    "**RACE**\n",
    "- 20   ['1', '10', '11', '14', '16', '18', '2', '20', '22', '23', '24', '27', '3', '31', '4', '44', '55', '63', '77', '81']\n",
    "\n",
    "**RADIO**\n",
    "- 18   ['1', '11', '14', '16', '18', '2', '20', '22', '23', '24', '27', '31', '4', '44', '55', '63', '77', '81']\n",
    "\n",
    "**Difference:** ['10', '3']\n",
    "- No radio for Pierre Gasly(10) & Daniel Ricciardo(3), but they raced.\n",
    "\n",
    "### Dutch GP\n",
    "\n",
    "**RACE**\n",
    "- 20   ['1', '10', '11', '14', '16', '18', '2', '20', '22', '23', '24', '27', '31', '4', '40', '44', '55', '63', '77', '81']\n",
    "\n",
    "**RADIO**\n",
    "- 19   ['1', '10', '11', '14', '16', '18', '2', '20', '22', '23', '27', '31', '4', '40', '44', '55', '63', '77', '81']\n",
    "\n",
    "**Difference:** ['24']\n",
    "- No radio for Guanyu Zhou(24), but he raced.\n",
    "\n",
    "### Singapore GP\n",
    "\n",
    "**RACE**\n",
    "- 20   ['1', '10', '11', '14', '16', '18', '2', '20', '22', '23', '24', '27', '31', '4', '40', '44', '55', '63', '77', '81']\n",
    "\n",
    "**RADIO**\n",
    "- 19   ['1', '10', '11', '14', '16', '2', '20', '22', '23', '24', '27', '31', '4', '40', '44', '55', '63', '77', '81']\n",
    "\n",
    "**Difference:** ['18']\n",
    "- No radio for Lance Stroll(18), he did not race due to an injury.\n",
    "\n",
    "### Qatar GP\n",
    "\n",
    "**RACE**\n",
    "- 20   ['1', '10', '11', '14', '16', '18', '2', '20', '22', '23', '24', '27', '3', '31', '4', '44', '55', '63', '77', '81']\n",
    "\n",
    "**RADIO**\n",
    "- 19   ['1', '10', '11', '14', '16', '18', '2', '20', '22', '23', '24', '27', '31', '4', '40', '44', '63', '77', '81']\n",
    "\n",
    "**Difference:** ['3', '55', '40']\n",
    "- No radio for Lewis Hamilton(55), he DNF'ed.\n",
    "- No radio for Daniel Ricciardo(3), he did not race due to an injury.\n",
    "\n",
    "- There is radio available for Liam Lawson(40) but he is not on the driver list, he was a replacement of Ricciardo(3).\n",
    "- Even though, Daniel Ricciardo(3) did not race, he is in the list of drivers.\n",
    "\n",
    "### United States GP\n",
    "\n",
    "**RACE**\n",
    "- 20   ['1', '10', '11', '14', '16', '18', '2', '20', '21', '22', '23', '24', '27', '31', '4', '44', '55', '63', '77', '81']\n",
    "\n",
    "**RADIO**\n",
    "- 20   ['1', '10', '11', '14', '16', '18', '2', '20', '22', '23', '24', '27', '3', '31', '4', '44', '55', '63', '77', '81']\n",
    "\n",
    "**Difference:** ['21', '3']\n",
    "- Nyck De Vries(21) is in the driver list, even though he did not race.\n",
    "- There is radio available for Daniel Ricciardo(3) but he is not on the driver list.\n",
    "- Daniel Ricciardo(3) was a replacement for Nyck De Vries(21).\n",
    "\n",
    "### São Paulo GP\n",
    "\n",
    "**RACE**\n",
    "- 20   ['1', '10', '11', '14', '16', '18', '2', '20', '22', '23', '24', '27', '3', '31', '4', '44', '55', '63', '77', '81']\n",
    "\n",
    "**RADIO**\n",
    "- 19   ['1', '10', '11', '14', '16', '18', '2', '20', '22', '24', '27', '3', '31', '4', '44', '55', '63', '77', '81']\n",
    "\n",
    "**Difference:** ['23']\n",
    "- No radio for Alexander Albon(23), he DNF'ed.\n",
    "\n",
    "### Las Vegas GP\n",
    "\n",
    "**RACE**\n",
    "- 20   ['1', '10', '11', '14', '16', '18', '2', '20', '22', '23', '24', '27', '3', '31', '4', '44', '55', '63', '77', '81']\n",
    "\n",
    "**RADIO**\n",
    "- 19   ['1', '10', '11', '14', '16', '18', '2', '20', '22', '23', '24', '27', '3', '31', '44', '55', '63', '77', '81']\n",
    "\n",
    "**Difference:** ['4']\n",
    "- No radio for Lando Norris(4), he DNF'ed.\n",
    "\n",
    "### Abu Dhabi GP\n",
    "\n",
    "**RACE**\n",
    "- 20   ['1', '10', '11', '14', '16', '18', '2', '20', '22', '23', '24', '27', '3', '31', '4', '44', '55', '63', '77', '81']\n",
    "\n",
    "**RADIO**\n",
    "- 19   ['1', '10', '11', '14', '16', '18', '2', '20', '22', '23', '27', '3', '31', '4', '44', '55', '63', '77', '81']\n",
    "\n",
    "**Difference:** ['24']\n",
    "- No radio for Zhou Guanyu(24), but he raced.\n",
    "\n",
    "### GPs WHERE ALL DRIVERS MATCH!\n",
    "\n",
    "- Bahrain GP\n",
    "- Saudi GP\n",
    "- Australian GP\n",
    "- Azerbaijan GP\n",
    "- Miami GP\n",
    "- Monaco GP\n",
    "- Spanish GP\n",
    "- Austrian GP\n",
    "- British GP\n",
    "- Belgian GP\n",
    "- Italian GP\n",
    "- Japanese GP\n",
    "- Mexico City GP\n"
   ],
   "metadata": {
    "collapsed": false
   },
   "id": "3e57d713969588df"
  },
  {
   "cell_type": "code",
   "execution_count": 4,
   "outputs": [],
   "source": [
    "def match_timestamps(date, telemetry):\n",
    "    \n",
    "    \"\"\"\n",
    "    Right join function where it returns the telemetry data of timestamps\n",
    "    where radio conversation occurs.\n",
    "    :param date: Team radio timestamps.\n",
    "    :param telemetry: All timestamps available in telemetry data\n",
    "    :return: data frame containing telemetry\n",
    "    \"\"\"\n",
    "    \n",
    "    dfs = []\n",
    "    team_radio_ts = date\n",
    "    telemetry_ts = telemetry['Date'].values \n",
    "    \n",
    "    for ts in team_radio_ts:\n",
    "        index = np.where(telemetry_ts == ts)[0]\n",
    "        if len(index) > 0:\n",
    "            df = telemetry.iloc[[index[0]], :]\n",
    "            dfs.append(df)\n",
    "        else:\n",
    "            index = np.where(telemetry['Date'] < ts)[0]\n",
    "            if len(index) > 0:\n",
    "                df = telemetry.iloc[[index[-1]], :]\n",
    "                dfs.append(df)\n",
    "            else: \n",
    "                index = np.where(telemetry['Date'] > ts)[0]\n",
    "                df = telemetry.iloc[[index[0]], :]\n",
    "                dfs.append(df)\n",
    "\n",
    "    result = pd.concat(dfs, ignore_index=True) \n",
    "    return result"
   ],
   "metadata": {
    "collapsed": false,
    "ExecuteTime": {
     "end_time": "2024-06-11T21:31:32.582381400Z",
     "start_time": "2024-06-11T21:31:32.566431300Z"
    }
   },
   "id": "b94253cee5a85240"
  },
  {
   "cell_type": "code",
   "execution_count": 5,
   "outputs": [],
   "source": [
    "def match_timestamps_reverse(date, telemetry):\n",
    "    \n",
    "    \"\"\"\n",
    "    :param date: Team radio timestamps.\n",
    "    :param telemetry: All timestamps available in telemetry data\n",
    "    :return: Index list of telemetry data where radio conversations occur.\n",
    "    \"\"\"\n",
    "\n",
    "    index_list = []\n",
    "    team_radio_ts = date\n",
    "    telemetry_ts = telemetry['Date'].values \n",
    "    \n",
    "    for ts in team_radio_ts:\n",
    "        index = np.where(telemetry_ts == ts)[0]\n",
    "        if len(index) > 0:\n",
    "            index_list.append(index[0])\n",
    "        else:\n",
    "            index = np.where(telemetry['Date'] < ts)[0]\n",
    "            if len(index) > 0:\n",
    "                index_list.append(index[-1])\n",
    "            else: \n",
    "                index = np.where(telemetry['Date'] > ts)[0]\n",
    "                index_list.append(index[0])\n",
    "\n",
    "    return index_list"
   ],
   "metadata": {
    "collapsed": false,
    "ExecuteTime": {
     "end_time": "2024-06-11T21:31:34.957361400Z",
     "start_time": "2024-06-11T21:31:34.948234500Z"
    }
   },
   "id": "257fc149f275cf9d"
  },
  {
   "cell_type": "code",
   "execution_count": 6,
   "outputs": [],
   "source": [
    "def dict2df(dictionary):\n",
    "    dfs = []\n",
    "    for racing_number, data_list in dictionary.items():\n",
    "        df = pd.DataFrame(data_list)\n",
    "        dfs.append(df)\n",
    "    \n",
    "    result = pd.concat(dfs, keys=dictionary.keys())\n",
    "    return result"
   ],
   "metadata": {
    "collapsed": false,
    "ExecuteTime": {
     "end_time": "2024-06-11T21:31:39.312833300Z",
     "start_time": "2024-06-11T21:31:39.303817500Z"
    }
   },
   "id": "8865895bf136c1f3"
  },
  {
   "cell_type": "code",
   "execution_count": 14,
   "outputs": [],
   "source": [
    "correct_gps22= grand_prix = [\"Bahrain_Grand_Prix\",\"Australian_Grand_Prix\",\"Emilia_Romagna_Grand_Prix\",\"Spanish_Grand_Prix\",\"Monaco_Grand_Prix\",\"Azerbaijan_Grand_Prix\",\"Canadian_Grand_Prix\",\"Austrian_Grand_Prix\",\"French_Grand_Prix\",\"Hungarian_Grand_Prix\",\"Belgian_Grand_Prix\",\"Italian_Grand_Prix\",\"Dutch_Grand_Prix\",\"Japanese_Grand_Prix\",\"United_States_Grand_Prix\",\"Mexico_City_Grand_Prix\",\"Abu_Dhabi_Grand_Prix\"]\n",
    "\n",
    "correct_gps23 = ['Bahrain_Grand_Prix','Saudi_Arabian_Grand_Prix','Australian_Grand_Prix','Azerbaijan_Grand_Prix','Miami_Grand_Prix','Monaco_Grand_Prix','Spanish_Grand_Prix','Austrian_Grand_Prix','British_Grand_Prix',\n",
    "'Belgian_Grand_Prix','Italian_Grand_Prix','Japanese_Grand_Prix','Mexico_City_Grand_Prix']"
   ],
   "metadata": {
    "collapsed": false,
    "ExecuteTime": {
     "end_time": "2024-06-10T11:21:20.860281800Z",
     "start_time": "2024-06-10T11:21:20.840834600Z"
    }
   },
   "id": "dd925e331218df44"
  },
  {
   "cell_type": "code",
   "execution_count": 18,
   "outputs": [],
   "source": [
    "def create_dict(team_radio_dict,gp, year):\n",
    "    f1_dict = {}\n",
    "    for k,v in team_radio_dict.items():\n",
    "        # k is the country\n",
    "        # v is the data frame of the related country with columns: 'Utc', 'RacingNumber', 'Path', 'Path New', 'Date'\n",
    "        if np.isin(gp,k).any():\n",
    "            session = fastf1.get_session(year, k,'Race') \n",
    "            session.load()\n",
    "            \n",
    "            drivers = sorted(session.drivers)\n",
    "            \n",
    "            #f1[k] = {}\n",
    "            f1_dict[k] = {}\n",
    "            for driver in drivers:\n",
    "                df = v.loc[(driver, slice(None))]\n",
    "                dates = df['Date'] #timestamps where team radio conversation occurs\n",
    "                \n",
    "                tel = session.laps.pick_driver(driver).get_telemetry()\n",
    "                tel = tel[['Date','X','Y','Z','RPM','Brake','DRS','Throttle','Speed', 'nGear']] \n",
    "                \n",
    "                index_list = match_timestamps_reverse(dates, tel)\n",
    "                telemetry = tel.copy()\n",
    "                telemetry.reset_index()\n",
    "                telemetry.insert(len(telemetry.columns),\"Team Radio\",0)\n",
    "                \n",
    "                for i in index_list:\n",
    "                    telemetry.loc[i,'Team Radio']=1\n",
    "                    \n",
    "                telemetry = telemetry.reset_index(drop=True)\n",
    "                f1_dict[k][driver] = telemetry\n",
    "                \n",
    "    return f1_dict"
   ],
   "metadata": {
    "collapsed": false,
    "ExecuteTime": {
     "end_time": "2024-06-10T11:24:35.974267Z",
     "start_time": "2024-06-10T11:24:35.964363400Z"
    }
   },
   "id": "fec41986375eeb5a"
  },
  {
   "cell_type": "code",
   "execution_count": 10,
   "outputs": [],
   "source": [
    "v=team_radio['Dutch_Grand_Prix']"
   ],
   "metadata": {
    "collapsed": false,
    "ExecuteTime": {
     "end_time": "2024-06-11T21:35:01.324597700Z",
     "start_time": "2024-06-11T21:35:01.288712800Z"
    }
   },
   "id": "a9fc8ad30a505b16"
  },
  {
   "cell_type": "code",
   "execution_count": 11,
   "outputs": [
    {
     "name": "stderr",
     "output_type": "stream",
     "text": [
      "req         WARNING \tDEFAULT CACHE ENABLED! (4.42 GB) C:\\Users\\sinem\\AppData\\Local\\Temp\\fastf1\n",
      "core           INFO \tLoading data for Dutch Grand Prix - Race [v3.3.2]\n",
      "req            INFO \tUsing cached data for session_info\n",
      "req            INFO \tUsing cached data for driver_info\n",
      "req            INFO \tUsing cached data for session_status_data\n",
      "req            INFO \tUsing cached data for lap_count\n",
      "req            INFO \tUsing cached data for track_status_data\n",
      "req            INFO \tUsing cached data for _extended_timing_data\n",
      "req            INFO \tUsing cached data for timing_app_data\n",
      "core           INFO \tProcessing timing data...\n",
      "req            INFO \tUsing cached data for car_data\n",
      "req            INFO \tUsing cached data for position_data\n",
      "req            INFO \tUsing cached data for weather_data\n",
      "req            INFO \tUsing cached data for race_control_messages\n",
      "core           INFO \tFinished loading data for 20 drivers: ['1', '14', '10', '11', '55', '44', '4', '23', '81', '31', '18', '27', '40', '77', '22', '20', '63', '24', '16', '2']\n",
      "core        WARNING \tFailed to preserve data type for column 'X' while merging telemetry.\n",
      "core        WARNING \tFailed to preserve data type for column 'Y' while merging telemetry.\n",
      "core        WARNING \tFailed to preserve data type for column 'Z' while merging telemetry.\n"
     ]
    }
   ],
   "source": [
    "session = fastf1.get_session(2023, 'Dutch_Grand_Prix','Race') \n",
    "session.load()\n",
    "df = v.loc[('1', slice(None))]\n",
    "dates = df['Date'] #timestamps where team radio conversation occurs\n",
    "\n",
    "tel = session.laps.pick_driver('1').get_telemetry()\n",
    "tel = tel[['Date','X','Y','Z','RPM','Brake','DRS','Throttle','Speed', 'nGear']] "
   ],
   "metadata": {
    "collapsed": false,
    "ExecuteTime": {
     "end_time": "2024-06-11T21:35:16.957443800Z",
     "start_time": "2024-06-11T21:35:10.181353100Z"
    }
   },
   "id": "3b9a648ad29dc3c8"
  },
  {
   "cell_type": "code",
   "execution_count": 13,
   "outputs": [
    {
     "data": {
      "text/plain": "                         Date           X            Y           Z    RPM  \\\n2     2023-08-27 13:03:05.334  627.102635  4068.147684  537.000000  10088   \n3     2023-08-27 13:03:05.416  627.063361  4068.091758  537.000000  10093   \n4     2023-08-27 13:03:05.475  627.000000  4068.000000  537.000000  10078   \n5     2023-08-27 13:03:05.616  626.732545  4067.612678  537.000000  10063   \n6     2023-08-27 13:03:05.895  627.000000  4069.000000  537.000000   9290   \n...                       ...         ...          ...         ...    ...   \n65044 2023-08-27 15:27:09.370  326.000000  3316.000000  537.000000  11325   \n65045 2023-08-27 15:27:09.447  349.933480  3378.183434  536.999857  11311   \n65046 2023-08-27 15:27:09.767  423.712192  3569.586271  536.999989  11425   \n65047 2023-08-27 15:27:09.790  429.000000  3583.000000  537.000000  11441   \n65048 2023-08-27 15:27:10.082  501.224720  3762.024622  537.000019  11449   \n\n       Brake  DRS  Throttle  Speed  nGear  \n2      False    1        15      0      1  \n3      False    1        15      0      1  \n4      False    1        15      0      1  \n5      False    1        15      0      1  \n6      False    1        15      0      1  \n...      ...  ...       ...    ...    ...  \n65044  False    1       100    290      7  \n65045  False    1       100    290      7  \n65046  False    1       100    290      7  \n65047  False    1       100    290      7  \n65048  False    1       100    290      7  \n\n[65047 rows x 10 columns]",
      "text/html": "<div>\n<style scoped>\n    .dataframe tbody tr th:only-of-type {\n        vertical-align: middle;\n    }\n\n    .dataframe tbody tr th {\n        vertical-align: top;\n    }\n\n    .dataframe thead th {\n        text-align: right;\n    }\n</style>\n<table border=\"1\" class=\"dataframe\">\n  <thead>\n    <tr style=\"text-align: right;\">\n      <th></th>\n      <th>Date</th>\n      <th>X</th>\n      <th>Y</th>\n      <th>Z</th>\n      <th>RPM</th>\n      <th>Brake</th>\n      <th>DRS</th>\n      <th>Throttle</th>\n      <th>Speed</th>\n      <th>nGear</th>\n    </tr>\n  </thead>\n  <tbody>\n    <tr>\n      <th>2</th>\n      <td>2023-08-27 13:03:05.334</td>\n      <td>627.102635</td>\n      <td>4068.147684</td>\n      <td>537.000000</td>\n      <td>10088</td>\n      <td>False</td>\n      <td>1</td>\n      <td>15</td>\n      <td>0</td>\n      <td>1</td>\n    </tr>\n    <tr>\n      <th>3</th>\n      <td>2023-08-27 13:03:05.416</td>\n      <td>627.063361</td>\n      <td>4068.091758</td>\n      <td>537.000000</td>\n      <td>10093</td>\n      <td>False</td>\n      <td>1</td>\n      <td>15</td>\n      <td>0</td>\n      <td>1</td>\n    </tr>\n    <tr>\n      <th>4</th>\n      <td>2023-08-27 13:03:05.475</td>\n      <td>627.000000</td>\n      <td>4068.000000</td>\n      <td>537.000000</td>\n      <td>10078</td>\n      <td>False</td>\n      <td>1</td>\n      <td>15</td>\n      <td>0</td>\n      <td>1</td>\n    </tr>\n    <tr>\n      <th>5</th>\n      <td>2023-08-27 13:03:05.616</td>\n      <td>626.732545</td>\n      <td>4067.612678</td>\n      <td>537.000000</td>\n      <td>10063</td>\n      <td>False</td>\n      <td>1</td>\n      <td>15</td>\n      <td>0</td>\n      <td>1</td>\n    </tr>\n    <tr>\n      <th>6</th>\n      <td>2023-08-27 13:03:05.895</td>\n      <td>627.000000</td>\n      <td>4069.000000</td>\n      <td>537.000000</td>\n      <td>9290</td>\n      <td>False</td>\n      <td>1</td>\n      <td>15</td>\n      <td>0</td>\n      <td>1</td>\n    </tr>\n    <tr>\n      <th>...</th>\n      <td>...</td>\n      <td>...</td>\n      <td>...</td>\n      <td>...</td>\n      <td>...</td>\n      <td>...</td>\n      <td>...</td>\n      <td>...</td>\n      <td>...</td>\n      <td>...</td>\n    </tr>\n    <tr>\n      <th>65044</th>\n      <td>2023-08-27 15:27:09.370</td>\n      <td>326.000000</td>\n      <td>3316.000000</td>\n      <td>537.000000</td>\n      <td>11325</td>\n      <td>False</td>\n      <td>1</td>\n      <td>100</td>\n      <td>290</td>\n      <td>7</td>\n    </tr>\n    <tr>\n      <th>65045</th>\n      <td>2023-08-27 15:27:09.447</td>\n      <td>349.933480</td>\n      <td>3378.183434</td>\n      <td>536.999857</td>\n      <td>11311</td>\n      <td>False</td>\n      <td>1</td>\n      <td>100</td>\n      <td>290</td>\n      <td>7</td>\n    </tr>\n    <tr>\n      <th>65046</th>\n      <td>2023-08-27 15:27:09.767</td>\n      <td>423.712192</td>\n      <td>3569.586271</td>\n      <td>536.999989</td>\n      <td>11425</td>\n      <td>False</td>\n      <td>1</td>\n      <td>100</td>\n      <td>290</td>\n      <td>7</td>\n    </tr>\n    <tr>\n      <th>65047</th>\n      <td>2023-08-27 15:27:09.790</td>\n      <td>429.000000</td>\n      <td>3583.000000</td>\n      <td>537.000000</td>\n      <td>11441</td>\n      <td>False</td>\n      <td>1</td>\n      <td>100</td>\n      <td>290</td>\n      <td>7</td>\n    </tr>\n    <tr>\n      <th>65048</th>\n      <td>2023-08-27 15:27:10.082</td>\n      <td>501.224720</td>\n      <td>3762.024622</td>\n      <td>537.000019</td>\n      <td>11449</td>\n      <td>False</td>\n      <td>1</td>\n      <td>100</td>\n      <td>290</td>\n      <td>7</td>\n    </tr>\n  </tbody>\n</table>\n<p>65047 rows × 10 columns</p>\n</div>"
     },
     "execution_count": 13,
     "metadata": {},
     "output_type": "execute_result"
    }
   ],
   "source": [
    "tel"
   ],
   "metadata": {
    "collapsed": false,
    "ExecuteTime": {
     "end_time": "2024-06-11T21:36:21.434103200Z",
     "start_time": "2024-06-11T21:36:21.372396200Z"
    }
   },
   "id": "a4145b13911d49f"
  },
  {
   "cell_type": "code",
   "execution_count": 14,
   "outputs": [
    {
     "data": {
      "text/plain": "0    2023-08-27 12:11:03.647\n1    2023-08-27 12:59:13.118\n2    2023-08-27 13:05:59.354\n3    2023-08-27 13:22:20.078\n4    2023-08-27 13:47:44.176\n5    2023-08-27 13:48:53.956\n6    2023-08-27 13:57:52.931\n7    2023-08-27 14:20:25.016\n8    2023-08-27 14:22:07.530\n9    2023-08-27 14:27:13.478\n10   2023-08-27 14:27:15.946\n11   2023-08-27 15:12:40.023\n12   2023-08-27 15:13:46.022\n13   2023-08-27 15:17:10.846\n14   2023-08-27 15:28:58.302\nName: Date, dtype: datetime64[ns]"
     },
     "execution_count": 14,
     "metadata": {},
     "output_type": "execute_result"
    }
   ],
   "source": [
    "dates"
   ],
   "metadata": {
    "collapsed": false,
    "ExecuteTime": {
     "end_time": "2024-06-11T21:36:48.598836200Z",
     "start_time": "2024-06-11T21:36:48.562825300Z"
    }
   },
   "id": "bb368b686c5d2041"
  },
  {
   "cell_type": "code",
   "execution_count": 12,
   "outputs": [
    {
     "data": {
      "text/plain": "                         Date           X            Y           Z      RPM  \\\n0     2023-08-27 13:03:05.334  627.102635  4068.147684  537.000000  10088.0   \n1     2023-08-27 13:03:05.416  627.063361  4068.091758  537.000000  10093.0   \n2     2023-08-27 13:03:05.475  627.000000  4068.000000  537.000000  10078.0   \n3     2023-08-27 13:03:05.616  626.732545  4067.612678  537.000000  10063.0   \n4     2023-08-27 13:03:05.895  627.000000  4069.000000  537.000000   9290.0   \n...                       ...         ...          ...         ...      ...   \n65043 2023-08-27 15:27:09.447  349.933480  3378.183434  536.999857  11311.0   \n65044 2023-08-27 15:27:09.767  423.712192  3569.586271  536.999989  11425.0   \n65045 2023-08-27 15:27:09.790  429.000000  3583.000000  537.000000  11441.0   \n65046 2023-08-27 15:27:10.082  501.224720  3762.024622  537.000019  11449.0   \n65047                     NaT         NaN          NaN         NaN      NaN   \n\n       Brake  DRS  Throttle  Speed  nGear  Team Radio  \n0      False  1.0      15.0    0.0    1.0         0.0  \n1      False  1.0      15.0    0.0    1.0         0.0  \n2      False  1.0      15.0    0.0    1.0         0.0  \n3      False  1.0      15.0    0.0    1.0         0.0  \n4      False  1.0      15.0    0.0    1.0         0.0  \n...      ...  ...       ...    ...    ...         ...  \n65043  False  1.0     100.0  290.0    7.0         0.0  \n65044  False  1.0     100.0  290.0    7.0         1.0  \n65045  False  1.0     100.0  290.0    7.0         0.0  \n65046  False  1.0     100.0  290.0    7.0         0.0  \n65047    NaN  NaN       NaN    NaN    NaN         1.0  \n\n[65048 rows x 11 columns]",
      "text/html": "<div>\n<style scoped>\n    .dataframe tbody tr th:only-of-type {\n        vertical-align: middle;\n    }\n\n    .dataframe tbody tr th {\n        vertical-align: top;\n    }\n\n    .dataframe thead th {\n        text-align: right;\n    }\n</style>\n<table border=\"1\" class=\"dataframe\">\n  <thead>\n    <tr style=\"text-align: right;\">\n      <th></th>\n      <th>Date</th>\n      <th>X</th>\n      <th>Y</th>\n      <th>Z</th>\n      <th>RPM</th>\n      <th>Brake</th>\n      <th>DRS</th>\n      <th>Throttle</th>\n      <th>Speed</th>\n      <th>nGear</th>\n      <th>Team Radio</th>\n    </tr>\n  </thead>\n  <tbody>\n    <tr>\n      <th>0</th>\n      <td>2023-08-27 13:03:05.334</td>\n      <td>627.102635</td>\n      <td>4068.147684</td>\n      <td>537.000000</td>\n      <td>10088.0</td>\n      <td>False</td>\n      <td>1.0</td>\n      <td>15.0</td>\n      <td>0.0</td>\n      <td>1.0</td>\n      <td>0.0</td>\n    </tr>\n    <tr>\n      <th>1</th>\n      <td>2023-08-27 13:03:05.416</td>\n      <td>627.063361</td>\n      <td>4068.091758</td>\n      <td>537.000000</td>\n      <td>10093.0</td>\n      <td>False</td>\n      <td>1.0</td>\n      <td>15.0</td>\n      <td>0.0</td>\n      <td>1.0</td>\n      <td>0.0</td>\n    </tr>\n    <tr>\n      <th>2</th>\n      <td>2023-08-27 13:03:05.475</td>\n      <td>627.000000</td>\n      <td>4068.000000</td>\n      <td>537.000000</td>\n      <td>10078.0</td>\n      <td>False</td>\n      <td>1.0</td>\n      <td>15.0</td>\n      <td>0.0</td>\n      <td>1.0</td>\n      <td>0.0</td>\n    </tr>\n    <tr>\n      <th>3</th>\n      <td>2023-08-27 13:03:05.616</td>\n      <td>626.732545</td>\n      <td>4067.612678</td>\n      <td>537.000000</td>\n      <td>10063.0</td>\n      <td>False</td>\n      <td>1.0</td>\n      <td>15.0</td>\n      <td>0.0</td>\n      <td>1.0</td>\n      <td>0.0</td>\n    </tr>\n    <tr>\n      <th>4</th>\n      <td>2023-08-27 13:03:05.895</td>\n      <td>627.000000</td>\n      <td>4069.000000</td>\n      <td>537.000000</td>\n      <td>9290.0</td>\n      <td>False</td>\n      <td>1.0</td>\n      <td>15.0</td>\n      <td>0.0</td>\n      <td>1.0</td>\n      <td>0.0</td>\n    </tr>\n    <tr>\n      <th>...</th>\n      <td>...</td>\n      <td>...</td>\n      <td>...</td>\n      <td>...</td>\n      <td>...</td>\n      <td>...</td>\n      <td>...</td>\n      <td>...</td>\n      <td>...</td>\n      <td>...</td>\n      <td>...</td>\n    </tr>\n    <tr>\n      <th>65043</th>\n      <td>2023-08-27 15:27:09.447</td>\n      <td>349.933480</td>\n      <td>3378.183434</td>\n      <td>536.999857</td>\n      <td>11311.0</td>\n      <td>False</td>\n      <td>1.0</td>\n      <td>100.0</td>\n      <td>290.0</td>\n      <td>7.0</td>\n      <td>0.0</td>\n    </tr>\n    <tr>\n      <th>65044</th>\n      <td>2023-08-27 15:27:09.767</td>\n      <td>423.712192</td>\n      <td>3569.586271</td>\n      <td>536.999989</td>\n      <td>11425.0</td>\n      <td>False</td>\n      <td>1.0</td>\n      <td>100.0</td>\n      <td>290.0</td>\n      <td>7.0</td>\n      <td>1.0</td>\n    </tr>\n    <tr>\n      <th>65045</th>\n      <td>2023-08-27 15:27:09.790</td>\n      <td>429.000000</td>\n      <td>3583.000000</td>\n      <td>537.000000</td>\n      <td>11441.0</td>\n      <td>False</td>\n      <td>1.0</td>\n      <td>100.0</td>\n      <td>290.0</td>\n      <td>7.0</td>\n      <td>0.0</td>\n    </tr>\n    <tr>\n      <th>65046</th>\n      <td>2023-08-27 15:27:10.082</td>\n      <td>501.224720</td>\n      <td>3762.024622</td>\n      <td>537.000019</td>\n      <td>11449.0</td>\n      <td>False</td>\n      <td>1.0</td>\n      <td>100.0</td>\n      <td>290.0</td>\n      <td>7.0</td>\n      <td>0.0</td>\n    </tr>\n    <tr>\n      <th>65047</th>\n      <td>NaT</td>\n      <td>NaN</td>\n      <td>NaN</td>\n      <td>NaN</td>\n      <td>NaN</td>\n      <td>NaN</td>\n      <td>NaN</td>\n      <td>NaN</td>\n      <td>NaN</td>\n      <td>NaN</td>\n      <td>1.0</td>\n    </tr>\n  </tbody>\n</table>\n<p>65048 rows × 11 columns</p>\n</div>"
     },
     "execution_count": 12,
     "metadata": {},
     "output_type": "execute_result"
    }
   ],
   "source": [
    "index_list = match_timestamps_reverse(dates, tel)\n",
    "telemetry = tel.copy()\n",
    "telemetry.reset_index()\n",
    "telemetry.insert(len(telemetry.columns),\"Team Radio\",0)\n",
    "\n",
    "for i in index_list:\n",
    "    telemetry.loc[i,'Team Radio']=1\n",
    "    \n",
    "telemetry = telemetry.reset_index(drop=True)\n",
    "telemetry"
   ],
   "metadata": {
    "collapsed": false,
    "ExecuteTime": {
     "end_time": "2024-06-11T21:36:01.437096100Z",
     "start_time": "2024-06-11T21:36:01.390545100Z"
    }
   },
   "id": "43f300dd53b15d20"
  },
  {
   "cell_type": "code",
   "execution_count": 15,
   "outputs": [
    {
     "data": {
      "text/plain": "[1317,\n 8671,\n 20203,\n 20728,\n 24797,\n 34966,\n 35753,\n 38045,\n 38065,\n 58530,\n 59021,\n 60529,\n 65044,\n 65047]"
     },
     "execution_count": 15,
     "metadata": {},
     "output_type": "execute_result"
    }
   ],
   "source": [
    "telemetry.index[telemetry['Team Radio'] == 1].tolist()\n"
   ],
   "metadata": {
    "collapsed": false,
    "ExecuteTime": {
     "end_time": "2024-06-11T21:41:17.619572900Z",
     "start_time": "2024-06-11T21:41:17.597375200Z"
    }
   },
   "id": "3b7598861fdc511b"
  },
  {
   "cell_type": "code",
   "execution_count": 18,
   "outputs": [
    {
     "data": {
      "text/plain": "                         Date            X            Y           Z    RPM  \\\n1317  2023-08-27 13:05:58.817  1252.023502  1626.517718  510.112007   5833   \n1318  2023-08-27 13:05:58.975  1238.000000  1601.000000  511.000000   5947   \n1319  2023-08-27 13:05:59.097  1229.173203  1578.831505  511.377195   6062   \n1320  2023-08-27 13:05:59.297  1218.397340  1540.160026  511.710055   6027   \n1321  2023-08-27 13:05:59.354  1216.000000  1530.000000  512.000000   6186   \n...                       ...          ...          ...         ...    ...   \n65044 2023-08-27 15:27:09.370   326.000000  3316.000000  537.000000  11325   \n65045 2023-08-27 15:27:09.447   349.933480  3378.183434  536.999857  11311   \n65046 2023-08-27 15:27:09.767   423.712192  3569.586271  536.999989  11425   \n65047 2023-08-27 15:27:09.790   429.000000  3583.000000  537.000000  11441   \n65048 2023-08-27 15:27:10.082   501.224720  3762.024622  537.000019  11449   \n\n       Brake  DRS  Throttle  Speed  nGear  \n1317   False    1         5     66      2  \n1318   False    1         6     66      2  \n1319   False    1         7     67      2  \n1320   False    1        10     68      2  \n1321   False    1        10     68      2  \n...      ...  ...       ...    ...    ...  \n65044  False    1       100    290      7  \n65045  False    1       100    290      7  \n65046  False    1       100    290      7  \n65047  False    1       100    290      7  \n65048  False    1       100    290      7  \n\n[63732 rows x 10 columns]",
      "text/html": "<div>\n<style scoped>\n    .dataframe tbody tr th:only-of-type {\n        vertical-align: middle;\n    }\n\n    .dataframe tbody tr th {\n        vertical-align: top;\n    }\n\n    .dataframe thead th {\n        text-align: right;\n    }\n</style>\n<table border=\"1\" class=\"dataframe\">\n  <thead>\n    <tr style=\"text-align: right;\">\n      <th></th>\n      <th>Date</th>\n      <th>X</th>\n      <th>Y</th>\n      <th>Z</th>\n      <th>RPM</th>\n      <th>Brake</th>\n      <th>DRS</th>\n      <th>Throttle</th>\n      <th>Speed</th>\n      <th>nGear</th>\n    </tr>\n  </thead>\n  <tbody>\n    <tr>\n      <th>1317</th>\n      <td>2023-08-27 13:05:58.817</td>\n      <td>1252.023502</td>\n      <td>1626.517718</td>\n      <td>510.112007</td>\n      <td>5833</td>\n      <td>False</td>\n      <td>1</td>\n      <td>5</td>\n      <td>66</td>\n      <td>2</td>\n    </tr>\n    <tr>\n      <th>1318</th>\n      <td>2023-08-27 13:05:58.975</td>\n      <td>1238.000000</td>\n      <td>1601.000000</td>\n      <td>511.000000</td>\n      <td>5947</td>\n      <td>False</td>\n      <td>1</td>\n      <td>6</td>\n      <td>66</td>\n      <td>2</td>\n    </tr>\n    <tr>\n      <th>1319</th>\n      <td>2023-08-27 13:05:59.097</td>\n      <td>1229.173203</td>\n      <td>1578.831505</td>\n      <td>511.377195</td>\n      <td>6062</td>\n      <td>False</td>\n      <td>1</td>\n      <td>7</td>\n      <td>67</td>\n      <td>2</td>\n    </tr>\n    <tr>\n      <th>1320</th>\n      <td>2023-08-27 13:05:59.297</td>\n      <td>1218.397340</td>\n      <td>1540.160026</td>\n      <td>511.710055</td>\n      <td>6027</td>\n      <td>False</td>\n      <td>1</td>\n      <td>10</td>\n      <td>68</td>\n      <td>2</td>\n    </tr>\n    <tr>\n      <th>1321</th>\n      <td>2023-08-27 13:05:59.354</td>\n      <td>1216.000000</td>\n      <td>1530.000000</td>\n      <td>512.000000</td>\n      <td>6186</td>\n      <td>False</td>\n      <td>1</td>\n      <td>10</td>\n      <td>68</td>\n      <td>2</td>\n    </tr>\n    <tr>\n      <th>...</th>\n      <td>...</td>\n      <td>...</td>\n      <td>...</td>\n      <td>...</td>\n      <td>...</td>\n      <td>...</td>\n      <td>...</td>\n      <td>...</td>\n      <td>...</td>\n      <td>...</td>\n    </tr>\n    <tr>\n      <th>65044</th>\n      <td>2023-08-27 15:27:09.370</td>\n      <td>326.000000</td>\n      <td>3316.000000</td>\n      <td>537.000000</td>\n      <td>11325</td>\n      <td>False</td>\n      <td>1</td>\n      <td>100</td>\n      <td>290</td>\n      <td>7</td>\n    </tr>\n    <tr>\n      <th>65045</th>\n      <td>2023-08-27 15:27:09.447</td>\n      <td>349.933480</td>\n      <td>3378.183434</td>\n      <td>536.999857</td>\n      <td>11311</td>\n      <td>False</td>\n      <td>1</td>\n      <td>100</td>\n      <td>290</td>\n      <td>7</td>\n    </tr>\n    <tr>\n      <th>65046</th>\n      <td>2023-08-27 15:27:09.767</td>\n      <td>423.712192</td>\n      <td>3569.586271</td>\n      <td>536.999989</td>\n      <td>11425</td>\n      <td>False</td>\n      <td>1</td>\n      <td>100</td>\n      <td>290</td>\n      <td>7</td>\n    </tr>\n    <tr>\n      <th>65047</th>\n      <td>2023-08-27 15:27:09.790</td>\n      <td>429.000000</td>\n      <td>3583.000000</td>\n      <td>537.000000</td>\n      <td>11441</td>\n      <td>False</td>\n      <td>1</td>\n      <td>100</td>\n      <td>290</td>\n      <td>7</td>\n    </tr>\n    <tr>\n      <th>65048</th>\n      <td>2023-08-27 15:27:10.082</td>\n      <td>501.224720</td>\n      <td>3762.024622</td>\n      <td>537.000019</td>\n      <td>11449</td>\n      <td>False</td>\n      <td>1</td>\n      <td>100</td>\n      <td>290</td>\n      <td>7</td>\n    </tr>\n  </tbody>\n</table>\n<p>63732 rows × 10 columns</p>\n</div>"
     },
     "execution_count": 18,
     "metadata": {},
     "output_type": "execute_result"
    }
   ],
   "source": [
    "tel.iloc[1315:,:]"
   ],
   "metadata": {
    "collapsed": false,
    "ExecuteTime": {
     "end_time": "2024-06-11T21:42:40.594221Z",
     "start_time": "2024-06-11T21:42:40.562740100Z"
    }
   },
   "id": "e19f2c89a54cad68"
  },
  {
   "cell_type": "code",
   "execution_count": 17,
   "outputs": [
    {
     "data": {
      "text/plain": "                         Date            X            Y           Z      RPM  \\\n1315  2023-08-27 13:05:58.817  1252.023502  1626.517718  510.112007   5833.0   \n1316  2023-08-27 13:05:58.975  1238.000000  1601.000000  511.000000   5947.0   \n1317  2023-08-27 13:05:59.097  1229.173203  1578.831505  511.377195   6062.0   \n1318  2023-08-27 13:05:59.297  1218.397340  1540.160026  511.710055   6027.0   \n1319  2023-08-27 13:05:59.354  1216.000000  1530.000000  512.000000   6186.0   \n...                       ...          ...          ...         ...      ...   \n65043 2023-08-27 15:27:09.447   349.933480  3378.183434  536.999857  11311.0   \n65044 2023-08-27 15:27:09.767   423.712192  3569.586271  536.999989  11425.0   \n65045 2023-08-27 15:27:09.790   429.000000  3583.000000  537.000000  11441.0   \n65046 2023-08-27 15:27:10.082   501.224720  3762.024622  537.000019  11449.0   \n65047                     NaT          NaN          NaN         NaN      NaN   \n\n       Brake  DRS  Throttle  Speed  nGear  Team Radio  \n1315   False  1.0       5.0   66.0    2.0         0.0  \n1316   False  1.0       6.0   66.0    2.0         0.0  \n1317   False  1.0       7.0   67.0    2.0         1.0  \n1318   False  1.0      10.0   68.0    2.0         0.0  \n1319   False  1.0      10.0   68.0    2.0         0.0  \n...      ...  ...       ...    ...    ...         ...  \n65043  False  1.0     100.0  290.0    7.0         0.0  \n65044  False  1.0     100.0  290.0    7.0         1.0  \n65045  False  1.0     100.0  290.0    7.0         0.0  \n65046  False  1.0     100.0  290.0    7.0         0.0  \n65047    NaN  NaN       NaN    NaN    NaN         1.0  \n\n[63733 rows x 11 columns]",
      "text/html": "<div>\n<style scoped>\n    .dataframe tbody tr th:only-of-type {\n        vertical-align: middle;\n    }\n\n    .dataframe tbody tr th {\n        vertical-align: top;\n    }\n\n    .dataframe thead th {\n        text-align: right;\n    }\n</style>\n<table border=\"1\" class=\"dataframe\">\n  <thead>\n    <tr style=\"text-align: right;\">\n      <th></th>\n      <th>Date</th>\n      <th>X</th>\n      <th>Y</th>\n      <th>Z</th>\n      <th>RPM</th>\n      <th>Brake</th>\n      <th>DRS</th>\n      <th>Throttle</th>\n      <th>Speed</th>\n      <th>nGear</th>\n      <th>Team Radio</th>\n    </tr>\n  </thead>\n  <tbody>\n    <tr>\n      <th>1315</th>\n      <td>2023-08-27 13:05:58.817</td>\n      <td>1252.023502</td>\n      <td>1626.517718</td>\n      <td>510.112007</td>\n      <td>5833.0</td>\n      <td>False</td>\n      <td>1.0</td>\n      <td>5.0</td>\n      <td>66.0</td>\n      <td>2.0</td>\n      <td>0.0</td>\n    </tr>\n    <tr>\n      <th>1316</th>\n      <td>2023-08-27 13:05:58.975</td>\n      <td>1238.000000</td>\n      <td>1601.000000</td>\n      <td>511.000000</td>\n      <td>5947.0</td>\n      <td>False</td>\n      <td>1.0</td>\n      <td>6.0</td>\n      <td>66.0</td>\n      <td>2.0</td>\n      <td>0.0</td>\n    </tr>\n    <tr>\n      <th>1317</th>\n      <td>2023-08-27 13:05:59.097</td>\n      <td>1229.173203</td>\n      <td>1578.831505</td>\n      <td>511.377195</td>\n      <td>6062.0</td>\n      <td>False</td>\n      <td>1.0</td>\n      <td>7.0</td>\n      <td>67.0</td>\n      <td>2.0</td>\n      <td>1.0</td>\n    </tr>\n    <tr>\n      <th>1318</th>\n      <td>2023-08-27 13:05:59.297</td>\n      <td>1218.397340</td>\n      <td>1540.160026</td>\n      <td>511.710055</td>\n      <td>6027.0</td>\n      <td>False</td>\n      <td>1.0</td>\n      <td>10.0</td>\n      <td>68.0</td>\n      <td>2.0</td>\n      <td>0.0</td>\n    </tr>\n    <tr>\n      <th>1319</th>\n      <td>2023-08-27 13:05:59.354</td>\n      <td>1216.000000</td>\n      <td>1530.000000</td>\n      <td>512.000000</td>\n      <td>6186.0</td>\n      <td>False</td>\n      <td>1.0</td>\n      <td>10.0</td>\n      <td>68.0</td>\n      <td>2.0</td>\n      <td>0.0</td>\n    </tr>\n    <tr>\n      <th>...</th>\n      <td>...</td>\n      <td>...</td>\n      <td>...</td>\n      <td>...</td>\n      <td>...</td>\n      <td>...</td>\n      <td>...</td>\n      <td>...</td>\n      <td>...</td>\n      <td>...</td>\n      <td>...</td>\n    </tr>\n    <tr>\n      <th>65043</th>\n      <td>2023-08-27 15:27:09.447</td>\n      <td>349.933480</td>\n      <td>3378.183434</td>\n      <td>536.999857</td>\n      <td>11311.0</td>\n      <td>False</td>\n      <td>1.0</td>\n      <td>100.0</td>\n      <td>290.0</td>\n      <td>7.0</td>\n      <td>0.0</td>\n    </tr>\n    <tr>\n      <th>65044</th>\n      <td>2023-08-27 15:27:09.767</td>\n      <td>423.712192</td>\n      <td>3569.586271</td>\n      <td>536.999989</td>\n      <td>11425.0</td>\n      <td>False</td>\n      <td>1.0</td>\n      <td>100.0</td>\n      <td>290.0</td>\n      <td>7.0</td>\n      <td>1.0</td>\n    </tr>\n    <tr>\n      <th>65045</th>\n      <td>2023-08-27 15:27:09.790</td>\n      <td>429.000000</td>\n      <td>3583.000000</td>\n      <td>537.000000</td>\n      <td>11441.0</td>\n      <td>False</td>\n      <td>1.0</td>\n      <td>100.0</td>\n      <td>290.0</td>\n      <td>7.0</td>\n      <td>0.0</td>\n    </tr>\n    <tr>\n      <th>65046</th>\n      <td>2023-08-27 15:27:10.082</td>\n      <td>501.224720</td>\n      <td>3762.024622</td>\n      <td>537.000019</td>\n      <td>11449.0</td>\n      <td>False</td>\n      <td>1.0</td>\n      <td>100.0</td>\n      <td>290.0</td>\n      <td>7.0</td>\n      <td>0.0</td>\n    </tr>\n    <tr>\n      <th>65047</th>\n      <td>NaT</td>\n      <td>NaN</td>\n      <td>NaN</td>\n      <td>NaN</td>\n      <td>NaN</td>\n      <td>NaN</td>\n      <td>NaN</td>\n      <td>NaN</td>\n      <td>NaN</td>\n      <td>NaN</td>\n      <td>1.0</td>\n    </tr>\n  </tbody>\n</table>\n<p>63733 rows × 11 columns</p>\n</div>"
     },
     "execution_count": 17,
     "metadata": {},
     "output_type": "execute_result"
    }
   ],
   "source": [
    "telemetry.iloc[1315:,:]"
   ],
   "metadata": {
    "collapsed": false,
    "ExecuteTime": {
     "end_time": "2024-06-11T21:41:49.403800Z",
     "start_time": "2024-06-11T21:41:49.387820Z"
    }
   },
   "id": "b3e62f2077fbd671"
  },
  {
   "cell_type": "code",
   "execution_count": 19,
   "outputs": [
    {
     "name": "stderr",
     "output_type": "stream",
     "text": [
      "core           INFO \tLoading data for Bahrain Grand Prix - Race [v3.3.2]\n",
      "req            INFO \tUsing cached data for session_info\n",
      "req            INFO \tUsing cached data for driver_info\n",
      "req            INFO \tUsing cached data for session_status_data\n",
      "req            INFO \tUsing cached data for lap_count\n",
      "req            INFO \tUsing cached data for track_status_data\n",
      "req            INFO \tUsing cached data for _extended_timing_data\n",
      "req            INFO \tUsing cached data for timing_app_data\n",
      "core           INFO \tProcessing timing data...\n",
      "req            INFO \tUsing cached data for car_data\n",
      "req            INFO \tUsing cached data for position_data\n",
      "req            INFO \tUsing cached data for weather_data\n",
      "req            INFO \tUsing cached data for race_control_messages\n",
      "core           INFO \tFinished loading data for 20 drivers: ['16', '55', '44', '63', '20', '77', '31', '22', '14', '24', '47', '18', '23', '3', '4', '6', '27', '11', '1', '10']\n",
      "core           INFO \tLoading data for Australian Grand Prix - Race [v3.3.2]\n",
      "req            INFO \tUsing cached data for session_info\n",
      "req            INFO \tUsing cached data for driver_info\n",
      "req            INFO \tUsing cached data for session_status_data\n",
      "req            INFO \tUsing cached data for lap_count\n",
      "req            INFO \tUsing cached data for track_status_data\n",
      "req            INFO \tUsing cached data for _extended_timing_data\n",
      "req            INFO \tUsing cached data for timing_app_data\n",
      "core           INFO \tProcessing timing data...\n",
      "req            INFO \tUsing cached data for car_data\n",
      "req            INFO \tUsing cached data for position_data\n",
      "req            INFO \tUsing cached data for weather_data\n",
      "req            INFO \tUsing cached data for race_control_messages\n",
      "core           INFO \tFinished loading data for 20 drivers: ['16', '11', '63', '44', '4', '3', '31', '77', '10', '23', '24', '18', '47', '20', '22', '6', '14', '1', '5', '55']\n",
      "core           INFO \tLoading data for Emilia Romagna Grand Prix - Race [v3.3.2]\n",
      "req            INFO \tUsing cached data for session_info\n",
      "req            INFO \tUsing cached data for driver_info\n",
      "req            INFO \tUsing cached data for session_status_data\n",
      "req            INFO \tUsing cached data for lap_count\n",
      "req            INFO \tUsing cached data for track_status_data\n",
      "req            INFO \tUsing cached data for _extended_timing_data\n",
      "req            INFO \tUsing cached data for timing_app_data\n",
      "core           INFO \tProcessing timing data...\n",
      "req            INFO \tUsing cached data for car_data\n",
      "req            INFO \tUsing cached data for position_data\n",
      "req            INFO \tUsing cached data for weather_data\n",
      "req            INFO \tUsing cached data for race_control_messages\n",
      "core           INFO \tFinished loading data for 20 drivers: ['1', '11', '4', '63', '77', '16', '22', '5', '20', '18', '23', '10', '44', '31', '24', '6', '47', '3', '14', '55']\n",
      "core        WARNING \tFailed to preserve data type for column 'X' while merging telemetry.\n",
      "core        WARNING \tFailed to preserve data type for column 'Y' while merging telemetry.\n",
      "core        WARNING \tFailed to preserve data type for column 'Z' while merging telemetry.\n",
      "core        WARNING \tFailed to preserve data type for column 'X' while merging telemetry.\n",
      "core        WARNING \tFailed to preserve data type for column 'Y' while merging telemetry.\n",
      "core        WARNING \tFailed to preserve data type for column 'Z' while merging telemetry.\n",
      "core        WARNING \tFailed to preserve data type for column 'X' while merging telemetry.\n",
      "core        WARNING \tFailed to preserve data type for column 'Y' while merging telemetry.\n",
      "core        WARNING \tFailed to preserve data type for column 'Z' while merging telemetry.\n",
      "core        WARNING \tFailed to preserve data type for column 'X' while merging telemetry.\n",
      "core        WARNING \tFailed to preserve data type for column 'Y' while merging telemetry.\n",
      "core        WARNING \tFailed to preserve data type for column 'Z' while merging telemetry.\n",
      "core        WARNING \tFailed to preserve data type for column 'X' while merging telemetry.\n",
      "core        WARNING \tFailed to preserve data type for column 'Y' while merging telemetry.\n",
      "core        WARNING \tFailed to preserve data type for column 'Z' while merging telemetry.\n",
      "core        WARNING \tFailed to preserve data type for column 'X' while merging telemetry.\n",
      "core        WARNING \tFailed to preserve data type for column 'Y' while merging telemetry.\n",
      "core        WARNING \tFailed to preserve data type for column 'Z' while merging telemetry.\n",
      "core        WARNING \tFailed to preserve data type for column 'X' while merging telemetry.\n",
      "core        WARNING \tFailed to preserve data type for column 'Y' while merging telemetry.\n",
      "core        WARNING \tFailed to preserve data type for column 'Z' while merging telemetry.\n",
      "core        WARNING \tFailed to preserve data type for column 'X' while merging telemetry.\n",
      "core        WARNING \tFailed to preserve data type for column 'Y' while merging telemetry.\n",
      "core        WARNING \tFailed to preserve data type for column 'Z' while merging telemetry.\n",
      "core        WARNING \tFailed to preserve data type for column 'X' while merging telemetry.\n",
      "core        WARNING \tFailed to preserve data type for column 'Y' while merging telemetry.\n",
      "core        WARNING \tFailed to preserve data type for column 'Z' while merging telemetry.\n",
      "core        WARNING \tFailed to preserve data type for column 'X' while merging telemetry.\n",
      "core        WARNING \tFailed to preserve data type for column 'Y' while merging telemetry.\n",
      "core        WARNING \tFailed to preserve data type for column 'Z' while merging telemetry.\n",
      "core        WARNING \tFailed to preserve data type for column 'X' while merging telemetry.\n",
      "core        WARNING \tFailed to preserve data type for column 'Y' while merging telemetry.\n",
      "core        WARNING \tFailed to preserve data type for column 'Z' while merging telemetry.\n",
      "core        WARNING \tFailed to preserve data type for column 'X' while merging telemetry.\n",
      "core        WARNING \tFailed to preserve data type for column 'Y' while merging telemetry.\n",
      "core        WARNING \tFailed to preserve data type for column 'Z' while merging telemetry.\n",
      "core        WARNING \tFailed to preserve data type for column 'X' while merging telemetry.\n",
      "core        WARNING \tFailed to preserve data type for column 'Y' while merging telemetry.\n",
      "core        WARNING \tFailed to preserve data type for column 'Z' while merging telemetry.\n",
      "core        WARNING \tFailed to preserve data type for column 'X' while merging telemetry.\n",
      "core        WARNING \tFailed to preserve data type for column 'Y' while merging telemetry.\n",
      "core        WARNING \tFailed to preserve data type for column 'Z' while merging telemetry.\n",
      "core        WARNING \tFailed to preserve data type for column 'X' while merging telemetry.\n",
      "core        WARNING \tFailed to preserve data type for column 'Y' while merging telemetry.\n",
      "core        WARNING \tFailed to preserve data type for column 'Z' while merging telemetry.\n",
      "core        WARNING \tFailed to preserve data type for column 'X' while merging telemetry.\n",
      "core        WARNING \tFailed to preserve data type for column 'Y' while merging telemetry.\n",
      "core        WARNING \tFailed to preserve data type for column 'Z' while merging telemetry.\n",
      "core        WARNING \tFailed to preserve data type for column 'X' while merging telemetry.\n",
      "core        WARNING \tFailed to preserve data type for column 'Y' while merging telemetry.\n",
      "core        WARNING \tFailed to preserve data type for column 'Z' while merging telemetry.\n",
      "core        WARNING \tFailed to preserve data type for column 'X' while merging telemetry.\n",
      "core        WARNING \tFailed to preserve data type for column 'Y' while merging telemetry.\n",
      "core        WARNING \tFailed to preserve data type for column 'Z' while merging telemetry.\n",
      "core        WARNING \tFailed to preserve data type for column 'X' while merging telemetry.\n",
      "core        WARNING \tFailed to preserve data type for column 'Y' while merging telemetry.\n",
      "core        WARNING \tFailed to preserve data type for column 'Z' while merging telemetry.\n",
      "core        WARNING \tFailed to preserve data type for column 'X' while merging telemetry.\n",
      "core        WARNING \tFailed to preserve data type for column 'Y' while merging telemetry.\n",
      "core        WARNING \tFailed to preserve data type for column 'Z' while merging telemetry.\n",
      "core           INFO \tLoading data for Spanish Grand Prix - Race [v3.3.2]\n",
      "req            INFO \tUsing cached data for session_info\n",
      "req            INFO \tUsing cached data for driver_info\n",
      "req            INFO \tUsing cached data for session_status_data\n",
      "req            INFO \tUsing cached data for lap_count\n",
      "req            INFO \tUsing cached data for track_status_data\n",
      "req            INFO \tUsing cached data for _extended_timing_data\n",
      "req            INFO \tUsing cached data for timing_app_data\n",
      "core           INFO \tProcessing timing data...\n",
      "req            INFO \tUsing cached data for car_data\n",
      "req            INFO \tUsing cached data for position_data\n",
      "req            INFO \tUsing cached data for weather_data\n",
      "req            INFO \tUsing cached data for race_control_messages\n",
      "core           INFO \tFinished loading data for 20 drivers: ['1', '11', '63', '55', '44', '77', '31', '4', '14', '22', '5', '3', '10', '47', '18', '6', '20', '23', '24', '16']\n",
      "core        WARNING \tFailed to preserve data type for column 'X' while merging telemetry.\n",
      "core        WARNING \tFailed to preserve data type for column 'Y' while merging telemetry.\n",
      "core        WARNING \tFailed to preserve data type for column 'Z' while merging telemetry.\n",
      "core        WARNING \tFailed to preserve data type for column 'X' while merging telemetry.\n",
      "core        WARNING \tFailed to preserve data type for column 'Y' while merging telemetry.\n",
      "core        WARNING \tFailed to preserve data type for column 'Z' while merging telemetry.\n",
      "core        WARNING \tFailed to preserve data type for column 'X' while merging telemetry.\n",
      "core        WARNING \tFailed to preserve data type for column 'Y' while merging telemetry.\n",
      "core        WARNING \tFailed to preserve data type for column 'Z' while merging telemetry.\n",
      "core        WARNING \tFailed to preserve data type for column 'X' while merging telemetry.\n",
      "core        WARNING \tFailed to preserve data type for column 'Y' while merging telemetry.\n",
      "core        WARNING \tFailed to preserve data type for column 'Z' while merging telemetry.\n",
      "core        WARNING \tFailed to preserve data type for column 'X' while merging telemetry.\n",
      "core        WARNING \tFailed to preserve data type for column 'Y' while merging telemetry.\n",
      "core        WARNING \tFailed to preserve data type for column 'Z' while merging telemetry.\n",
      "core        WARNING \tFailed to preserve data type for column 'X' while merging telemetry.\n",
      "core        WARNING \tFailed to preserve data type for column 'Y' while merging telemetry.\n",
      "core        WARNING \tFailed to preserve data type for column 'Z' while merging telemetry.\n",
      "core        WARNING \tFailed to preserve data type for column 'X' while merging telemetry.\n",
      "core        WARNING \tFailed to preserve data type for column 'Y' while merging telemetry.\n",
      "core        WARNING \tFailed to preserve data type for column 'Z' while merging telemetry.\n",
      "core        WARNING \tFailed to preserve data type for column 'X' while merging telemetry.\n",
      "core        WARNING \tFailed to preserve data type for column 'Y' while merging telemetry.\n",
      "core        WARNING \tFailed to preserve data type for column 'Z' while merging telemetry.\n",
      "core        WARNING \tFailed to preserve data type for column 'X' while merging telemetry.\n",
      "core        WARNING \tFailed to preserve data type for column 'Y' while merging telemetry.\n",
      "core        WARNING \tFailed to preserve data type for column 'Z' while merging telemetry.\n",
      "core        WARNING \tFailed to preserve data type for column 'X' while merging telemetry.\n",
      "core        WARNING \tFailed to preserve data type for column 'Y' while merging telemetry.\n",
      "core        WARNING \tFailed to preserve data type for column 'Z' while merging telemetry.\n",
      "core        WARNING \tFailed to preserve data type for column 'X' while merging telemetry.\n",
      "core        WARNING \tFailed to preserve data type for column 'Y' while merging telemetry.\n",
      "core        WARNING \tFailed to preserve data type for column 'Z' while merging telemetry.\n",
      "core        WARNING \tFailed to preserve data type for column 'X' while merging telemetry.\n",
      "core        WARNING \tFailed to preserve data type for column 'Y' while merging telemetry.\n",
      "core        WARNING \tFailed to preserve data type for column 'Z' while merging telemetry.\n",
      "core        WARNING \tFailed to preserve data type for column 'X' while merging telemetry.\n",
      "core        WARNING \tFailed to preserve data type for column 'Y' while merging telemetry.\n",
      "core        WARNING \tFailed to preserve data type for column 'Z' while merging telemetry.\n",
      "core        WARNING \tFailed to preserve data type for column 'X' while merging telemetry.\n",
      "core        WARNING \tFailed to preserve data type for column 'Y' while merging telemetry.\n",
      "core        WARNING \tFailed to preserve data type for column 'Z' while merging telemetry.\n",
      "core        WARNING \tFailed to preserve data type for column 'X' while merging telemetry.\n",
      "core        WARNING \tFailed to preserve data type for column 'Y' while merging telemetry.\n",
      "core        WARNING \tFailed to preserve data type for column 'Z' while merging telemetry.\n",
      "core        WARNING \tFailed to preserve data type for column 'X' while merging telemetry.\n",
      "core        WARNING \tFailed to preserve data type for column 'Y' while merging telemetry.\n",
      "core        WARNING \tFailed to preserve data type for column 'Z' while merging telemetry.\n",
      "core        WARNING \tFailed to preserve data type for column 'X' while merging telemetry.\n",
      "core        WARNING \tFailed to preserve data type for column 'Y' while merging telemetry.\n",
      "core        WARNING \tFailed to preserve data type for column 'Z' while merging telemetry.\n",
      "core        WARNING \tFailed to preserve data type for column 'X' while merging telemetry.\n",
      "core        WARNING \tFailed to preserve data type for column 'Y' while merging telemetry.\n",
      "core        WARNING \tFailed to preserve data type for column 'Z' while merging telemetry.\n",
      "core        WARNING \tFailed to preserve data type for column 'X' while merging telemetry.\n",
      "core        WARNING \tFailed to preserve data type for column 'Y' while merging telemetry.\n",
      "core        WARNING \tFailed to preserve data type for column 'Z' while merging telemetry.\n",
      "core        WARNING \tFailed to preserve data type for column 'X' while merging telemetry.\n",
      "core        WARNING \tFailed to preserve data type for column 'Y' while merging telemetry.\n",
      "core        WARNING \tFailed to preserve data type for column 'Z' while merging telemetry.\n",
      "core           INFO \tLoading data for Monaco Grand Prix - Race [v3.3.2]\n",
      "req            INFO \tUsing cached data for session_info\n",
      "req            INFO \tUsing cached data for driver_info\n",
      "req            INFO \tUsing cached data for session_status_data\n",
      "req            INFO \tUsing cached data for lap_count\n",
      "req            INFO \tUsing cached data for track_status_data\n",
      "req            INFO \tUsing cached data for _extended_timing_data\n",
      "req            INFO \tUsing cached data for timing_app_data\n",
      "core           INFO \tProcessing timing data...\n",
      "req            INFO \tUsing cached data for car_data\n",
      "req            INFO \tUsing cached data for position_data\n",
      "req            INFO \tUsing cached data for weather_data\n",
      "req            INFO \tUsing cached data for race_control_messages\n",
      "core           INFO \tFinished loading data for 20 drivers: ['11', '55', '1', '16', '63', '4', '14', '44', '77', '5', '10', '31', '3', '18', '6', '24', '22', '23', '47', '20']\n",
      "core           INFO \tLoading data for Azerbaijan Grand Prix - Race [v3.3.2]\n",
      "req            INFO \tUsing cached data for session_info\n",
      "req            INFO \tUsing cached data for driver_info\n",
      "req            INFO \tUsing cached data for session_status_data\n",
      "req            INFO \tUsing cached data for lap_count\n",
      "req            INFO \tUsing cached data for track_status_data\n",
      "req            INFO \tUsing cached data for _extended_timing_data\n",
      "req            INFO \tUsing cached data for timing_app_data\n",
      "core           INFO \tProcessing timing data...\n",
      "core        WARNING \tDriver 16: Lap timing integrity check failed for 1 lap(s)\n",
      "req            INFO \tUsing cached data for car_data\n",
      "req            INFO \tUsing cached data for position_data\n",
      "req            INFO \tUsing cached data for weather_data\n",
      "req            INFO \tUsing cached data for race_control_messages\n",
      "core           INFO \tFinished loading data for 20 drivers: ['1', '11', '63', '44', '10', '5', '14', '3', '4', '31', '77', '23', '22', '47', '6', '18', '20', '24', '16', '55']\n",
      "core           INFO \tLoading data for Canadian Grand Prix - Race [v3.3.2]\n",
      "req            INFO \tUsing cached data for session_info\n",
      "req            INFO \tUsing cached data for driver_info\n",
      "req            INFO \tUsing cached data for session_status_data\n",
      "req            INFO \tUsing cached data for lap_count\n",
      "req            INFO \tUsing cached data for track_status_data\n",
      "req            INFO \tUsing cached data for _extended_timing_data\n",
      "req            INFO \tUsing cached data for timing_app_data\n",
      "core           INFO \tProcessing timing data...\n",
      "req            INFO \tUsing cached data for car_data\n",
      "req            INFO \tUsing cached data for position_data\n",
      "req            INFO \tUsing cached data for weather_data\n",
      "req            INFO \tUsing cached data for race_control_messages\n",
      "core           INFO \tFinished loading data for 20 drivers: ['1', '55', '44', '63', '16', '31', '77', '24', '14', '18', '3', '5', '23', '10', '4', '6', '20', '22', '47', '11']\n",
      "core        WARNING \tFailed to preserve data type for column 'X' while merging telemetry.\n",
      "core        WARNING \tFailed to preserve data type for column 'Y' while merging telemetry.\n",
      "core        WARNING \tFailed to preserve data type for column 'Z' while merging telemetry.\n",
      "core        WARNING \tFailed to preserve data type for column 'X' while merging telemetry.\n",
      "core        WARNING \tFailed to preserve data type for column 'Y' while merging telemetry.\n",
      "core        WARNING \tFailed to preserve data type for column 'Z' while merging telemetry.\n",
      "core        WARNING \tFailed to preserve data type for column 'X' while merging telemetry.\n",
      "core        WARNING \tFailed to preserve data type for column 'Y' while merging telemetry.\n",
      "core        WARNING \tFailed to preserve data type for column 'Z' while merging telemetry.\n",
      "core        WARNING \tFailed to preserve data type for column 'X' while merging telemetry.\n",
      "core        WARNING \tFailed to preserve data type for column 'Y' while merging telemetry.\n",
      "core        WARNING \tFailed to preserve data type for column 'Z' while merging telemetry.\n",
      "core        WARNING \tFailed to preserve data type for column 'X' while merging telemetry.\n",
      "core        WARNING \tFailed to preserve data type for column 'Y' while merging telemetry.\n",
      "core        WARNING \tFailed to preserve data type for column 'Z' while merging telemetry.\n",
      "core        WARNING \tFailed to preserve data type for column 'X' while merging telemetry.\n",
      "core        WARNING \tFailed to preserve data type for column 'Y' while merging telemetry.\n",
      "core        WARNING \tFailed to preserve data type for column 'Z' while merging telemetry.\n",
      "core        WARNING \tFailed to preserve data type for column 'X' while merging telemetry.\n",
      "core        WARNING \tFailed to preserve data type for column 'Y' while merging telemetry.\n",
      "core        WARNING \tFailed to preserve data type for column 'Z' while merging telemetry.\n",
      "core        WARNING \tFailed to preserve data type for column 'X' while merging telemetry.\n",
      "core        WARNING \tFailed to preserve data type for column 'Y' while merging telemetry.\n",
      "core        WARNING \tFailed to preserve data type for column 'Z' while merging telemetry.\n",
      "core        WARNING \tFailed to preserve data type for column 'X' while merging telemetry.\n",
      "core        WARNING \tFailed to preserve data type for column 'Y' while merging telemetry.\n",
      "core        WARNING \tFailed to preserve data type for column 'Z' while merging telemetry.\n",
      "core        WARNING \tFailed to preserve data type for column 'X' while merging telemetry.\n",
      "core        WARNING \tFailed to preserve data type for column 'Y' while merging telemetry.\n",
      "core        WARNING \tFailed to preserve data type for column 'Z' while merging telemetry.\n",
      "core        WARNING \tFailed to preserve data type for column 'X' while merging telemetry.\n",
      "core        WARNING \tFailed to preserve data type for column 'Y' while merging telemetry.\n",
      "core        WARNING \tFailed to preserve data type for column 'Z' while merging telemetry.\n",
      "core        WARNING \tFailed to preserve data type for column 'X' while merging telemetry.\n",
      "core        WARNING \tFailed to preserve data type for column 'Y' while merging telemetry.\n",
      "core        WARNING \tFailed to preserve data type for column 'Z' while merging telemetry.\n",
      "core        WARNING \tFailed to preserve data type for column 'X' while merging telemetry.\n",
      "core        WARNING \tFailed to preserve data type for column 'Y' while merging telemetry.\n",
      "core        WARNING \tFailed to preserve data type for column 'Z' while merging telemetry.\n",
      "core        WARNING \tFailed to preserve data type for column 'X' while merging telemetry.\n",
      "core        WARNING \tFailed to preserve data type for column 'Y' while merging telemetry.\n",
      "core        WARNING \tFailed to preserve data type for column 'Z' while merging telemetry.\n",
      "core        WARNING \tFailed to preserve data type for column 'X' while merging telemetry.\n",
      "core        WARNING \tFailed to preserve data type for column 'Y' while merging telemetry.\n",
      "core        WARNING \tFailed to preserve data type for column 'Z' while merging telemetry.\n",
      "core        WARNING \tFailed to preserve data type for column 'X' while merging telemetry.\n",
      "core        WARNING \tFailed to preserve data type for column 'Y' while merging telemetry.\n",
      "core        WARNING \tFailed to preserve data type for column 'Z' while merging telemetry.\n",
      "core        WARNING \tFailed to preserve data type for column 'X' while merging telemetry.\n",
      "core        WARNING \tFailed to preserve data type for column 'Y' while merging telemetry.\n",
      "core        WARNING \tFailed to preserve data type for column 'Z' while merging telemetry.\n",
      "core        WARNING \tFailed to preserve data type for column 'X' while merging telemetry.\n",
      "core        WARNING \tFailed to preserve data type for column 'Y' while merging telemetry.\n",
      "core        WARNING \tFailed to preserve data type for column 'Z' while merging telemetry.\n",
      "core        WARNING \tFailed to preserve data type for column 'X' while merging telemetry.\n",
      "core        WARNING \tFailed to preserve data type for column 'Y' while merging telemetry.\n",
      "core        WARNING \tFailed to preserve data type for column 'Z' while merging telemetry.\n",
      "core        WARNING \tFailed to preserve data type for column 'X' while merging telemetry.\n",
      "core        WARNING \tFailed to preserve data type for column 'Y' while merging telemetry.\n",
      "core        WARNING \tFailed to preserve data type for column 'Z' while merging telemetry.\n",
      "core           INFO \tLoading data for Austrian Grand Prix - Race [v3.3.2]\n",
      "req            INFO \tUsing cached data for session_info\n",
      "req            INFO \tUsing cached data for driver_info\n",
      "req            INFO \tUsing cached data for session_status_data\n",
      "req            INFO \tUsing cached data for lap_count\n",
      "req            INFO \tUsing cached data for track_status_data\n",
      "req            INFO \tUsing cached data for _extended_timing_data\n",
      "req            INFO \tUsing cached data for timing_app_data\n",
      "core           INFO \tProcessing timing data...\n",
      "req            INFO \tUsing cached data for car_data\n",
      "req            INFO \tUsing cached data for position_data\n",
      "req            INFO \tUsing cached data for weather_data\n",
      "req            INFO \tUsing cached data for race_control_messages\n",
      "core           INFO \tFinished loading data for 20 drivers: ['16', '1', '44', '63', '31', '47', '4', '20', '3', '14', '77', '23', '18', '24', '10', '22', '5', '55', '6', '11']\n",
      "core           INFO \tLoading data for French Grand Prix - Race [v3.3.2]\n",
      "req            INFO \tUsing cached data for session_info\n",
      "req            INFO \tUsing cached data for driver_info\n",
      "req            INFO \tUsing cached data for session_status_data\n",
      "req            INFO \tUsing cached data for lap_count\n",
      "req            INFO \tUsing cached data for track_status_data\n",
      "req            INFO \tUsing cached data for _extended_timing_data\n",
      "req            INFO \tUsing cached data for timing_app_data\n",
      "core           INFO \tProcessing timing data...\n",
      "req            INFO \tUsing cached data for car_data\n",
      "req            INFO \tUsing cached data for position_data\n",
      "req            INFO \tUsing cached data for weather_data\n",
      "req            INFO \tUsing cached data for race_control_messages\n",
      "core           INFO \tFinished loading data for 20 drivers: ['1', '44', '63', '11', '55', '14', '4', '31', '3', '18', '5', '10', '23', '77', '47', '24', '6', '20', '16', '22']\n",
      "core           INFO \tLoading data for Hungarian Grand Prix - Race [v3.3.2]\n",
      "req            INFO \tUsing cached data for session_info\n",
      "req            INFO \tUsing cached data for driver_info\n",
      "req            INFO \tUsing cached data for session_status_data\n",
      "req            INFO \tUsing cached data for lap_count\n",
      "req            INFO \tUsing cached data for track_status_data\n",
      "req            INFO \tUsing cached data for _extended_timing_data\n",
      "req            INFO \tUsing cached data for timing_app_data\n",
      "core           INFO \tProcessing timing data...\n",
      "req            INFO \tUsing cached data for car_data\n",
      "req            INFO \tUsing cached data for position_data\n",
      "req            INFO \tUsing cached data for weather_data\n",
      "req            INFO \tUsing cached data for race_control_messages\n",
      "core           INFO \tFinished loading data for 20 drivers: ['1', '44', '63', '55', '11', '16', '4', '14', '31', '5', '18', '10', '24', '47', '3', '20', '23', '6', '22', '77']\n",
      "core           INFO \tLoading data for Belgian Grand Prix - Race [v3.3.2]\n",
      "req            INFO \tUsing cached data for session_info\n",
      "req            INFO \tUsing cached data for driver_info\n",
      "req            INFO \tUsing cached data for session_status_data\n",
      "req            INFO \tUsing cached data for lap_count\n",
      "req            INFO \tUsing cached data for track_status_data\n",
      "req            INFO \tUsing cached data for _extended_timing_data\n",
      "req            INFO \tUsing cached data for timing_app_data\n",
      "core           INFO \tProcessing timing data...\n",
      "req            INFO \tUsing cached data for car_data\n",
      "req            INFO \tUsing cached data for position_data\n",
      "req            INFO \tUsing cached data for weather_data\n",
      "req            INFO \tUsing cached data for race_control_messages\n",
      "core           INFO \tFinished loading data for 20 drivers: ['1', '11', '55', '63', '14', '16', '31', '5', '10', '23', '18', '4', '22', '24', '3', '20', '47', '6', '77', '44']\n",
      "core           INFO \tLoading data for Dutch Grand Prix - Race [v3.3.2]\n",
      "req            INFO \tUsing cached data for session_info\n",
      "req            INFO \tUsing cached data for driver_info\n",
      "req            INFO \tUsing cached data for session_status_data\n",
      "req            INFO \tUsing cached data for lap_count\n",
      "req            INFO \tUsing cached data for track_status_data\n",
      "req            INFO \tUsing cached data for _extended_timing_data\n",
      "req            INFO \tUsing cached data for timing_app_data\n",
      "core           INFO \tProcessing timing data...\n",
      "req            INFO \tUsing cached data for car_data\n",
      "req            INFO \tUsing cached data for position_data\n",
      "req            INFO \tUsing cached data for weather_data\n",
      "req            INFO \tUsing cached data for race_control_messages\n",
      "core           INFO \tFinished loading data for 20 drivers: ['1', '63', '16', '44', '11', '14', '4', '55', '31', '18', '10', '23', '47', '5', '20', '24', '3', '6', '77', '22']\n",
      "core           INFO \tLoading data for Italian Grand Prix - Race [v3.3.2]\n",
      "req            INFO \tUsing cached data for session_info\n",
      "req            INFO \tUsing cached data for driver_info\n",
      "req            INFO \tUsing cached data for session_status_data\n",
      "req            INFO \tUsing cached data for lap_count\n",
      "req            INFO \tUsing cached data for track_status_data\n",
      "req            INFO \tUsing cached data for _extended_timing_data\n",
      "req            INFO \tUsing cached data for timing_app_data\n",
      "core           INFO \tProcessing timing data...\n",
      "req            INFO \tUsing cached data for car_data\n",
      "req            INFO \tUsing cached data for position_data\n",
      "req            INFO \tUsing cached data for weather_data\n",
      "req            INFO \tUsing cached data for race_control_messages\n",
      "core           INFO \tFinished loading data for 20 drivers: ['1', '16', '63', '55', '44', '11', '4', '10', '45', '24', '31', '47', '77', '22', '6', '20', '3', '18', '14', '5']\n",
      "core        WARNING \tFailed to preserve data type for column 'X' while merging telemetry.\n",
      "core        WARNING \tFailed to preserve data type for column 'Y' while merging telemetry.\n",
      "core        WARNING \tFailed to preserve data type for column 'Z' while merging telemetry.\n",
      "core        WARNING \tFailed to preserve data type for column 'X' while merging telemetry.\n",
      "core        WARNING \tFailed to preserve data type for column 'Y' while merging telemetry.\n",
      "core        WARNING \tFailed to preserve data type for column 'Z' while merging telemetry.\n",
      "core        WARNING \tFailed to preserve data type for column 'X' while merging telemetry.\n",
      "core        WARNING \tFailed to preserve data type for column 'Y' while merging telemetry.\n",
      "core        WARNING \tFailed to preserve data type for column 'Z' while merging telemetry.\n",
      "core        WARNING \tFailed to preserve data type for column 'X' while merging telemetry.\n",
      "core        WARNING \tFailed to preserve data type for column 'Y' while merging telemetry.\n",
      "core        WARNING \tFailed to preserve data type for column 'Z' while merging telemetry.\n",
      "core        WARNING \tFailed to preserve data type for column 'X' while merging telemetry.\n",
      "core        WARNING \tFailed to preserve data type for column 'Y' while merging telemetry.\n",
      "core        WARNING \tFailed to preserve data type for column 'Z' while merging telemetry.\n",
      "core        WARNING \tFailed to preserve data type for column 'X' while merging telemetry.\n",
      "core        WARNING \tFailed to preserve data type for column 'Y' while merging telemetry.\n",
      "core        WARNING \tFailed to preserve data type for column 'Z' while merging telemetry.\n",
      "core        WARNING \tFailed to preserve data type for column 'X' while merging telemetry.\n",
      "core        WARNING \tFailed to preserve data type for column 'Y' while merging telemetry.\n",
      "core        WARNING \tFailed to preserve data type for column 'Z' while merging telemetry.\n",
      "core        WARNING \tFailed to preserve data type for column 'X' while merging telemetry.\n",
      "core        WARNING \tFailed to preserve data type for column 'Y' while merging telemetry.\n",
      "core        WARNING \tFailed to preserve data type for column 'Z' while merging telemetry.\n",
      "core        WARNING \tFailed to preserve data type for column 'X' while merging telemetry.\n",
      "core        WARNING \tFailed to preserve data type for column 'Y' while merging telemetry.\n",
      "core        WARNING \tFailed to preserve data type for column 'Z' while merging telemetry.\n",
      "core        WARNING \tFailed to preserve data type for column 'X' while merging telemetry.\n",
      "core        WARNING \tFailed to preserve data type for column 'Y' while merging telemetry.\n",
      "core        WARNING \tFailed to preserve data type for column 'Z' while merging telemetry.\n",
      "core        WARNING \tFailed to preserve data type for column 'X' while merging telemetry.\n",
      "core        WARNING \tFailed to preserve data type for column 'Y' while merging telemetry.\n",
      "core        WARNING \tFailed to preserve data type for column 'Z' while merging telemetry.\n",
      "core        WARNING \tFailed to preserve data type for column 'X' while merging telemetry.\n",
      "core        WARNING \tFailed to preserve data type for column 'Y' while merging telemetry.\n",
      "core        WARNING \tFailed to preserve data type for column 'Z' while merging telemetry.\n",
      "core        WARNING \tFailed to preserve data type for column 'X' while merging telemetry.\n",
      "core        WARNING \tFailed to preserve data type for column 'Y' while merging telemetry.\n",
      "core        WARNING \tFailed to preserve data type for column 'Z' while merging telemetry.\n",
      "core        WARNING \tFailed to preserve data type for column 'X' while merging telemetry.\n",
      "core        WARNING \tFailed to preserve data type for column 'Y' while merging telemetry.\n",
      "core        WARNING \tFailed to preserve data type for column 'Z' while merging telemetry.\n",
      "core        WARNING \tFailed to preserve data type for column 'X' while merging telemetry.\n",
      "core        WARNING \tFailed to preserve data type for column 'Y' while merging telemetry.\n",
      "core        WARNING \tFailed to preserve data type for column 'Z' while merging telemetry.\n",
      "core        WARNING \tFailed to preserve data type for column 'X' while merging telemetry.\n",
      "core        WARNING \tFailed to preserve data type for column 'Y' while merging telemetry.\n",
      "core        WARNING \tFailed to preserve data type for column 'Z' while merging telemetry.\n",
      "core        WARNING \tFailed to preserve data type for column 'X' while merging telemetry.\n",
      "core        WARNING \tFailed to preserve data type for column 'Y' while merging telemetry.\n",
      "core        WARNING \tFailed to preserve data type for column 'Z' while merging telemetry.\n",
      "core        WARNING \tFailed to preserve data type for column 'X' while merging telemetry.\n",
      "core        WARNING \tFailed to preserve data type for column 'Y' while merging telemetry.\n",
      "core        WARNING \tFailed to preserve data type for column 'Z' while merging telemetry.\n",
      "core        WARNING \tFailed to preserve data type for column 'X' while merging telemetry.\n",
      "core        WARNING \tFailed to preserve data type for column 'Y' while merging telemetry.\n",
      "core        WARNING \tFailed to preserve data type for column 'Z' while merging telemetry.\n",
      "core        WARNING \tFailed to preserve data type for column 'X' while merging telemetry.\n",
      "core        WARNING \tFailed to preserve data type for column 'Y' while merging telemetry.\n",
      "core        WARNING \tFailed to preserve data type for column 'Z' while merging telemetry.\n",
      "core           INFO \tLoading data for Japanese Grand Prix - Race [v3.3.2]\n",
      "req            INFO \tUsing cached data for session_info\n",
      "req            INFO \tUsing cached data for driver_info\n",
      "req            INFO \tUsing cached data for session_status_data\n",
      "req            INFO \tUsing cached data for lap_count\n",
      "req            INFO \tUsing cached data for track_status_data\n",
      "req            INFO \tUsing cached data for _extended_timing_data\n",
      "req            INFO \tUsing cached data for timing_app_data\n",
      "core           INFO \tProcessing timing data...\n",
      "req            INFO \tUsing cached data for car_data\n",
      "req            INFO \tUsing cached data for position_data\n",
      "req            INFO \tUsing cached data for weather_data\n",
      "req            INFO \tUsing cached data for race_control_messages\n",
      "core           INFO \tFinished loading data for 20 drivers: ['1', '11', '16', '31', '44', '5', '14', '63', '6', '4', '3', '18', '22', '20', '77', '24', '47', '10', '55', '23']\n",
      "core        WARNING \tFailed to preserve data type for column 'X' while merging telemetry.\n",
      "core        WARNING \tFailed to preserve data type for column 'Y' while merging telemetry.\n",
      "core        WARNING \tFailed to preserve data type for column 'Z' while merging telemetry.\n",
      "core        WARNING \tFailed to preserve data type for column 'X' while merging telemetry.\n",
      "core        WARNING \tFailed to preserve data type for column 'Y' while merging telemetry.\n",
      "core        WARNING \tFailed to preserve data type for column 'Z' while merging telemetry.\n",
      "core        WARNING \tFailed to preserve data type for column 'X' while merging telemetry.\n",
      "core        WARNING \tFailed to preserve data type for column 'Y' while merging telemetry.\n",
      "core        WARNING \tFailed to preserve data type for column 'Z' while merging telemetry.\n",
      "core        WARNING \tFailed to preserve data type for column 'X' while merging telemetry.\n",
      "core        WARNING \tFailed to preserve data type for column 'Y' while merging telemetry.\n",
      "core        WARNING \tFailed to preserve data type for column 'Z' while merging telemetry.\n",
      "core        WARNING \tFailed to preserve data type for column 'X' while merging telemetry.\n",
      "core        WARNING \tFailed to preserve data type for column 'Y' while merging telemetry.\n",
      "core        WARNING \tFailed to preserve data type for column 'Z' while merging telemetry.\n",
      "core        WARNING \tFailed to preserve data type for column 'X' while merging telemetry.\n",
      "core        WARNING \tFailed to preserve data type for column 'Y' while merging telemetry.\n",
      "core        WARNING \tFailed to preserve data type for column 'Z' while merging telemetry.\n",
      "core        WARNING \tFailed to preserve data type for column 'X' while merging telemetry.\n",
      "core        WARNING \tFailed to preserve data type for column 'Y' while merging telemetry.\n",
      "core        WARNING \tFailed to preserve data type for column 'Z' while merging telemetry.\n",
      "core        WARNING \tFailed to preserve data type for column 'X' while merging telemetry.\n",
      "core        WARNING \tFailed to preserve data type for column 'Y' while merging telemetry.\n",
      "core        WARNING \tFailed to preserve data type for column 'Z' while merging telemetry.\n",
      "core        WARNING \tFailed to preserve data type for column 'X' while merging telemetry.\n",
      "core        WARNING \tFailed to preserve data type for column 'Y' while merging telemetry.\n",
      "core        WARNING \tFailed to preserve data type for column 'Z' while merging telemetry.\n",
      "core        WARNING \tFailed to preserve data type for column 'X' while merging telemetry.\n",
      "core        WARNING \tFailed to preserve data type for column 'Y' while merging telemetry.\n",
      "core        WARNING \tFailed to preserve data type for column 'Z' while merging telemetry.\n",
      "core        WARNING \tFailed to preserve data type for column 'X' while merging telemetry.\n",
      "core        WARNING \tFailed to preserve data type for column 'Y' while merging telemetry.\n",
      "core        WARNING \tFailed to preserve data type for column 'Z' while merging telemetry.\n",
      "core        WARNING \tFailed to preserve data type for column 'X' while merging telemetry.\n",
      "core        WARNING \tFailed to preserve data type for column 'Y' while merging telemetry.\n",
      "core        WARNING \tFailed to preserve data type for column 'Z' while merging telemetry.\n",
      "core        WARNING \tFailed to preserve data type for column 'X' while merging telemetry.\n",
      "core        WARNING \tFailed to preserve data type for column 'Y' while merging telemetry.\n",
      "core        WARNING \tFailed to preserve data type for column 'Z' while merging telemetry.\n",
      "core        WARNING \tFailed to preserve data type for column 'X' while merging telemetry.\n",
      "core        WARNING \tFailed to preserve data type for column 'Y' while merging telemetry.\n",
      "core        WARNING \tFailed to preserve data type for column 'Z' while merging telemetry.\n",
      "core        WARNING \tFailed to preserve data type for column 'X' while merging telemetry.\n",
      "core        WARNING \tFailed to preserve data type for column 'Y' while merging telemetry.\n",
      "core        WARNING \tFailed to preserve data type for column 'Z' while merging telemetry.\n",
      "core        WARNING \tFailed to preserve data type for column 'X' while merging telemetry.\n",
      "core        WARNING \tFailed to preserve data type for column 'Y' while merging telemetry.\n",
      "core        WARNING \tFailed to preserve data type for column 'Z' while merging telemetry.\n",
      "core        WARNING \tFailed to preserve data type for column 'X' while merging telemetry.\n",
      "core        WARNING \tFailed to preserve data type for column 'Y' while merging telemetry.\n",
      "core        WARNING \tFailed to preserve data type for column 'Z' while merging telemetry.\n",
      "core        WARNING \tFailed to preserve data type for column 'X' while merging telemetry.\n",
      "core        WARNING \tFailed to preserve data type for column 'Y' while merging telemetry.\n",
      "core        WARNING \tFailed to preserve data type for column 'Z' while merging telemetry.\n",
      "core        WARNING \tFailed to preserve data type for column 'X' while merging telemetry.\n",
      "core        WARNING \tFailed to preserve data type for column 'Y' while merging telemetry.\n",
      "core        WARNING \tFailed to preserve data type for column 'Z' while merging telemetry.\n",
      "core        WARNING \tFailed to preserve data type for column 'X' while merging telemetry.\n",
      "core        WARNING \tFailed to preserve data type for column 'Y' while merging telemetry.\n",
      "core        WARNING \tFailed to preserve data type for column 'Z' while merging telemetry.\n",
      "core           INFO \tLoading data for Miami Grand Prix - Race [v3.3.2]\n",
      "req            INFO \tUsing cached data for session_info\n",
      "req            INFO \tUsing cached data for driver_info\n",
      "req            INFO \tUsing cached data for session_status_data\n",
      "req            INFO \tUsing cached data for lap_count\n",
      "req            INFO \tUsing cached data for track_status_data\n",
      "req            INFO \tUsing cached data for _extended_timing_data\n",
      "req            INFO \tUsing cached data for timing_app_data\n",
      "core           INFO \tProcessing timing data...\n",
      "req            INFO \tUsing cached data for car_data\n",
      "req            INFO \tUsing cached data for position_data\n",
      "req            INFO \tUsing cached data for weather_data\n",
      "req            INFO \tUsing cached data for race_control_messages\n",
      "core           INFO \tFinished loading data for 20 drivers: ['1', '16', '55', '11', '63', '44', '77', '31', '23', '18', '14', '22', '3', '6', '47', '20', '5', '10', '4', '24']\n",
      "core           INFO \tLoading data for Mexico City Grand Prix - Race [v3.3.2]\n",
      "req            INFO \tUsing cached data for session_info\n",
      "req            INFO \tUsing cached data for driver_info\n",
      "req            INFO \tUsing cached data for session_status_data\n",
      "req            INFO \tUsing cached data for lap_count\n",
      "req            INFO \tUsing cached data for track_status_data\n",
      "req            INFO \tUsing cached data for _extended_timing_data\n",
      "req            INFO \tUsing cached data for timing_app_data\n",
      "core           INFO \tProcessing timing data...\n",
      "req            INFO \tUsing cached data for car_data\n",
      "req            INFO \tUsing cached data for position_data\n",
      "req            INFO \tUsing cached data for weather_data\n",
      "req            INFO \tUsing cached data for race_control_messages\n",
      "core           INFO \tFinished loading data for 20 drivers: ['1', '44', '11', '63', '55', '16', '3', '31', '4', '77', '10', '23', '24', '5', '18', '47', '20', '6', '14', '22']\n",
      "core           INFO \tLoading data for Abu Dhabi Grand Prix - Race [v3.3.2]\n",
      "req            INFO \tUsing cached data for session_info\n",
      "req            INFO \tUsing cached data for driver_info\n",
      "req            INFO \tUsing cached data for session_status_data\n",
      "req            INFO \tUsing cached data for lap_count\n",
      "req            INFO \tUsing cached data for track_status_data\n",
      "req            INFO \tUsing cached data for _extended_timing_data\n",
      "req            INFO \tUsing cached data for timing_app_data\n",
      "core           INFO \tProcessing timing data...\n",
      "req            INFO \tUsing cached data for car_data\n",
      "req            INFO \tUsing cached data for position_data\n",
      "req            INFO \tUsing cached data for weather_data\n",
      "req            INFO \tUsing cached data for race_control_messages\n",
      "core           INFO \tFinished loading data for 20 drivers: ['1', '16', '11', '55', '63', '4', '31', '18', '3', '5', '22', '24', '23', '10', '77', '47', '20', '44', '6', '14']\n",
      "core        WARNING \tFailed to preserve data type for column 'X' while merging telemetry.\n",
      "core        WARNING \tFailed to preserve data type for column 'Y' while merging telemetry.\n",
      "core        WARNING \tFailed to preserve data type for column 'Z' while merging telemetry.\n",
      "core        WARNING \tFailed to preserve data type for column 'X' while merging telemetry.\n",
      "core        WARNING \tFailed to preserve data type for column 'Y' while merging telemetry.\n",
      "core        WARNING \tFailed to preserve data type for column 'Z' while merging telemetry.\n",
      "core        WARNING \tFailed to preserve data type for column 'X' while merging telemetry.\n",
      "core        WARNING \tFailed to preserve data type for column 'Y' while merging telemetry.\n",
      "core        WARNING \tFailed to preserve data type for column 'Z' while merging telemetry.\n",
      "core        WARNING \tFailed to preserve data type for column 'X' while merging telemetry.\n",
      "core        WARNING \tFailed to preserve data type for column 'Y' while merging telemetry.\n",
      "core        WARNING \tFailed to preserve data type for column 'Z' while merging telemetry.\n",
      "core        WARNING \tFailed to preserve data type for column 'X' while merging telemetry.\n",
      "core        WARNING \tFailed to preserve data type for column 'Y' while merging telemetry.\n",
      "core        WARNING \tFailed to preserve data type for column 'Z' while merging telemetry.\n",
      "core        WARNING \tFailed to preserve data type for column 'X' while merging telemetry.\n",
      "core        WARNING \tFailed to preserve data type for column 'Y' while merging telemetry.\n",
      "core        WARNING \tFailed to preserve data type for column 'Z' while merging telemetry.\n",
      "core        WARNING \tFailed to preserve data type for column 'X' while merging telemetry.\n",
      "core        WARNING \tFailed to preserve data type for column 'Y' while merging telemetry.\n",
      "core        WARNING \tFailed to preserve data type for column 'Z' while merging telemetry.\n",
      "core        WARNING \tFailed to preserve data type for column 'X' while merging telemetry.\n",
      "core        WARNING \tFailed to preserve data type for column 'Y' while merging telemetry.\n",
      "core        WARNING \tFailed to preserve data type for column 'Z' while merging telemetry.\n",
      "core        WARNING \tFailed to preserve data type for column 'X' while merging telemetry.\n",
      "core        WARNING \tFailed to preserve data type for column 'Y' while merging telemetry.\n",
      "core        WARNING \tFailed to preserve data type for column 'Z' while merging telemetry.\n",
      "core        WARNING \tFailed to preserve data type for column 'X' while merging telemetry.\n",
      "core        WARNING \tFailed to preserve data type for column 'Y' while merging telemetry.\n",
      "core        WARNING \tFailed to preserve data type for column 'Z' while merging telemetry.\n",
      "core        WARNING \tFailed to preserve data type for column 'X' while merging telemetry.\n",
      "core        WARNING \tFailed to preserve data type for column 'Y' while merging telemetry.\n",
      "core        WARNING \tFailed to preserve data type for column 'Z' while merging telemetry.\n",
      "core        WARNING \tFailed to preserve data type for column 'X' while merging telemetry.\n",
      "core        WARNING \tFailed to preserve data type for column 'Y' while merging telemetry.\n",
      "core        WARNING \tFailed to preserve data type for column 'Z' while merging telemetry.\n",
      "core        WARNING \tFailed to preserve data type for column 'X' while merging telemetry.\n",
      "core        WARNING \tFailed to preserve data type for column 'Y' while merging telemetry.\n",
      "core        WARNING \tFailed to preserve data type for column 'Z' while merging telemetry.\n",
      "core        WARNING \tFailed to preserve data type for column 'X' while merging telemetry.\n",
      "core        WARNING \tFailed to preserve data type for column 'Y' while merging telemetry.\n",
      "core        WARNING \tFailed to preserve data type for column 'Z' while merging telemetry.\n",
      "core        WARNING \tFailed to preserve data type for column 'X' while merging telemetry.\n",
      "core        WARNING \tFailed to preserve data type for column 'Y' while merging telemetry.\n",
      "core        WARNING \tFailed to preserve data type for column 'Z' while merging telemetry.\n",
      "core        WARNING \tFailed to preserve data type for column 'X' while merging telemetry.\n",
      "core        WARNING \tFailed to preserve data type for column 'Y' while merging telemetry.\n",
      "core        WARNING \tFailed to preserve data type for column 'Z' while merging telemetry.\n",
      "core        WARNING \tFailed to preserve data type for column 'X' while merging telemetry.\n",
      "core        WARNING \tFailed to preserve data type for column 'Y' while merging telemetry.\n",
      "core        WARNING \tFailed to preserve data type for column 'Z' while merging telemetry.\n",
      "core        WARNING \tFailed to preserve data type for column 'X' while merging telemetry.\n",
      "core        WARNING \tFailed to preserve data type for column 'Y' while merging telemetry.\n",
      "core        WARNING \tFailed to preserve data type for column 'Z' while merging telemetry.\n",
      "core        WARNING \tFailed to preserve data type for column 'X' while merging telemetry.\n",
      "core        WARNING \tFailed to preserve data type for column 'Y' while merging telemetry.\n",
      "core        WARNING \tFailed to preserve data type for column 'Z' while merging telemetry.\n",
      "core        WARNING \tFailed to preserve data type for column 'X' while merging telemetry.\n",
      "core        WARNING \tFailed to preserve data type for column 'Y' while merging telemetry.\n",
      "core        WARNING \tFailed to preserve data type for column 'Z' while merging telemetry.\n"
     ]
    }
   ],
   "source": [
    "f1_dict22 = create_dict(team_radio22,correct_gps22, 2022)"
   ],
   "metadata": {
    "collapsed": false,
    "ExecuteTime": {
     "end_time": "2024-06-10T11:30:39.645644900Z",
     "start_time": "2024-06-10T11:24:37.295618400Z"
    }
   },
   "id": "5729b6ae31e8e20a"
  },
  {
   "cell_type": "code",
   "execution_count": null,
   "outputs": [],
   "source": [
    "f1_dict23 = create_dict(team_radio,correct_gps23, 2023)"
   ],
   "metadata": {
    "collapsed": false
   },
   "id": "79caa7d8a28b6b18"
  },
  {
   "cell_type": "markdown",
   "source": [
    "check and delete null rows!"
   ],
   "metadata": {
    "collapsed": false
   },
   "id": "ba5b015a08f48535"
  },
  {
   "cell_type": "code",
   "execution_count": 20,
   "outputs": [],
   "source": [
    "def change_index(full_dict):\n",
    "    \"\"\"\n",
    "    Changing the index of the dataframes (in the dictionary) to X-Y coordinates.\n",
    "    \"\"\"\n",
    "    for gp,sub_dict in full_dict.items():\n",
    "        for driver, df in sub_dict.items():\n",
    "            df['X-Y'] = list(zip(df['X'], df['Y']))\n",
    "            df.set_index('X-Y',inplace=True)"
   ],
   "metadata": {
    "collapsed": false,
    "ExecuteTime": {
     "end_time": "2024-06-10T11:30:39.660633700Z",
     "start_time": "2024-06-10T11:30:39.647934500Z"
    }
   },
   "id": "4fb2b3184c863c6b"
  },
  {
   "cell_type": "code",
   "execution_count": 21,
   "outputs": [],
   "source": [
    "def organize_dict(full_dict):\n",
    "    \"\"\"\n",
    "    Organizing the values of the dictionary; by changing the indexes, converting dictionary typed values to data frames\n",
    "    and dropping null rows.\n",
    "    \"\"\"\n",
    "    change_index(full_dict)\n",
    "    new_dict = {}\n",
    "    for gp, sub_dict in full_dict.items():\n",
    "        df = dict2df(sub_dict)\n",
    "        df = df.dropna()\n",
    "        new_dict[gp] = df\n",
    "    return new_dict"
   ],
   "metadata": {
    "collapsed": false,
    "ExecuteTime": {
     "end_time": "2024-06-10T11:30:39.674339200Z",
     "start_time": "2024-06-10T11:30:39.654165200Z"
    }
   },
   "id": "d3e2cfc58995c10d"
  },
  {
   "cell_type": "code",
   "execution_count": 22,
   "outputs": [],
   "source": [
    "f1_22 = organize_dict(f1_dict22)\n",
    "f1_23 = organize_dict(f1_dict23)"
   ],
   "metadata": {
    "collapsed": false,
    "ExecuteTime": {
     "end_time": "2024-06-10T11:31:07.402672Z",
     "start_time": "2024-06-10T11:30:39.668260500Z"
    }
   },
   "id": "b9cfdedecdca2986"
  },
  {
   "cell_type": "code",
   "execution_count": 23,
   "outputs": [
    {
     "data": {
      "text/plain": "                                                                Date  \\\n   X-Y                                                                 \n1  (3511.9841901852997, -2961.017263356482)  2022-10-09 05:03:35.902   \n   (3512.0, -2961.0)                         2022-10-09 05:03:36.020   \n   (3512.0002222924504, -2960.999757257725)  2022-10-09 05:03:36.021   \n   (3512.0590792070593, -2960.9354857933386) 2022-10-09 05:03:36.221   \n   (3512.0, -2961.0)                         2022-10-09 05:03:36.320   \n...                                                              ...   \n77 (0.0, 0.0)                                2022-10-09 08:06:46.282   \n   (0.0, 0.0)                                2022-10-09 08:06:46.412   \n   (0.0, 0.0)                                2022-10-09 08:06:46.652   \n   (0.0, 0.0)                                2022-10-09 08:06:46.661   \n   (0.0, 0.0)                                2022-10-09 08:06:46.703   \n\n                                                        X            Y  \\\n   X-Y                                                                   \n1  (3511.9841901852997, -2961.017263356482)   3511.984190 -2961.017263   \n   (3512.0, -2961.0)                          3512.000000 -2961.000000   \n   (3512.0002222924504, -2960.999757257725)   3512.000222 -2960.999757   \n   (3512.0590792070593, -2960.9354857933386)  3512.059079 -2960.935486   \n   (3512.0, -2961.0)                          3512.000000 -2961.000000   \n...                                                   ...          ...   \n77 (0.0, 0.0)                                    0.000000     0.000000   \n   (0.0, 0.0)                                    0.000000     0.000000   \n   (0.0, 0.0)                                    0.000000     0.000000   \n   (0.0, 0.0)                                    0.000000     0.000000   \n   (0.0, 0.0)                                    0.000000     0.000000   \n\n                                                       Z      RPM Brake  DRS  \\\n   X-Y                                                                         \n1  (3511.9841901852997, -2961.017263356482)   666.000004  10168.0  True  1.0   \n   (3512.0, -2961.0)                          666.000000  10188.0  True  1.0   \n   (3512.0002222924504, -2960.999757257725)   666.000000  10228.0  True  1.0   \n   (3512.0590792070593, -2960.9354857933386)  665.999984   9948.0  True  1.0   \n   (3512.0, -2961.0)                          666.000000   8865.0  True  1.0   \n...                                                  ...      ...   ...  ...   \n77 (0.0, 0.0)                                   0.000000      0.0  True  9.0   \n   (0.0, 0.0)                                   0.000000      0.0  True  9.0   \n   (0.0, 0.0)                                   0.000000      0.0  True  9.0   \n   (0.0, 0.0)                                   0.000000      0.0  True  9.0   \n   (0.0, 0.0)                                   0.000000      0.0  True  9.0   \n\n                                              Throttle  Speed  nGear  \\\n   X-Y                                                                 \n1  (3511.9841901852997, -2961.017263356482)       11.0    0.0    2.0   \n   (3512.0, -2961.0)                              11.0    0.0    2.0   \n   (3512.0002222924504, -2960.999757257725)       11.0    0.0    2.0   \n   (3512.0590792070593, -2960.9354857933386)      11.0    0.0    2.0   \n   (3512.0, -2961.0)                              11.0    0.0    2.0   \n...                                                ...    ...    ...   \n77 (0.0, 0.0)                                    104.0    0.0    0.0   \n   (0.0, 0.0)                                    104.0    0.0    0.0   \n   (0.0, 0.0)                                    104.0    0.0    0.0   \n   (0.0, 0.0)                                    104.0    0.0    0.0   \n   (0.0, 0.0)                                    104.0    0.0    0.0   \n\n                                              Team Radio  \n   X-Y                                                    \n1  (3511.9841901852997, -2961.017263356482)          0.0  \n   (3512.0, -2961.0)                                 0.0  \n   (3512.0002222924504, -2960.999757257725)          0.0  \n   (3512.0590792070593, -2960.9354857933386)         0.0  \n   (3512.0, -2961.0)                                 0.0  \n...                                                  ...  \n77 (0.0, 0.0)                                        0.0  \n   (0.0, 0.0)                                        0.0  \n   (0.0, 0.0)                                        1.0  \n   (0.0, 0.0)                                        0.0  \n   (0.0, 0.0)                                        0.0  \n\n[1491450 rows x 11 columns]",
      "text/html": "<div>\n<style scoped>\n    .dataframe tbody tr th:only-of-type {\n        vertical-align: middle;\n    }\n\n    .dataframe tbody tr th {\n        vertical-align: top;\n    }\n\n    .dataframe thead th {\n        text-align: right;\n    }\n</style>\n<table border=\"1\" class=\"dataframe\">\n  <thead>\n    <tr style=\"text-align: right;\">\n      <th></th>\n      <th></th>\n      <th>Date</th>\n      <th>X</th>\n      <th>Y</th>\n      <th>Z</th>\n      <th>RPM</th>\n      <th>Brake</th>\n      <th>DRS</th>\n      <th>Throttle</th>\n      <th>Speed</th>\n      <th>nGear</th>\n      <th>Team Radio</th>\n    </tr>\n    <tr>\n      <th></th>\n      <th>X-Y</th>\n      <th></th>\n      <th></th>\n      <th></th>\n      <th></th>\n      <th></th>\n      <th></th>\n      <th></th>\n      <th></th>\n      <th></th>\n      <th></th>\n      <th></th>\n    </tr>\n  </thead>\n  <tbody>\n    <tr>\n      <th rowspan=\"5\" valign=\"top\">1</th>\n      <th>(3511.9841901852997, -2961.017263356482)</th>\n      <td>2022-10-09 05:03:35.902</td>\n      <td>3511.984190</td>\n      <td>-2961.017263</td>\n      <td>666.000004</td>\n      <td>10168.0</td>\n      <td>True</td>\n      <td>1.0</td>\n      <td>11.0</td>\n      <td>0.0</td>\n      <td>2.0</td>\n      <td>0.0</td>\n    </tr>\n    <tr>\n      <th>(3512.0, -2961.0)</th>\n      <td>2022-10-09 05:03:36.020</td>\n      <td>3512.000000</td>\n      <td>-2961.000000</td>\n      <td>666.000000</td>\n      <td>10188.0</td>\n      <td>True</td>\n      <td>1.0</td>\n      <td>11.0</td>\n      <td>0.0</td>\n      <td>2.0</td>\n      <td>0.0</td>\n    </tr>\n    <tr>\n      <th>(3512.0002222924504, -2960.999757257725)</th>\n      <td>2022-10-09 05:03:36.021</td>\n      <td>3512.000222</td>\n      <td>-2960.999757</td>\n      <td>666.000000</td>\n      <td>10228.0</td>\n      <td>True</td>\n      <td>1.0</td>\n      <td>11.0</td>\n      <td>0.0</td>\n      <td>2.0</td>\n      <td>0.0</td>\n    </tr>\n    <tr>\n      <th>(3512.0590792070593, -2960.9354857933386)</th>\n      <td>2022-10-09 05:03:36.221</td>\n      <td>3512.059079</td>\n      <td>-2960.935486</td>\n      <td>665.999984</td>\n      <td>9948.0</td>\n      <td>True</td>\n      <td>1.0</td>\n      <td>11.0</td>\n      <td>0.0</td>\n      <td>2.0</td>\n      <td>0.0</td>\n    </tr>\n    <tr>\n      <th>(3512.0, -2961.0)</th>\n      <td>2022-10-09 05:03:36.320</td>\n      <td>3512.000000</td>\n      <td>-2961.000000</td>\n      <td>666.000000</td>\n      <td>8865.0</td>\n      <td>True</td>\n      <td>1.0</td>\n      <td>11.0</td>\n      <td>0.0</td>\n      <td>2.0</td>\n      <td>0.0</td>\n    </tr>\n    <tr>\n      <th>...</th>\n      <th>...</th>\n      <td>...</td>\n      <td>...</td>\n      <td>...</td>\n      <td>...</td>\n      <td>...</td>\n      <td>...</td>\n      <td>...</td>\n      <td>...</td>\n      <td>...</td>\n      <td>...</td>\n      <td>...</td>\n    </tr>\n    <tr>\n      <th rowspan=\"5\" valign=\"top\">77</th>\n      <th>(0.0, 0.0)</th>\n      <td>2022-10-09 08:06:46.282</td>\n      <td>0.000000</td>\n      <td>0.000000</td>\n      <td>0.000000</td>\n      <td>0.0</td>\n      <td>True</td>\n      <td>9.0</td>\n      <td>104.0</td>\n      <td>0.0</td>\n      <td>0.0</td>\n      <td>0.0</td>\n    </tr>\n    <tr>\n      <th>(0.0, 0.0)</th>\n      <td>2022-10-09 08:06:46.412</td>\n      <td>0.000000</td>\n      <td>0.000000</td>\n      <td>0.000000</td>\n      <td>0.0</td>\n      <td>True</td>\n      <td>9.0</td>\n      <td>104.0</td>\n      <td>0.0</td>\n      <td>0.0</td>\n      <td>0.0</td>\n    </tr>\n    <tr>\n      <th>(0.0, 0.0)</th>\n      <td>2022-10-09 08:06:46.652</td>\n      <td>0.000000</td>\n      <td>0.000000</td>\n      <td>0.000000</td>\n      <td>0.0</td>\n      <td>True</td>\n      <td>9.0</td>\n      <td>104.0</td>\n      <td>0.0</td>\n      <td>0.0</td>\n      <td>1.0</td>\n    </tr>\n    <tr>\n      <th>(0.0, 0.0)</th>\n      <td>2022-10-09 08:06:46.661</td>\n      <td>0.000000</td>\n      <td>0.000000</td>\n      <td>0.000000</td>\n      <td>0.0</td>\n      <td>True</td>\n      <td>9.0</td>\n      <td>104.0</td>\n      <td>0.0</td>\n      <td>0.0</td>\n      <td>0.0</td>\n    </tr>\n    <tr>\n      <th>(0.0, 0.0)</th>\n      <td>2022-10-09 08:06:46.703</td>\n      <td>0.000000</td>\n      <td>0.000000</td>\n      <td>0.000000</td>\n      <td>0.0</td>\n      <td>True</td>\n      <td>9.0</td>\n      <td>104.0</td>\n      <td>0.0</td>\n      <td>0.0</td>\n      <td>0.0</td>\n    </tr>\n  </tbody>\n</table>\n<p>1491450 rows × 11 columns</p>\n</div>"
     },
     "execution_count": 23,
     "metadata": {},
     "output_type": "execute_result"
    }
   ],
   "source": [
    "f1_22['Japanese_Grand_Prix']"
   ],
   "metadata": {
    "collapsed": false,
    "ExecuteTime": {
     "end_time": "2024-06-10T11:31:07.447844100Z",
     "start_time": "2024-06-10T11:31:07.412503600Z"
    }
   },
   "id": "aa7967f8101208a5"
  },
  {
   "cell_type": "code",
   "execution_count": null,
   "outputs": [],
   "source": [
    "f1_23['Japanese_Grand_Prix']"
   ],
   "metadata": {
    "collapsed": false
   },
   "id": "cde1bc92c0453fe6"
  },
  {
   "cell_type": "code",
   "execution_count": 24,
   "outputs": [],
   "source": [
    "with open(os.path.join(data_path,'f1_22.pkl'), 'wb') as f:\n",
    "    pickle.dump(f1_22, f)\n",
    "\n",
    "with open(os.path.join(data_path,'f1_23.pkl'), 'wb') as f:\n",
    "    pickle.dump(f1_23, f)"
   ],
   "metadata": {
    "collapsed": false,
    "ExecuteTime": {
     "end_time": "2024-06-10T11:31:51.157501800Z",
     "start_time": "2024-06-10T11:31:46.616066500Z"
    }
   },
   "id": "1d0ce3319a8027cc"
  }
 ],
 "metadata": {
  "kernelspec": {
   "display_name": "Python 3",
   "language": "python",
   "name": "python3"
  },
  "language_info": {
   "codemirror_mode": {
    "name": "ipython",
    "version": 2
   },
   "file_extension": ".py",
   "mimetype": "text/x-python",
   "name": "python",
   "nbconvert_exporter": "python",
   "pygments_lexer": "ipython2",
   "version": "2.7.6"
  }
 },
 "nbformat": 4,
 "nbformat_minor": 5
}
