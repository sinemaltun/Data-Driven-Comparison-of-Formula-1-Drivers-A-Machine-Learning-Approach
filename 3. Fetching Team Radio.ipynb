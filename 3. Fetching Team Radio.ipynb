{
 "cells": [
  {
   "cell_type": "markdown",
   "source": [
    "# 3. FETCHING TEAM RADIO (AUDIO) DATA\n",
    "\n",
    "For now, we will be working on the 2023 season.\n",
    "\n",
    "Track visualization practices were applied on Max Verstappen's performance in the 23-Bahrain Grand Prix. Let us understand the main source of team radio data and work on Verstappen's communication types, in this particular race.\n",
    "\n",
    "### 3.1 REACHING THE JSON CONTENT"
   ],
   "metadata": {
    "collapsed": false
   },
   "id": "82052c81a290206d"
  },
  {
   "cell_type": "code",
   "execution_count": 1,
   "outputs": [],
   "source": [
    "import fastf1\n",
    "import os\n",
    "import json\n",
    "import requests\n",
    "import urllib.request as request\n",
    "import logging\n",
    "from json import JSONDecodeError\n",
    "import pandas as pd\n",
    "import numpy as np\n",
    "import speech_recognition as sr\n",
    "from IPython.display import Audio \n",
    "import torch\n",
    "import whisper\n",
    "import tempfile\n",
    "import soundfile as sf  \n",
    "import random\n",
    "import pickle\n",
    "#import torchaudio\n",
    "\n",
    "DEVICE = \"cuda\" if torch.cuda.is_available() else \"cpu\"\n",
    "parent_dir = os.path.dirname(os.path.realpath(\"3. Fetching Team Radio.ipynb\")) \n",
    "data_path = os.path.join(parent_dir, 'Data Objects')"
   ],
   "metadata": {
    "collapsed": false,
    "ExecuteTime": {
     "end_time": "2024-06-10T10:01:25.577275Z",
     "start_time": "2024-06-10T10:01:15.278834800Z"
    }
   },
   "id": "153b8895d6dc2540"
  },
  {
   "cell_type": "markdown",
   "source": [
    "The 2023 Emilia Romagna GP was cancelled due to flood."
   ],
   "metadata": {
    "collapsed": false
   },
   "id": "cec3d3987539b751"
  },
  {
   "cell_type": "code",
   "execution_count": 2,
   "outputs": [
    {
     "name": "stderr",
     "output_type": "stream",
     "text": [
      "req         WARNING \tDEFAULT CACHE ENABLED! (103.02 MB) C:\\Users\\sinem\\AppData\\Local\\Temp\\fastf1\n"
     ]
    },
    {
     "data": {
      "text/plain": "    RoundNumber        Country           Location  \\\n0             0        Bahrain             Sakhir   \n1             1        Bahrain             Sakhir   \n2             2   Saudi Arabia             Jeddah   \n3             3      Australia          Melbourne   \n4             4     Azerbaijan               Baku   \n5             5  United States              Miami   \n6             6         Monaco             Monaco   \n7             7          Spain          Barcelona   \n8             8         Canada           Montréal   \n9             9        Austria          Spielberg   \n10           10  Great Britain        Silverstone   \n11           11        Hungary           Budapest   \n12           12        Belgium  Spa-Francorchamps   \n13           13    Netherlands          Zandvoort   \n14           14          Italy              Monza   \n15           15      Singapore         Marina Bay   \n16           16          Japan             Suzuka   \n17           17          Qatar             Lusail   \n18           18  United States             Austin   \n19           19         Mexico        Mexico City   \n20           20         Brazil          São Paulo   \n21           21  United States          Las Vegas   \n22           22      Abu Dhabi         Yas Island   \n\n                                    OfficialEventName  EventDate  \\\n0            FORMULA 1 ARAMCO PRE-SEASON TESTING 2023 2023-02-25   \n1          FORMULA 1 GULF AIR BAHRAIN GRAND PRIX 2023 2023-03-05   \n2         FORMULA 1 STC SAUDI ARABIAN GRAND PRIX 2023 2023-03-19   \n3          FORMULA 1 ROLEX AUSTRALIAN GRAND PRIX 2023 2023-04-02   \n4                FORMULA 1 AZERBAIJAN GRAND PRIX 2023 2023-04-30   \n5          FORMULA 1 CRYPTO.COM MIAMI GRAND PRIX 2023 2023-05-07   \n6                 FORMULA 1 GRAND PRIX DE MONACO 2023 2023-05-28   \n7            FORMULA 1 AWS GRAN PREMIO DE ESPAÑA 2023 2023-06-04   \n8         FORMULA 1 PIRELLI GRAND PRIX DU CANADA 2023 2023-06-18   \n9   FORMULA 1 ROLEX GROSSER PREIS VON ÖSTERREICH 2023 2023-07-02   \n10           FORMULA 1 ARAMCO BRITISH GRAND PRIX 2023 2023-07-09   \n11  FORMULA 1 QATAR AIRWAYS HUNGARIAN GRAND PRIX 2023 2023-07-23   \n12      FORMULA 1 MSC CRUISES BELGIAN GRAND PRIX 2023 2023-07-30   \n13           FORMULA 1 HEINEKEN DUTCH GRAND PRIX 2023 2023-08-27   \n14       FORMULA 1 PIRELLI GRAN PREMIO D’ITALIA 2023  2023-09-03   \n15  FORMULA 1 SINGAPORE AIRLINES SINGAPORE GRAND P... 2023-09-17   \n16         FORMULA 1 LENOVO JAPANESE GRAND PRIX 2023  2023-09-24   \n17      FORMULA 1 QATAR AIRWAYS QATAR GRAND PRIX 2023 2023-10-08   \n18     FORMULA 1 LENOVO UNITED STATES GRAND PRIX 2023 2023-10-22   \n19  FORMULA 1 GRAN PREMIO DE LA CIUDAD DE MÉXICO 2023 2023-10-29   \n20    FORMULA 1 ROLEX GRANDE PRÊMIO DE SÃO PAULO 2023 2023-11-05   \n21  FORMULA 1 HEINEKEN SILVER LAS VEGAS GRAND PRIX... 2023-11-18   \n22  FORMULA 1 ETIHAD AIRWAYS ABU DHABI GRAND PRIX ... 2023-11-26   \n\n                   EventName      EventFormat    Session1  \\\n0         Pre-Season Testing          testing  Practice 1   \n1         Bahrain Grand Prix     conventional  Practice 1   \n2   Saudi Arabian Grand Prix     conventional  Practice 1   \n3      Australian Grand Prix     conventional  Practice 1   \n4      Azerbaijan Grand Prix  sprint_shootout  Practice 1   \n5           Miami Grand Prix     conventional  Practice 1   \n6          Monaco Grand Prix     conventional  Practice 1   \n7         Spanish Grand Prix     conventional  Practice 1   \n8        Canadian Grand Prix     conventional  Practice 1   \n9        Austrian Grand Prix  sprint_shootout  Practice 1   \n10        British Grand Prix     conventional  Practice 1   \n11      Hungarian Grand Prix     conventional  Practice 1   \n12        Belgian Grand Prix  sprint_shootout  Practice 1   \n13          Dutch Grand Prix     conventional  Practice 1   \n14        Italian Grand Prix     conventional  Practice 1   \n15      Singapore Grand Prix     conventional  Practice 1   \n16       Japanese Grand Prix     conventional  Practice 1   \n17          Qatar Grand Prix  sprint_shootout  Practice 1   \n18  United States Grand Prix  sprint_shootout  Practice 1   \n19    Mexico City Grand Prix     conventional  Practice 1   \n20      São Paulo Grand Prix  sprint_shootout  Practice 1   \n21      Las Vegas Grand Prix     conventional  Practice 1   \n22      Abu Dhabi Grand Prix     conventional  Practice 1   \n\n                 Session1Date     Session1DateUtc  ...         Session3  \\\n0   2023-02-23 10:00:00+03:00 2023-02-23 07:00:00  ...       Practice 3   \n1   2023-03-03 14:30:00+03:00 2023-03-03 11:30:00  ...       Practice 3   \n2   2023-03-17 16:30:00+03:00 2023-03-17 13:30:00  ...       Practice 3   \n3   2023-03-31 12:30:00+10:00 2023-03-31 02:30:00  ...       Practice 3   \n4   2023-04-28 13:30:00+04:00 2023-04-28 09:30:00  ...  Sprint Shootout   \n5   2023-05-05 14:00:00-04:00 2023-05-05 18:00:00  ...       Practice 3   \n6   2023-05-26 13:30:00+02:00 2023-05-26 11:30:00  ...       Practice 3   \n7   2023-06-02 13:30:00+02:00 2023-06-02 11:30:00  ...       Practice 3   \n8   2023-06-16 13:30:00-04:00 2023-06-16 17:30:00  ...       Practice 3   \n9   2023-06-30 13:30:00+02:00 2023-06-30 11:30:00  ...  Sprint Shootout   \n10  2023-07-07 12:30:00+01:00 2023-07-07 11:30:00  ...       Practice 3   \n11  2023-07-21 13:30:00+02:00 2023-07-21 11:30:00  ...       Practice 3   \n12  2023-07-28 13:30:00+02:00 2023-07-28 11:30:00  ...  Sprint Shootout   \n13  2023-08-25 12:30:00+02:00 2023-08-25 10:30:00  ...       Practice 3   \n14  2023-09-01 13:30:00+02:00 2023-09-01 11:30:00  ...       Practice 3   \n15  2023-09-15 17:30:00+08:00 2023-09-15 09:30:00  ...       Practice 3   \n16  2023-09-22 11:30:00+09:00 2023-09-22 02:30:00  ...       Practice 3   \n17  2023-10-06 16:30:00+03:00 2023-10-06 13:30:00  ...  Sprint Shootout   \n18  2023-10-20 12:30:00-05:00 2023-10-20 17:30:00  ...  Sprint Shootout   \n19  2023-10-27 12:30:00-06:00 2023-10-27 18:30:00  ...       Practice 3   \n20  2023-11-03 11:30:00-03:00 2023-11-03 14:30:00  ...  Sprint Shootout   \n21  2023-11-16 20:30:00-08:00 2023-11-17 04:30:00  ...       Practice 3   \n22  2023-11-24 13:30:00+04:00 2023-11-24 09:30:00  ...       Practice 3   \n\n                 Session3Date     Session3DateUtc    Session4  \\\n0   2023-02-25 10:00:00+03:00 2023-02-25 07:00:00        None   \n1   2023-03-04 14:30:00+03:00 2023-03-04 11:30:00  Qualifying   \n2   2023-03-18 16:30:00+03:00 2023-03-18 13:30:00  Qualifying   \n3   2023-04-01 12:30:00+10:00 2023-04-01 02:30:00  Qualifying   \n4   2023-04-29 12:30:00+04:00 2023-04-29 08:30:00      Sprint   \n5   2023-05-06 12:30:00-04:00 2023-05-06 16:30:00  Qualifying   \n6   2023-05-27 12:30:00+02:00 2023-05-27 10:30:00  Qualifying   \n7   2023-06-03 12:30:00+02:00 2023-06-03 10:30:00  Qualifying   \n8   2023-06-17 12:30:00-04:00 2023-06-17 16:30:00  Qualifying   \n9   2023-07-01 12:00:00+02:00 2023-07-01 10:00:00      Sprint   \n10  2023-07-08 11:30:00+01:00 2023-07-08 10:30:00  Qualifying   \n11  2023-07-22 12:30:00+02:00 2023-07-22 10:30:00  Qualifying   \n12  2023-07-29 12:00:00+02:00 2023-07-29 10:00:00      Sprint   \n13  2023-08-26 11:30:00+02:00 2023-08-26 09:30:00  Qualifying   \n14  2023-09-02 12:30:00+02:00 2023-09-02 10:30:00  Qualifying   \n15  2023-09-16 17:30:00+08:00 2023-09-16 09:30:00  Qualifying   \n16  2023-09-23 11:30:00+09:00 2023-09-23 02:30:00  Qualifying   \n17  2023-10-07 16:20:00+03:00 2023-10-07 13:20:00      Sprint   \n18  2023-10-21 12:30:00-05:00 2023-10-21 17:30:00      Sprint   \n19  2023-10-28 11:30:00-06:00 2023-10-28 17:30:00  Qualifying   \n20  2023-11-04 11:00:00-03:00 2023-11-04 14:00:00      Sprint   \n21  2023-11-17 20:30:00-08:00 2023-11-18 04:30:00  Qualifying   \n22  2023-11-25 14:30:00+04:00 2023-11-25 10:30:00  Qualifying   \n\n                 Session4Date     Session4DateUtc Session5  \\\n0                         NaT                 NaT     None   \n1   2023-03-04 18:00:00+03:00 2023-03-04 15:00:00     Race   \n2   2023-03-18 20:00:00+03:00 2023-03-18 17:00:00     Race   \n3   2023-04-01 16:00:00+10:00 2023-04-01 06:00:00     Race   \n4   2023-04-29 17:30:00+04:00 2023-04-29 13:30:00     Race   \n5   2023-05-06 16:00:00-04:00 2023-05-06 20:00:00     Race   \n6   2023-05-27 16:00:00+02:00 2023-05-27 14:00:00     Race   \n7   2023-06-03 16:00:00+02:00 2023-06-03 14:00:00     Race   \n8   2023-06-17 16:00:00-04:00 2023-06-17 20:00:00     Race   \n9   2023-07-01 16:30:00+02:00 2023-07-01 14:30:00     Race   \n10  2023-07-08 15:00:00+01:00 2023-07-08 14:00:00     Race   \n11  2023-07-22 16:00:00+02:00 2023-07-22 14:00:00     Race   \n12  2023-07-29 17:05:00+02:00 2023-07-29 15:05:00     Race   \n13  2023-08-26 15:00:00+02:00 2023-08-26 13:00:00     Race   \n14  2023-09-02 16:00:00+02:00 2023-09-02 14:00:00     Race   \n15  2023-09-16 21:00:00+08:00 2023-09-16 13:00:00     Race   \n16  2023-09-23 15:00:00+09:00 2023-09-23 06:00:00     Race   \n17  2023-10-07 20:30:00+03:00 2023-10-07 17:30:00     Race   \n18  2023-10-21 17:00:00-05:00 2023-10-21 22:00:00     Race   \n19  2023-10-28 15:00:00-06:00 2023-10-28 21:00:00     Race   \n20  2023-11-04 15:30:00-03:00 2023-11-04 18:30:00     Race   \n21  2023-11-18 00:00:00-08:00 2023-11-18 08:00:00     Race   \n22  2023-11-25 18:00:00+04:00 2023-11-25 14:00:00     Race   \n\n                 Session5Date     Session5DateUtc F1ApiSupport  \n0                         NaT                 NaT         True  \n1   2023-03-05 18:00:00+03:00 2023-03-05 15:00:00         True  \n2   2023-03-19 20:00:00+03:00 2023-03-19 17:00:00         True  \n3   2023-04-02 15:00:00+10:00 2023-04-02 05:00:00         True  \n4   2023-04-30 15:00:00+04:00 2023-04-30 11:00:00         True  \n5   2023-05-07 15:30:00-04:00 2023-05-07 19:30:00         True  \n6   2023-05-28 15:00:00+02:00 2023-05-28 13:00:00         True  \n7   2023-06-04 15:00:00+02:00 2023-06-04 13:00:00         True  \n8   2023-06-18 14:00:00-04:00 2023-06-18 18:00:00         True  \n9   2023-07-02 15:00:00+02:00 2023-07-02 13:00:00         True  \n10  2023-07-09 15:00:00+01:00 2023-07-09 14:00:00         True  \n11  2023-07-23 15:00:00+02:00 2023-07-23 13:00:00         True  \n12  2023-07-30 15:00:00+02:00 2023-07-30 13:00:00         True  \n13  2023-08-27 15:00:00+02:00 2023-08-27 13:00:00         True  \n14  2023-09-03 15:00:00+02:00 2023-09-03 13:00:00         True  \n15  2023-09-17 20:00:00+08:00 2023-09-17 12:00:00         True  \n16  2023-09-24 14:00:00+09:00 2023-09-24 05:00:00         True  \n17  2023-10-08 20:00:00+03:00 2023-10-08 17:00:00         True  \n18  2023-10-22 14:00:00-05:00 2023-10-22 19:00:00         True  \n19  2023-10-29 14:00:00-06:00 2023-10-29 20:00:00         True  \n20  2023-11-05 14:00:00-03:00 2023-11-05 17:00:00         True  \n21  2023-11-18 22:00:00-08:00 2023-11-19 06:00:00         True  \n22  2023-11-26 17:00:00+04:00 2023-11-26 13:00:00         True  \n\n[23 rows x 23 columns]",
      "text/html": "<div>\n<style scoped>\n    .dataframe tbody tr th:only-of-type {\n        vertical-align: middle;\n    }\n\n    .dataframe tbody tr th {\n        vertical-align: top;\n    }\n\n    .dataframe thead th {\n        text-align: right;\n    }\n</style>\n<table border=\"1\" class=\"dataframe\">\n  <thead>\n    <tr style=\"text-align: right;\">\n      <th></th>\n      <th>RoundNumber</th>\n      <th>Country</th>\n      <th>Location</th>\n      <th>OfficialEventName</th>\n      <th>EventDate</th>\n      <th>EventName</th>\n      <th>EventFormat</th>\n      <th>Session1</th>\n      <th>Session1Date</th>\n      <th>Session1DateUtc</th>\n      <th>...</th>\n      <th>Session3</th>\n      <th>Session3Date</th>\n      <th>Session3DateUtc</th>\n      <th>Session4</th>\n      <th>Session4Date</th>\n      <th>Session4DateUtc</th>\n      <th>Session5</th>\n      <th>Session5Date</th>\n      <th>Session5DateUtc</th>\n      <th>F1ApiSupport</th>\n    </tr>\n  </thead>\n  <tbody>\n    <tr>\n      <th>0</th>\n      <td>0</td>\n      <td>Bahrain</td>\n      <td>Sakhir</td>\n      <td>FORMULA 1 ARAMCO PRE-SEASON TESTING 2023</td>\n      <td>2023-02-25</td>\n      <td>Pre-Season Testing</td>\n      <td>testing</td>\n      <td>Practice 1</td>\n      <td>2023-02-23 10:00:00+03:00</td>\n      <td>2023-02-23 07:00:00</td>\n      <td>...</td>\n      <td>Practice 3</td>\n      <td>2023-02-25 10:00:00+03:00</td>\n      <td>2023-02-25 07:00:00</td>\n      <td>None</td>\n      <td>NaT</td>\n      <td>NaT</td>\n      <td>None</td>\n      <td>NaT</td>\n      <td>NaT</td>\n      <td>True</td>\n    </tr>\n    <tr>\n      <th>1</th>\n      <td>1</td>\n      <td>Bahrain</td>\n      <td>Sakhir</td>\n      <td>FORMULA 1 GULF AIR BAHRAIN GRAND PRIX 2023</td>\n      <td>2023-03-05</td>\n      <td>Bahrain Grand Prix</td>\n      <td>conventional</td>\n      <td>Practice 1</td>\n      <td>2023-03-03 14:30:00+03:00</td>\n      <td>2023-03-03 11:30:00</td>\n      <td>...</td>\n      <td>Practice 3</td>\n      <td>2023-03-04 14:30:00+03:00</td>\n      <td>2023-03-04 11:30:00</td>\n      <td>Qualifying</td>\n      <td>2023-03-04 18:00:00+03:00</td>\n      <td>2023-03-04 15:00:00</td>\n      <td>Race</td>\n      <td>2023-03-05 18:00:00+03:00</td>\n      <td>2023-03-05 15:00:00</td>\n      <td>True</td>\n    </tr>\n    <tr>\n      <th>2</th>\n      <td>2</td>\n      <td>Saudi Arabia</td>\n      <td>Jeddah</td>\n      <td>FORMULA 1 STC SAUDI ARABIAN GRAND PRIX 2023</td>\n      <td>2023-03-19</td>\n      <td>Saudi Arabian Grand Prix</td>\n      <td>conventional</td>\n      <td>Practice 1</td>\n      <td>2023-03-17 16:30:00+03:00</td>\n      <td>2023-03-17 13:30:00</td>\n      <td>...</td>\n      <td>Practice 3</td>\n      <td>2023-03-18 16:30:00+03:00</td>\n      <td>2023-03-18 13:30:00</td>\n      <td>Qualifying</td>\n      <td>2023-03-18 20:00:00+03:00</td>\n      <td>2023-03-18 17:00:00</td>\n      <td>Race</td>\n      <td>2023-03-19 20:00:00+03:00</td>\n      <td>2023-03-19 17:00:00</td>\n      <td>True</td>\n    </tr>\n    <tr>\n      <th>3</th>\n      <td>3</td>\n      <td>Australia</td>\n      <td>Melbourne</td>\n      <td>FORMULA 1 ROLEX AUSTRALIAN GRAND PRIX 2023</td>\n      <td>2023-04-02</td>\n      <td>Australian Grand Prix</td>\n      <td>conventional</td>\n      <td>Practice 1</td>\n      <td>2023-03-31 12:30:00+10:00</td>\n      <td>2023-03-31 02:30:00</td>\n      <td>...</td>\n      <td>Practice 3</td>\n      <td>2023-04-01 12:30:00+10:00</td>\n      <td>2023-04-01 02:30:00</td>\n      <td>Qualifying</td>\n      <td>2023-04-01 16:00:00+10:00</td>\n      <td>2023-04-01 06:00:00</td>\n      <td>Race</td>\n      <td>2023-04-02 15:00:00+10:00</td>\n      <td>2023-04-02 05:00:00</td>\n      <td>True</td>\n    </tr>\n    <tr>\n      <th>4</th>\n      <td>4</td>\n      <td>Azerbaijan</td>\n      <td>Baku</td>\n      <td>FORMULA 1 AZERBAIJAN GRAND PRIX 2023</td>\n      <td>2023-04-30</td>\n      <td>Azerbaijan Grand Prix</td>\n      <td>sprint_shootout</td>\n      <td>Practice 1</td>\n      <td>2023-04-28 13:30:00+04:00</td>\n      <td>2023-04-28 09:30:00</td>\n      <td>...</td>\n      <td>Sprint Shootout</td>\n      <td>2023-04-29 12:30:00+04:00</td>\n      <td>2023-04-29 08:30:00</td>\n      <td>Sprint</td>\n      <td>2023-04-29 17:30:00+04:00</td>\n      <td>2023-04-29 13:30:00</td>\n      <td>Race</td>\n      <td>2023-04-30 15:00:00+04:00</td>\n      <td>2023-04-30 11:00:00</td>\n      <td>True</td>\n    </tr>\n    <tr>\n      <th>5</th>\n      <td>5</td>\n      <td>United States</td>\n      <td>Miami</td>\n      <td>FORMULA 1 CRYPTO.COM MIAMI GRAND PRIX 2023</td>\n      <td>2023-05-07</td>\n      <td>Miami Grand Prix</td>\n      <td>conventional</td>\n      <td>Practice 1</td>\n      <td>2023-05-05 14:00:00-04:00</td>\n      <td>2023-05-05 18:00:00</td>\n      <td>...</td>\n      <td>Practice 3</td>\n      <td>2023-05-06 12:30:00-04:00</td>\n      <td>2023-05-06 16:30:00</td>\n      <td>Qualifying</td>\n      <td>2023-05-06 16:00:00-04:00</td>\n      <td>2023-05-06 20:00:00</td>\n      <td>Race</td>\n      <td>2023-05-07 15:30:00-04:00</td>\n      <td>2023-05-07 19:30:00</td>\n      <td>True</td>\n    </tr>\n    <tr>\n      <th>6</th>\n      <td>6</td>\n      <td>Monaco</td>\n      <td>Monaco</td>\n      <td>FORMULA 1 GRAND PRIX DE MONACO 2023</td>\n      <td>2023-05-28</td>\n      <td>Monaco Grand Prix</td>\n      <td>conventional</td>\n      <td>Practice 1</td>\n      <td>2023-05-26 13:30:00+02:00</td>\n      <td>2023-05-26 11:30:00</td>\n      <td>...</td>\n      <td>Practice 3</td>\n      <td>2023-05-27 12:30:00+02:00</td>\n      <td>2023-05-27 10:30:00</td>\n      <td>Qualifying</td>\n      <td>2023-05-27 16:00:00+02:00</td>\n      <td>2023-05-27 14:00:00</td>\n      <td>Race</td>\n      <td>2023-05-28 15:00:00+02:00</td>\n      <td>2023-05-28 13:00:00</td>\n      <td>True</td>\n    </tr>\n    <tr>\n      <th>7</th>\n      <td>7</td>\n      <td>Spain</td>\n      <td>Barcelona</td>\n      <td>FORMULA 1 AWS GRAN PREMIO DE ESPAÑA 2023</td>\n      <td>2023-06-04</td>\n      <td>Spanish Grand Prix</td>\n      <td>conventional</td>\n      <td>Practice 1</td>\n      <td>2023-06-02 13:30:00+02:00</td>\n      <td>2023-06-02 11:30:00</td>\n      <td>...</td>\n      <td>Practice 3</td>\n      <td>2023-06-03 12:30:00+02:00</td>\n      <td>2023-06-03 10:30:00</td>\n      <td>Qualifying</td>\n      <td>2023-06-03 16:00:00+02:00</td>\n      <td>2023-06-03 14:00:00</td>\n      <td>Race</td>\n      <td>2023-06-04 15:00:00+02:00</td>\n      <td>2023-06-04 13:00:00</td>\n      <td>True</td>\n    </tr>\n    <tr>\n      <th>8</th>\n      <td>8</td>\n      <td>Canada</td>\n      <td>Montréal</td>\n      <td>FORMULA 1 PIRELLI GRAND PRIX DU CANADA 2023</td>\n      <td>2023-06-18</td>\n      <td>Canadian Grand Prix</td>\n      <td>conventional</td>\n      <td>Practice 1</td>\n      <td>2023-06-16 13:30:00-04:00</td>\n      <td>2023-06-16 17:30:00</td>\n      <td>...</td>\n      <td>Practice 3</td>\n      <td>2023-06-17 12:30:00-04:00</td>\n      <td>2023-06-17 16:30:00</td>\n      <td>Qualifying</td>\n      <td>2023-06-17 16:00:00-04:00</td>\n      <td>2023-06-17 20:00:00</td>\n      <td>Race</td>\n      <td>2023-06-18 14:00:00-04:00</td>\n      <td>2023-06-18 18:00:00</td>\n      <td>True</td>\n    </tr>\n    <tr>\n      <th>9</th>\n      <td>9</td>\n      <td>Austria</td>\n      <td>Spielberg</td>\n      <td>FORMULA 1 ROLEX GROSSER PREIS VON ÖSTERREICH 2023</td>\n      <td>2023-07-02</td>\n      <td>Austrian Grand Prix</td>\n      <td>sprint_shootout</td>\n      <td>Practice 1</td>\n      <td>2023-06-30 13:30:00+02:00</td>\n      <td>2023-06-30 11:30:00</td>\n      <td>...</td>\n      <td>Sprint Shootout</td>\n      <td>2023-07-01 12:00:00+02:00</td>\n      <td>2023-07-01 10:00:00</td>\n      <td>Sprint</td>\n      <td>2023-07-01 16:30:00+02:00</td>\n      <td>2023-07-01 14:30:00</td>\n      <td>Race</td>\n      <td>2023-07-02 15:00:00+02:00</td>\n      <td>2023-07-02 13:00:00</td>\n      <td>True</td>\n    </tr>\n    <tr>\n      <th>10</th>\n      <td>10</td>\n      <td>Great Britain</td>\n      <td>Silverstone</td>\n      <td>FORMULA 1 ARAMCO BRITISH GRAND PRIX 2023</td>\n      <td>2023-07-09</td>\n      <td>British Grand Prix</td>\n      <td>conventional</td>\n      <td>Practice 1</td>\n      <td>2023-07-07 12:30:00+01:00</td>\n      <td>2023-07-07 11:30:00</td>\n      <td>...</td>\n      <td>Practice 3</td>\n      <td>2023-07-08 11:30:00+01:00</td>\n      <td>2023-07-08 10:30:00</td>\n      <td>Qualifying</td>\n      <td>2023-07-08 15:00:00+01:00</td>\n      <td>2023-07-08 14:00:00</td>\n      <td>Race</td>\n      <td>2023-07-09 15:00:00+01:00</td>\n      <td>2023-07-09 14:00:00</td>\n      <td>True</td>\n    </tr>\n    <tr>\n      <th>11</th>\n      <td>11</td>\n      <td>Hungary</td>\n      <td>Budapest</td>\n      <td>FORMULA 1 QATAR AIRWAYS HUNGARIAN GRAND PRIX 2023</td>\n      <td>2023-07-23</td>\n      <td>Hungarian Grand Prix</td>\n      <td>conventional</td>\n      <td>Practice 1</td>\n      <td>2023-07-21 13:30:00+02:00</td>\n      <td>2023-07-21 11:30:00</td>\n      <td>...</td>\n      <td>Practice 3</td>\n      <td>2023-07-22 12:30:00+02:00</td>\n      <td>2023-07-22 10:30:00</td>\n      <td>Qualifying</td>\n      <td>2023-07-22 16:00:00+02:00</td>\n      <td>2023-07-22 14:00:00</td>\n      <td>Race</td>\n      <td>2023-07-23 15:00:00+02:00</td>\n      <td>2023-07-23 13:00:00</td>\n      <td>True</td>\n    </tr>\n    <tr>\n      <th>12</th>\n      <td>12</td>\n      <td>Belgium</td>\n      <td>Spa-Francorchamps</td>\n      <td>FORMULA 1 MSC CRUISES BELGIAN GRAND PRIX 2023</td>\n      <td>2023-07-30</td>\n      <td>Belgian Grand Prix</td>\n      <td>sprint_shootout</td>\n      <td>Practice 1</td>\n      <td>2023-07-28 13:30:00+02:00</td>\n      <td>2023-07-28 11:30:00</td>\n      <td>...</td>\n      <td>Sprint Shootout</td>\n      <td>2023-07-29 12:00:00+02:00</td>\n      <td>2023-07-29 10:00:00</td>\n      <td>Sprint</td>\n      <td>2023-07-29 17:05:00+02:00</td>\n      <td>2023-07-29 15:05:00</td>\n      <td>Race</td>\n      <td>2023-07-30 15:00:00+02:00</td>\n      <td>2023-07-30 13:00:00</td>\n      <td>True</td>\n    </tr>\n    <tr>\n      <th>13</th>\n      <td>13</td>\n      <td>Netherlands</td>\n      <td>Zandvoort</td>\n      <td>FORMULA 1 HEINEKEN DUTCH GRAND PRIX 2023</td>\n      <td>2023-08-27</td>\n      <td>Dutch Grand Prix</td>\n      <td>conventional</td>\n      <td>Practice 1</td>\n      <td>2023-08-25 12:30:00+02:00</td>\n      <td>2023-08-25 10:30:00</td>\n      <td>...</td>\n      <td>Practice 3</td>\n      <td>2023-08-26 11:30:00+02:00</td>\n      <td>2023-08-26 09:30:00</td>\n      <td>Qualifying</td>\n      <td>2023-08-26 15:00:00+02:00</td>\n      <td>2023-08-26 13:00:00</td>\n      <td>Race</td>\n      <td>2023-08-27 15:00:00+02:00</td>\n      <td>2023-08-27 13:00:00</td>\n      <td>True</td>\n    </tr>\n    <tr>\n      <th>14</th>\n      <td>14</td>\n      <td>Italy</td>\n      <td>Monza</td>\n      <td>FORMULA 1 PIRELLI GRAN PREMIO D’ITALIA 2023</td>\n      <td>2023-09-03</td>\n      <td>Italian Grand Prix</td>\n      <td>conventional</td>\n      <td>Practice 1</td>\n      <td>2023-09-01 13:30:00+02:00</td>\n      <td>2023-09-01 11:30:00</td>\n      <td>...</td>\n      <td>Practice 3</td>\n      <td>2023-09-02 12:30:00+02:00</td>\n      <td>2023-09-02 10:30:00</td>\n      <td>Qualifying</td>\n      <td>2023-09-02 16:00:00+02:00</td>\n      <td>2023-09-02 14:00:00</td>\n      <td>Race</td>\n      <td>2023-09-03 15:00:00+02:00</td>\n      <td>2023-09-03 13:00:00</td>\n      <td>True</td>\n    </tr>\n    <tr>\n      <th>15</th>\n      <td>15</td>\n      <td>Singapore</td>\n      <td>Marina Bay</td>\n      <td>FORMULA 1 SINGAPORE AIRLINES SINGAPORE GRAND P...</td>\n      <td>2023-09-17</td>\n      <td>Singapore Grand Prix</td>\n      <td>conventional</td>\n      <td>Practice 1</td>\n      <td>2023-09-15 17:30:00+08:00</td>\n      <td>2023-09-15 09:30:00</td>\n      <td>...</td>\n      <td>Practice 3</td>\n      <td>2023-09-16 17:30:00+08:00</td>\n      <td>2023-09-16 09:30:00</td>\n      <td>Qualifying</td>\n      <td>2023-09-16 21:00:00+08:00</td>\n      <td>2023-09-16 13:00:00</td>\n      <td>Race</td>\n      <td>2023-09-17 20:00:00+08:00</td>\n      <td>2023-09-17 12:00:00</td>\n      <td>True</td>\n    </tr>\n    <tr>\n      <th>16</th>\n      <td>16</td>\n      <td>Japan</td>\n      <td>Suzuka</td>\n      <td>FORMULA 1 LENOVO JAPANESE GRAND PRIX 2023</td>\n      <td>2023-09-24</td>\n      <td>Japanese Grand Prix</td>\n      <td>conventional</td>\n      <td>Practice 1</td>\n      <td>2023-09-22 11:30:00+09:00</td>\n      <td>2023-09-22 02:30:00</td>\n      <td>...</td>\n      <td>Practice 3</td>\n      <td>2023-09-23 11:30:00+09:00</td>\n      <td>2023-09-23 02:30:00</td>\n      <td>Qualifying</td>\n      <td>2023-09-23 15:00:00+09:00</td>\n      <td>2023-09-23 06:00:00</td>\n      <td>Race</td>\n      <td>2023-09-24 14:00:00+09:00</td>\n      <td>2023-09-24 05:00:00</td>\n      <td>True</td>\n    </tr>\n    <tr>\n      <th>17</th>\n      <td>17</td>\n      <td>Qatar</td>\n      <td>Lusail</td>\n      <td>FORMULA 1 QATAR AIRWAYS QATAR GRAND PRIX 2023</td>\n      <td>2023-10-08</td>\n      <td>Qatar Grand Prix</td>\n      <td>sprint_shootout</td>\n      <td>Practice 1</td>\n      <td>2023-10-06 16:30:00+03:00</td>\n      <td>2023-10-06 13:30:00</td>\n      <td>...</td>\n      <td>Sprint Shootout</td>\n      <td>2023-10-07 16:20:00+03:00</td>\n      <td>2023-10-07 13:20:00</td>\n      <td>Sprint</td>\n      <td>2023-10-07 20:30:00+03:00</td>\n      <td>2023-10-07 17:30:00</td>\n      <td>Race</td>\n      <td>2023-10-08 20:00:00+03:00</td>\n      <td>2023-10-08 17:00:00</td>\n      <td>True</td>\n    </tr>\n    <tr>\n      <th>18</th>\n      <td>18</td>\n      <td>United States</td>\n      <td>Austin</td>\n      <td>FORMULA 1 LENOVO UNITED STATES GRAND PRIX 2023</td>\n      <td>2023-10-22</td>\n      <td>United States Grand Prix</td>\n      <td>sprint_shootout</td>\n      <td>Practice 1</td>\n      <td>2023-10-20 12:30:00-05:00</td>\n      <td>2023-10-20 17:30:00</td>\n      <td>...</td>\n      <td>Sprint Shootout</td>\n      <td>2023-10-21 12:30:00-05:00</td>\n      <td>2023-10-21 17:30:00</td>\n      <td>Sprint</td>\n      <td>2023-10-21 17:00:00-05:00</td>\n      <td>2023-10-21 22:00:00</td>\n      <td>Race</td>\n      <td>2023-10-22 14:00:00-05:00</td>\n      <td>2023-10-22 19:00:00</td>\n      <td>True</td>\n    </tr>\n    <tr>\n      <th>19</th>\n      <td>19</td>\n      <td>Mexico</td>\n      <td>Mexico City</td>\n      <td>FORMULA 1 GRAN PREMIO DE LA CIUDAD DE MÉXICO 2023</td>\n      <td>2023-10-29</td>\n      <td>Mexico City Grand Prix</td>\n      <td>conventional</td>\n      <td>Practice 1</td>\n      <td>2023-10-27 12:30:00-06:00</td>\n      <td>2023-10-27 18:30:00</td>\n      <td>...</td>\n      <td>Practice 3</td>\n      <td>2023-10-28 11:30:00-06:00</td>\n      <td>2023-10-28 17:30:00</td>\n      <td>Qualifying</td>\n      <td>2023-10-28 15:00:00-06:00</td>\n      <td>2023-10-28 21:00:00</td>\n      <td>Race</td>\n      <td>2023-10-29 14:00:00-06:00</td>\n      <td>2023-10-29 20:00:00</td>\n      <td>True</td>\n    </tr>\n    <tr>\n      <th>20</th>\n      <td>20</td>\n      <td>Brazil</td>\n      <td>São Paulo</td>\n      <td>FORMULA 1 ROLEX GRANDE PRÊMIO DE SÃO PAULO 2023</td>\n      <td>2023-11-05</td>\n      <td>São Paulo Grand Prix</td>\n      <td>sprint_shootout</td>\n      <td>Practice 1</td>\n      <td>2023-11-03 11:30:00-03:00</td>\n      <td>2023-11-03 14:30:00</td>\n      <td>...</td>\n      <td>Sprint Shootout</td>\n      <td>2023-11-04 11:00:00-03:00</td>\n      <td>2023-11-04 14:00:00</td>\n      <td>Sprint</td>\n      <td>2023-11-04 15:30:00-03:00</td>\n      <td>2023-11-04 18:30:00</td>\n      <td>Race</td>\n      <td>2023-11-05 14:00:00-03:00</td>\n      <td>2023-11-05 17:00:00</td>\n      <td>True</td>\n    </tr>\n    <tr>\n      <th>21</th>\n      <td>21</td>\n      <td>United States</td>\n      <td>Las Vegas</td>\n      <td>FORMULA 1 HEINEKEN SILVER LAS VEGAS GRAND PRIX...</td>\n      <td>2023-11-18</td>\n      <td>Las Vegas Grand Prix</td>\n      <td>conventional</td>\n      <td>Practice 1</td>\n      <td>2023-11-16 20:30:00-08:00</td>\n      <td>2023-11-17 04:30:00</td>\n      <td>...</td>\n      <td>Practice 3</td>\n      <td>2023-11-17 20:30:00-08:00</td>\n      <td>2023-11-18 04:30:00</td>\n      <td>Qualifying</td>\n      <td>2023-11-18 00:00:00-08:00</td>\n      <td>2023-11-18 08:00:00</td>\n      <td>Race</td>\n      <td>2023-11-18 22:00:00-08:00</td>\n      <td>2023-11-19 06:00:00</td>\n      <td>True</td>\n    </tr>\n    <tr>\n      <th>22</th>\n      <td>22</td>\n      <td>Abu Dhabi</td>\n      <td>Yas Island</td>\n      <td>FORMULA 1 ETIHAD AIRWAYS ABU DHABI GRAND PRIX ...</td>\n      <td>2023-11-26</td>\n      <td>Abu Dhabi Grand Prix</td>\n      <td>conventional</td>\n      <td>Practice 1</td>\n      <td>2023-11-24 13:30:00+04:00</td>\n      <td>2023-11-24 09:30:00</td>\n      <td>...</td>\n      <td>Practice 3</td>\n      <td>2023-11-25 14:30:00+04:00</td>\n      <td>2023-11-25 10:30:00</td>\n      <td>Qualifying</td>\n      <td>2023-11-25 18:00:00+04:00</td>\n      <td>2023-11-25 14:00:00</td>\n      <td>Race</td>\n      <td>2023-11-26 17:00:00+04:00</td>\n      <td>2023-11-26 13:00:00</td>\n      <td>True</td>\n    </tr>\n  </tbody>\n</table>\n<p>23 rows × 23 columns</p>\n</div>"
     },
     "execution_count": 2,
     "metadata": {},
     "output_type": "execute_result"
    }
   ],
   "source": [
    "race_schedule_2023 = fastf1.get_event_schedule(2023)\n",
    "race_schedule_2023"
   ],
   "metadata": {
    "collapsed": false,
    "ExecuteTime": {
     "end_time": "2024-06-10T10:01:26.331115800Z",
     "start_time": "2024-06-10T10:01:25.581256300Z"
    }
   },
   "id": "e6605775685e5e1c"
  },
  {
   "cell_type": "code",
   "execution_count": 4,
   "outputs": [
    {
     "data": {
      "text/plain": "    RoundNumber        Country           Location  \\\n0             0          Spain              Spain   \n1             0        Bahrain            Bahrain   \n2             1        Bahrain             Sakhir   \n3             2   Saudi Arabia             Jeddah   \n4             3      Australia          Melbourne   \n5             4          Italy              Imola   \n6             5  United States              Miami   \n7             6          Spain          Barcelona   \n8             7         Monaco             Monaco   \n9             8     Azerbaijan               Baku   \n10            9         Canada           Montréal   \n11           10  Great Britain        Silverstone   \n12           11        Austria          Spielberg   \n13           12         France       Le Castellet   \n14           13        Hungary           Budapest   \n15           14        Belgium  Spa-Francorchamps   \n16           15    Netherlands          Zandvoort   \n17           16          Italy              Monza   \n18           17      Singapore         Marina Bay   \n19           18          Japan             Suzuka   \n20           19  United States             Austin   \n21           20         Mexico        Mexico City   \n22           21         Brazil          São Paulo   \n23           22      Abu Dhabi         Yas Island   \n\n                                    OfficialEventName  EventDate  \\\n0             FORMULA 1 PRE-SEASON TRACK SESSION 2022 2022-02-25   \n1            FORMULA 1 ARAMCO PRE-SEASON TESTING 2022 2022-03-12   \n2          FORMULA 1 GULF AIR BAHRAIN GRAND PRIX 2022 2022-03-20   \n3         FORMULA 1 STC SAUDI ARABIAN GRAND PRIX 2022 2022-03-27   \n4       FORMULA 1 HEINEKEN AUSTRALIAN GRAND PRIX 2022 2022-04-10   \n5   FORMULA 1 ROLEX GRAN PREMIO DEL MADE IN ITALY ... 2022-04-24   \n6          FORMULA 1 CRYPTO.COM MIAMI GRAND PRIX 2022 2022-05-08   \n7        FORMULA 1 PIRELLI GRAN PREMIO DE ESPAÑA 2022 2022-05-22   \n8                 FORMULA 1 GRAND PRIX DE MONACO 2022 2022-05-29   \n9                FORMULA 1 AZERBAIJAN GRAND PRIX 2022 2022-06-12   \n10            FORMULA 1 AWS GRAND PRIX DU CANADA 2022 2022-06-19   \n11           FORMULA 1 LENOVO BRITISH GRAND PRIX 2022 2022-07-03   \n12  FORMULA 1 ROLEX GROSSER PREIS VON ÖSTERREICH 2022 2022-07-10   \n13         FORMULA 1 LENOVO GRAND PRIX DE FRANCE 2022 2022-07-24   \n14               FORMULA 1 ARAMCO MAGYAR NAGYDÍJ 2022 2022-07-31   \n15            FORMULA 1 ROLEX BELGIAN GRAND PRIX 2022 2022-08-28   \n16           FORMULA 1 HEINEKEN DUTCH GRAND PRIX 2022 2022-09-04   \n17        FORMULA 1 PIRELLI GRAN PREMIO D’ITALIA 2022 2022-09-11   \n18  FORMULA 1 SINGAPORE AIRLINES SINGAPORE GRAND P... 2022-10-02   \n19           FORMULA 1 HONDA JAPANESE GRAND PRIX 2022 2022-10-09   \n20     FORMULA 1 ARAMCO UNITED STATES GRAND PRIX 2022 2022-10-23   \n21  FORMULA 1 HEINEKEN GRAN PREMIO DE LA CIUDAD DE... 2022-10-30   \n22  FORMULA 1 HEINEKEN GRANDE PRÊMIO DE SÃO PAULO ... 2022-11-13   \n23  FORMULA 1 ETIHAD AIRWAYS ABU DHABI GRAND PRIX ... 2022-11-20   \n\n                    EventName   EventFormat    Session1  \\\n0    Pre-Season Track Session       testing  Practice 1   \n1             Pre-Season Test       testing  Practice 1   \n2          Bahrain Grand Prix  conventional  Practice 1   \n3    Saudi Arabian Grand Prix  conventional  Practice 1   \n4       Australian Grand Prix  conventional  Practice 1   \n5   Emilia Romagna Grand Prix        sprint  Practice 1   \n6            Miami Grand Prix  conventional  Practice 1   \n7          Spanish Grand Prix  conventional  Practice 1   \n8           Monaco Grand Prix  conventional  Practice 1   \n9       Azerbaijan Grand Prix  conventional  Practice 1   \n10        Canadian Grand Prix  conventional  Practice 1   \n11         British Grand Prix  conventional  Practice 1   \n12        Austrian Grand Prix        sprint  Practice 1   \n13          French Grand Prix  conventional  Practice 1   \n14       Hungarian Grand Prix  conventional  Practice 1   \n15         Belgian Grand Prix  conventional  Practice 1   \n16           Dutch Grand Prix  conventional  Practice 1   \n17         Italian Grand Prix  conventional  Practice 1   \n18       Singapore Grand Prix  conventional  Practice 1   \n19        Japanese Grand Prix  conventional  Practice 1   \n20   United States Grand Prix  conventional  Practice 1   \n21     Mexico City Grand Prix  conventional  Practice 1   \n22       São Paulo Grand Prix        sprint  Practice 1   \n23       Abu Dhabi Grand Prix  conventional  Practice 1   \n\n                 Session1Date     Session1DateUtc  ...    Session3  \\\n0   2022-02-23 09:00:00+01:00 2022-02-23 08:00:00  ...  Practice 3   \n1   2022-03-10 10:00:00+03:00 2022-03-10 07:00:00  ...  Practice 3   \n2   2022-03-18 15:00:00+03:00 2022-03-18 12:00:00  ...  Practice 3   \n3   2022-03-25 17:00:00+03:00 2022-03-25 14:00:00  ...  Practice 3   \n4   2022-04-08 13:00:00+10:00 2022-04-08 03:00:00  ...  Practice 3   \n5   2022-04-22 13:30:00+02:00 2022-04-22 11:30:00  ...  Practice 2   \n6   2022-05-06 14:30:00-04:00 2022-05-06 18:30:00  ...  Practice 3   \n7   2022-05-20 14:00:00+02:00 2022-05-20 12:00:00  ...  Practice 3   \n8   2022-05-27 14:00:00+02:00 2022-05-27 12:00:00  ...  Practice 3   \n9   2022-06-10 15:00:00+04:00 2022-06-10 11:00:00  ...  Practice 3   \n10  2022-06-17 14:00:00-04:00 2022-06-17 18:00:00  ...  Practice 3   \n11  2022-07-01 13:00:00+01:00 2022-07-01 12:00:00  ...  Practice 3   \n12  2022-07-08 13:30:00+02:00 2022-07-08 11:30:00  ...  Practice 2   \n13  2022-07-22 14:00:00+02:00 2022-07-22 12:00:00  ...  Practice 3   \n14  2022-07-29 14:00:00+02:00 2022-07-29 12:00:00  ...  Practice 3   \n15  2022-08-26 14:00:00+02:00 2022-08-26 12:00:00  ...  Practice 3   \n16  2022-09-02 12:30:00+02:00 2022-09-02 10:30:00  ...  Practice 3   \n17  2022-09-09 14:00:00+02:00 2022-09-09 12:00:00  ...  Practice 3   \n18  2022-09-30 18:00:00+08:00 2022-09-30 10:00:00  ...  Practice 3   \n19  2022-10-07 12:00:00+09:00 2022-10-07 03:00:00  ...  Practice 3   \n20  2022-10-21 14:00:00-05:00 2022-10-21 19:00:00  ...  Practice 3   \n21  2022-10-28 13:00:00-06:00 2022-10-28 19:00:00  ...  Practice 3   \n22  2022-11-11 12:30:00-03:00 2022-11-11 15:30:00  ...  Practice 2   \n23  2022-11-18 14:00:00+04:00 2022-11-18 10:00:00  ...  Practice 3   \n\n                 Session3Date     Session3DateUtc    Session4  \\\n0   2022-02-25 09:00:00+01:00 2022-02-25 08:00:00        None   \n1   2022-03-12 10:00:00+03:00 2022-03-12 07:00:00        None   \n2   2022-03-19 15:00:00+03:00 2022-03-19 12:00:00  Qualifying   \n3   2022-03-26 17:00:00+03:00 2022-03-26 14:00:00  Qualifying   \n4   2022-04-09 13:00:00+10:00 2022-04-09 03:00:00  Qualifying   \n5   2022-04-23 12:30:00+02:00 2022-04-23 10:30:00      Sprint   \n6   2022-05-07 13:00:00-04:00 2022-05-07 17:00:00  Qualifying   \n7   2022-05-21 13:00:00+02:00 2022-05-21 11:00:00  Qualifying   \n8   2022-05-28 13:00:00+02:00 2022-05-28 11:00:00  Qualifying   \n9   2022-06-11 15:00:00+04:00 2022-06-11 11:00:00  Qualifying   \n10  2022-06-18 13:00:00-04:00 2022-06-18 17:00:00  Qualifying   \n11  2022-07-02 12:00:00+01:00 2022-07-02 11:00:00  Qualifying   \n12  2022-07-09 12:30:00+02:00 2022-07-09 10:30:00      Sprint   \n13  2022-07-23 13:00:00+02:00 2022-07-23 11:00:00  Qualifying   \n14  2022-07-30 13:00:00+02:00 2022-07-30 11:00:00  Qualifying   \n15  2022-08-27 13:00:00+02:00 2022-08-27 11:00:00  Qualifying   \n16  2022-09-03 12:00:00+02:00 2022-09-03 10:00:00  Qualifying   \n17  2022-09-10 13:00:00+02:00 2022-09-10 11:00:00  Qualifying   \n18  2022-10-01 18:00:00+08:00 2022-10-01 10:00:00  Qualifying   \n19  2022-10-08 12:00:00+09:00 2022-10-08 03:00:00  Qualifying   \n20  2022-10-22 14:00:00-05:00 2022-10-22 19:00:00  Qualifying   \n21  2022-10-29 12:00:00-06:00 2022-10-29 18:00:00  Qualifying   \n22  2022-11-12 12:30:00-03:00 2022-11-12 15:30:00      Sprint   \n23  2022-11-19 14:30:00+04:00 2022-11-19 10:30:00  Qualifying   \n\n                 Session4Date     Session4DateUtc Session5  \\\n0                         NaT                 NaT     None   \n1                         NaT                 NaT     None   \n2   2022-03-19 18:00:00+03:00 2022-03-19 15:00:00     Race   \n3   2022-03-26 20:00:00+03:00 2022-03-26 17:00:00     Race   \n4   2022-04-09 16:00:00+10:00 2022-04-09 06:00:00     Race   \n5   2022-04-23 16:30:00+02:00 2022-04-23 14:30:00     Race   \n6   2022-05-07 16:00:00-04:00 2022-05-07 20:00:00     Race   \n7   2022-05-21 16:00:00+02:00 2022-05-21 14:00:00     Race   \n8   2022-05-28 16:00:00+02:00 2022-05-28 14:00:00     Race   \n9   2022-06-11 18:00:00+04:00 2022-06-11 14:00:00     Race   \n10  2022-06-18 16:00:00-04:00 2022-06-18 20:00:00     Race   \n11  2022-07-02 15:00:00+01:00 2022-07-02 14:00:00     Race   \n12  2022-07-09 16:30:00+02:00 2022-07-09 14:30:00     Race   \n13  2022-07-23 16:00:00+02:00 2022-07-23 14:00:00     Race   \n14  2022-07-30 16:00:00+02:00 2022-07-30 14:00:00     Race   \n15  2022-08-27 16:00:00+02:00 2022-08-27 14:00:00     Race   \n16  2022-09-03 15:00:00+02:00 2022-09-03 13:00:00     Race   \n17  2022-09-10 16:00:00+02:00 2022-09-10 14:00:00     Race   \n18  2022-10-01 21:00:00+08:00 2022-10-01 13:00:00     Race   \n19  2022-10-08 15:00:00+09:00 2022-10-08 06:00:00     Race   \n20  2022-10-22 17:00:00-05:00 2022-10-22 22:00:00     Race   \n21  2022-10-29 15:00:00-06:00 2022-10-29 21:00:00     Race   \n22  2022-11-12 16:30:00-03:00 2022-11-12 19:30:00     Race   \n23  2022-11-19 18:00:00+04:00 2022-11-19 14:00:00     Race   \n\n                 Session5Date     Session5DateUtc F1ApiSupport  \n0                         NaT                 NaT        False  \n1                         NaT                 NaT         True  \n2   2022-03-20 18:00:00+03:00 2022-03-20 15:00:00         True  \n3   2022-03-27 20:00:00+03:00 2022-03-27 17:00:00         True  \n4   2022-04-10 15:00:00+10:00 2022-04-10 05:00:00         True  \n5   2022-04-24 15:00:00+02:00 2022-04-24 13:00:00         True  \n6   2022-05-08 15:30:00-04:00 2022-05-08 19:30:00         True  \n7   2022-05-22 15:00:00+02:00 2022-05-22 13:00:00         True  \n8   2022-05-29 15:00:00+02:00 2022-05-29 13:00:00         True  \n9   2022-06-12 15:00:00+04:00 2022-06-12 11:00:00         True  \n10  2022-06-19 14:00:00-04:00 2022-06-19 18:00:00         True  \n11  2022-07-03 15:00:00+01:00 2022-07-03 14:00:00         True  \n12  2022-07-10 15:00:00+02:00 2022-07-10 13:00:00         True  \n13  2022-07-24 15:00:00+02:00 2022-07-24 13:00:00         True  \n14  2022-07-31 15:00:00+02:00 2022-07-31 13:00:00         True  \n15  2022-08-28 15:00:00+02:00 2022-08-28 13:00:00         True  \n16  2022-09-04 15:00:00+02:00 2022-09-04 13:00:00         True  \n17  2022-09-11 15:00:00+02:00 2022-09-11 13:00:00         True  \n18  2022-10-02 20:00:00+08:00 2022-10-02 12:00:00         True  \n19  2022-10-09 14:00:00+09:00 2022-10-09 05:00:00         True  \n20  2022-10-23 14:00:00-05:00 2022-10-23 19:00:00         True  \n21  2022-10-30 14:00:00-06:00 2022-10-30 20:00:00         True  \n22  2022-11-13 15:00:00-03:00 2022-11-13 18:00:00         True  \n23  2022-11-20 17:00:00+04:00 2022-11-20 13:00:00         True  \n\n[24 rows x 23 columns]",
      "text/html": "<div>\n<style scoped>\n    .dataframe tbody tr th:only-of-type {\n        vertical-align: middle;\n    }\n\n    .dataframe tbody tr th {\n        vertical-align: top;\n    }\n\n    .dataframe thead th {\n        text-align: right;\n    }\n</style>\n<table border=\"1\" class=\"dataframe\">\n  <thead>\n    <tr style=\"text-align: right;\">\n      <th></th>\n      <th>RoundNumber</th>\n      <th>Country</th>\n      <th>Location</th>\n      <th>OfficialEventName</th>\n      <th>EventDate</th>\n      <th>EventName</th>\n      <th>EventFormat</th>\n      <th>Session1</th>\n      <th>Session1Date</th>\n      <th>Session1DateUtc</th>\n      <th>...</th>\n      <th>Session3</th>\n      <th>Session3Date</th>\n      <th>Session3DateUtc</th>\n      <th>Session4</th>\n      <th>Session4Date</th>\n      <th>Session4DateUtc</th>\n      <th>Session5</th>\n      <th>Session5Date</th>\n      <th>Session5DateUtc</th>\n      <th>F1ApiSupport</th>\n    </tr>\n  </thead>\n  <tbody>\n    <tr>\n      <th>0</th>\n      <td>0</td>\n      <td>Spain</td>\n      <td>Spain</td>\n      <td>FORMULA 1 PRE-SEASON TRACK SESSION 2022</td>\n      <td>2022-02-25</td>\n      <td>Pre-Season Track Session</td>\n      <td>testing</td>\n      <td>Practice 1</td>\n      <td>2022-02-23 09:00:00+01:00</td>\n      <td>2022-02-23 08:00:00</td>\n      <td>...</td>\n      <td>Practice 3</td>\n      <td>2022-02-25 09:00:00+01:00</td>\n      <td>2022-02-25 08:00:00</td>\n      <td>None</td>\n      <td>NaT</td>\n      <td>NaT</td>\n      <td>None</td>\n      <td>NaT</td>\n      <td>NaT</td>\n      <td>False</td>\n    </tr>\n    <tr>\n      <th>1</th>\n      <td>0</td>\n      <td>Bahrain</td>\n      <td>Bahrain</td>\n      <td>FORMULA 1 ARAMCO PRE-SEASON TESTING 2022</td>\n      <td>2022-03-12</td>\n      <td>Pre-Season Test</td>\n      <td>testing</td>\n      <td>Practice 1</td>\n      <td>2022-03-10 10:00:00+03:00</td>\n      <td>2022-03-10 07:00:00</td>\n      <td>...</td>\n      <td>Practice 3</td>\n      <td>2022-03-12 10:00:00+03:00</td>\n      <td>2022-03-12 07:00:00</td>\n      <td>None</td>\n      <td>NaT</td>\n      <td>NaT</td>\n      <td>None</td>\n      <td>NaT</td>\n      <td>NaT</td>\n      <td>True</td>\n    </tr>\n    <tr>\n      <th>2</th>\n      <td>1</td>\n      <td>Bahrain</td>\n      <td>Sakhir</td>\n      <td>FORMULA 1 GULF AIR BAHRAIN GRAND PRIX 2022</td>\n      <td>2022-03-20</td>\n      <td>Bahrain Grand Prix</td>\n      <td>conventional</td>\n      <td>Practice 1</td>\n      <td>2022-03-18 15:00:00+03:00</td>\n      <td>2022-03-18 12:00:00</td>\n      <td>...</td>\n      <td>Practice 3</td>\n      <td>2022-03-19 15:00:00+03:00</td>\n      <td>2022-03-19 12:00:00</td>\n      <td>Qualifying</td>\n      <td>2022-03-19 18:00:00+03:00</td>\n      <td>2022-03-19 15:00:00</td>\n      <td>Race</td>\n      <td>2022-03-20 18:00:00+03:00</td>\n      <td>2022-03-20 15:00:00</td>\n      <td>True</td>\n    </tr>\n    <tr>\n      <th>3</th>\n      <td>2</td>\n      <td>Saudi Arabia</td>\n      <td>Jeddah</td>\n      <td>FORMULA 1 STC SAUDI ARABIAN GRAND PRIX 2022</td>\n      <td>2022-03-27</td>\n      <td>Saudi Arabian Grand Prix</td>\n      <td>conventional</td>\n      <td>Practice 1</td>\n      <td>2022-03-25 17:00:00+03:00</td>\n      <td>2022-03-25 14:00:00</td>\n      <td>...</td>\n      <td>Practice 3</td>\n      <td>2022-03-26 17:00:00+03:00</td>\n      <td>2022-03-26 14:00:00</td>\n      <td>Qualifying</td>\n      <td>2022-03-26 20:00:00+03:00</td>\n      <td>2022-03-26 17:00:00</td>\n      <td>Race</td>\n      <td>2022-03-27 20:00:00+03:00</td>\n      <td>2022-03-27 17:00:00</td>\n      <td>True</td>\n    </tr>\n    <tr>\n      <th>4</th>\n      <td>3</td>\n      <td>Australia</td>\n      <td>Melbourne</td>\n      <td>FORMULA 1 HEINEKEN AUSTRALIAN GRAND PRIX 2022</td>\n      <td>2022-04-10</td>\n      <td>Australian Grand Prix</td>\n      <td>conventional</td>\n      <td>Practice 1</td>\n      <td>2022-04-08 13:00:00+10:00</td>\n      <td>2022-04-08 03:00:00</td>\n      <td>...</td>\n      <td>Practice 3</td>\n      <td>2022-04-09 13:00:00+10:00</td>\n      <td>2022-04-09 03:00:00</td>\n      <td>Qualifying</td>\n      <td>2022-04-09 16:00:00+10:00</td>\n      <td>2022-04-09 06:00:00</td>\n      <td>Race</td>\n      <td>2022-04-10 15:00:00+10:00</td>\n      <td>2022-04-10 05:00:00</td>\n      <td>True</td>\n    </tr>\n    <tr>\n      <th>5</th>\n      <td>4</td>\n      <td>Italy</td>\n      <td>Imola</td>\n      <td>FORMULA 1 ROLEX GRAN PREMIO DEL MADE IN ITALY ...</td>\n      <td>2022-04-24</td>\n      <td>Emilia Romagna Grand Prix</td>\n      <td>sprint</td>\n      <td>Practice 1</td>\n      <td>2022-04-22 13:30:00+02:00</td>\n      <td>2022-04-22 11:30:00</td>\n      <td>...</td>\n      <td>Practice 2</td>\n      <td>2022-04-23 12:30:00+02:00</td>\n      <td>2022-04-23 10:30:00</td>\n      <td>Sprint</td>\n      <td>2022-04-23 16:30:00+02:00</td>\n      <td>2022-04-23 14:30:00</td>\n      <td>Race</td>\n      <td>2022-04-24 15:00:00+02:00</td>\n      <td>2022-04-24 13:00:00</td>\n      <td>True</td>\n    </tr>\n    <tr>\n      <th>6</th>\n      <td>5</td>\n      <td>United States</td>\n      <td>Miami</td>\n      <td>FORMULA 1 CRYPTO.COM MIAMI GRAND PRIX 2022</td>\n      <td>2022-05-08</td>\n      <td>Miami Grand Prix</td>\n      <td>conventional</td>\n      <td>Practice 1</td>\n      <td>2022-05-06 14:30:00-04:00</td>\n      <td>2022-05-06 18:30:00</td>\n      <td>...</td>\n      <td>Practice 3</td>\n      <td>2022-05-07 13:00:00-04:00</td>\n      <td>2022-05-07 17:00:00</td>\n      <td>Qualifying</td>\n      <td>2022-05-07 16:00:00-04:00</td>\n      <td>2022-05-07 20:00:00</td>\n      <td>Race</td>\n      <td>2022-05-08 15:30:00-04:00</td>\n      <td>2022-05-08 19:30:00</td>\n      <td>True</td>\n    </tr>\n    <tr>\n      <th>7</th>\n      <td>6</td>\n      <td>Spain</td>\n      <td>Barcelona</td>\n      <td>FORMULA 1 PIRELLI GRAN PREMIO DE ESPAÑA 2022</td>\n      <td>2022-05-22</td>\n      <td>Spanish Grand Prix</td>\n      <td>conventional</td>\n      <td>Practice 1</td>\n      <td>2022-05-20 14:00:00+02:00</td>\n      <td>2022-05-20 12:00:00</td>\n      <td>...</td>\n      <td>Practice 3</td>\n      <td>2022-05-21 13:00:00+02:00</td>\n      <td>2022-05-21 11:00:00</td>\n      <td>Qualifying</td>\n      <td>2022-05-21 16:00:00+02:00</td>\n      <td>2022-05-21 14:00:00</td>\n      <td>Race</td>\n      <td>2022-05-22 15:00:00+02:00</td>\n      <td>2022-05-22 13:00:00</td>\n      <td>True</td>\n    </tr>\n    <tr>\n      <th>8</th>\n      <td>7</td>\n      <td>Monaco</td>\n      <td>Monaco</td>\n      <td>FORMULA 1 GRAND PRIX DE MONACO 2022</td>\n      <td>2022-05-29</td>\n      <td>Monaco Grand Prix</td>\n      <td>conventional</td>\n      <td>Practice 1</td>\n      <td>2022-05-27 14:00:00+02:00</td>\n      <td>2022-05-27 12:00:00</td>\n      <td>...</td>\n      <td>Practice 3</td>\n      <td>2022-05-28 13:00:00+02:00</td>\n      <td>2022-05-28 11:00:00</td>\n      <td>Qualifying</td>\n      <td>2022-05-28 16:00:00+02:00</td>\n      <td>2022-05-28 14:00:00</td>\n      <td>Race</td>\n      <td>2022-05-29 15:00:00+02:00</td>\n      <td>2022-05-29 13:00:00</td>\n      <td>True</td>\n    </tr>\n    <tr>\n      <th>9</th>\n      <td>8</td>\n      <td>Azerbaijan</td>\n      <td>Baku</td>\n      <td>FORMULA 1 AZERBAIJAN GRAND PRIX 2022</td>\n      <td>2022-06-12</td>\n      <td>Azerbaijan Grand Prix</td>\n      <td>conventional</td>\n      <td>Practice 1</td>\n      <td>2022-06-10 15:00:00+04:00</td>\n      <td>2022-06-10 11:00:00</td>\n      <td>...</td>\n      <td>Practice 3</td>\n      <td>2022-06-11 15:00:00+04:00</td>\n      <td>2022-06-11 11:00:00</td>\n      <td>Qualifying</td>\n      <td>2022-06-11 18:00:00+04:00</td>\n      <td>2022-06-11 14:00:00</td>\n      <td>Race</td>\n      <td>2022-06-12 15:00:00+04:00</td>\n      <td>2022-06-12 11:00:00</td>\n      <td>True</td>\n    </tr>\n    <tr>\n      <th>10</th>\n      <td>9</td>\n      <td>Canada</td>\n      <td>Montréal</td>\n      <td>FORMULA 1 AWS GRAND PRIX DU CANADA 2022</td>\n      <td>2022-06-19</td>\n      <td>Canadian Grand Prix</td>\n      <td>conventional</td>\n      <td>Practice 1</td>\n      <td>2022-06-17 14:00:00-04:00</td>\n      <td>2022-06-17 18:00:00</td>\n      <td>...</td>\n      <td>Practice 3</td>\n      <td>2022-06-18 13:00:00-04:00</td>\n      <td>2022-06-18 17:00:00</td>\n      <td>Qualifying</td>\n      <td>2022-06-18 16:00:00-04:00</td>\n      <td>2022-06-18 20:00:00</td>\n      <td>Race</td>\n      <td>2022-06-19 14:00:00-04:00</td>\n      <td>2022-06-19 18:00:00</td>\n      <td>True</td>\n    </tr>\n    <tr>\n      <th>11</th>\n      <td>10</td>\n      <td>Great Britain</td>\n      <td>Silverstone</td>\n      <td>FORMULA 1 LENOVO BRITISH GRAND PRIX 2022</td>\n      <td>2022-07-03</td>\n      <td>British Grand Prix</td>\n      <td>conventional</td>\n      <td>Practice 1</td>\n      <td>2022-07-01 13:00:00+01:00</td>\n      <td>2022-07-01 12:00:00</td>\n      <td>...</td>\n      <td>Practice 3</td>\n      <td>2022-07-02 12:00:00+01:00</td>\n      <td>2022-07-02 11:00:00</td>\n      <td>Qualifying</td>\n      <td>2022-07-02 15:00:00+01:00</td>\n      <td>2022-07-02 14:00:00</td>\n      <td>Race</td>\n      <td>2022-07-03 15:00:00+01:00</td>\n      <td>2022-07-03 14:00:00</td>\n      <td>True</td>\n    </tr>\n    <tr>\n      <th>12</th>\n      <td>11</td>\n      <td>Austria</td>\n      <td>Spielberg</td>\n      <td>FORMULA 1 ROLEX GROSSER PREIS VON ÖSTERREICH 2022</td>\n      <td>2022-07-10</td>\n      <td>Austrian Grand Prix</td>\n      <td>sprint</td>\n      <td>Practice 1</td>\n      <td>2022-07-08 13:30:00+02:00</td>\n      <td>2022-07-08 11:30:00</td>\n      <td>...</td>\n      <td>Practice 2</td>\n      <td>2022-07-09 12:30:00+02:00</td>\n      <td>2022-07-09 10:30:00</td>\n      <td>Sprint</td>\n      <td>2022-07-09 16:30:00+02:00</td>\n      <td>2022-07-09 14:30:00</td>\n      <td>Race</td>\n      <td>2022-07-10 15:00:00+02:00</td>\n      <td>2022-07-10 13:00:00</td>\n      <td>True</td>\n    </tr>\n    <tr>\n      <th>13</th>\n      <td>12</td>\n      <td>France</td>\n      <td>Le Castellet</td>\n      <td>FORMULA 1 LENOVO GRAND PRIX DE FRANCE 2022</td>\n      <td>2022-07-24</td>\n      <td>French Grand Prix</td>\n      <td>conventional</td>\n      <td>Practice 1</td>\n      <td>2022-07-22 14:00:00+02:00</td>\n      <td>2022-07-22 12:00:00</td>\n      <td>...</td>\n      <td>Practice 3</td>\n      <td>2022-07-23 13:00:00+02:00</td>\n      <td>2022-07-23 11:00:00</td>\n      <td>Qualifying</td>\n      <td>2022-07-23 16:00:00+02:00</td>\n      <td>2022-07-23 14:00:00</td>\n      <td>Race</td>\n      <td>2022-07-24 15:00:00+02:00</td>\n      <td>2022-07-24 13:00:00</td>\n      <td>True</td>\n    </tr>\n    <tr>\n      <th>14</th>\n      <td>13</td>\n      <td>Hungary</td>\n      <td>Budapest</td>\n      <td>FORMULA 1 ARAMCO MAGYAR NAGYDÍJ 2022</td>\n      <td>2022-07-31</td>\n      <td>Hungarian Grand Prix</td>\n      <td>conventional</td>\n      <td>Practice 1</td>\n      <td>2022-07-29 14:00:00+02:00</td>\n      <td>2022-07-29 12:00:00</td>\n      <td>...</td>\n      <td>Practice 3</td>\n      <td>2022-07-30 13:00:00+02:00</td>\n      <td>2022-07-30 11:00:00</td>\n      <td>Qualifying</td>\n      <td>2022-07-30 16:00:00+02:00</td>\n      <td>2022-07-30 14:00:00</td>\n      <td>Race</td>\n      <td>2022-07-31 15:00:00+02:00</td>\n      <td>2022-07-31 13:00:00</td>\n      <td>True</td>\n    </tr>\n    <tr>\n      <th>15</th>\n      <td>14</td>\n      <td>Belgium</td>\n      <td>Spa-Francorchamps</td>\n      <td>FORMULA 1 ROLEX BELGIAN GRAND PRIX 2022</td>\n      <td>2022-08-28</td>\n      <td>Belgian Grand Prix</td>\n      <td>conventional</td>\n      <td>Practice 1</td>\n      <td>2022-08-26 14:00:00+02:00</td>\n      <td>2022-08-26 12:00:00</td>\n      <td>...</td>\n      <td>Practice 3</td>\n      <td>2022-08-27 13:00:00+02:00</td>\n      <td>2022-08-27 11:00:00</td>\n      <td>Qualifying</td>\n      <td>2022-08-27 16:00:00+02:00</td>\n      <td>2022-08-27 14:00:00</td>\n      <td>Race</td>\n      <td>2022-08-28 15:00:00+02:00</td>\n      <td>2022-08-28 13:00:00</td>\n      <td>True</td>\n    </tr>\n    <tr>\n      <th>16</th>\n      <td>15</td>\n      <td>Netherlands</td>\n      <td>Zandvoort</td>\n      <td>FORMULA 1 HEINEKEN DUTCH GRAND PRIX 2022</td>\n      <td>2022-09-04</td>\n      <td>Dutch Grand Prix</td>\n      <td>conventional</td>\n      <td>Practice 1</td>\n      <td>2022-09-02 12:30:00+02:00</td>\n      <td>2022-09-02 10:30:00</td>\n      <td>...</td>\n      <td>Practice 3</td>\n      <td>2022-09-03 12:00:00+02:00</td>\n      <td>2022-09-03 10:00:00</td>\n      <td>Qualifying</td>\n      <td>2022-09-03 15:00:00+02:00</td>\n      <td>2022-09-03 13:00:00</td>\n      <td>Race</td>\n      <td>2022-09-04 15:00:00+02:00</td>\n      <td>2022-09-04 13:00:00</td>\n      <td>True</td>\n    </tr>\n    <tr>\n      <th>17</th>\n      <td>16</td>\n      <td>Italy</td>\n      <td>Monza</td>\n      <td>FORMULA 1 PIRELLI GRAN PREMIO D’ITALIA 2022</td>\n      <td>2022-09-11</td>\n      <td>Italian Grand Prix</td>\n      <td>conventional</td>\n      <td>Practice 1</td>\n      <td>2022-09-09 14:00:00+02:00</td>\n      <td>2022-09-09 12:00:00</td>\n      <td>...</td>\n      <td>Practice 3</td>\n      <td>2022-09-10 13:00:00+02:00</td>\n      <td>2022-09-10 11:00:00</td>\n      <td>Qualifying</td>\n      <td>2022-09-10 16:00:00+02:00</td>\n      <td>2022-09-10 14:00:00</td>\n      <td>Race</td>\n      <td>2022-09-11 15:00:00+02:00</td>\n      <td>2022-09-11 13:00:00</td>\n      <td>True</td>\n    </tr>\n    <tr>\n      <th>18</th>\n      <td>17</td>\n      <td>Singapore</td>\n      <td>Marina Bay</td>\n      <td>FORMULA 1 SINGAPORE AIRLINES SINGAPORE GRAND P...</td>\n      <td>2022-10-02</td>\n      <td>Singapore Grand Prix</td>\n      <td>conventional</td>\n      <td>Practice 1</td>\n      <td>2022-09-30 18:00:00+08:00</td>\n      <td>2022-09-30 10:00:00</td>\n      <td>...</td>\n      <td>Practice 3</td>\n      <td>2022-10-01 18:00:00+08:00</td>\n      <td>2022-10-01 10:00:00</td>\n      <td>Qualifying</td>\n      <td>2022-10-01 21:00:00+08:00</td>\n      <td>2022-10-01 13:00:00</td>\n      <td>Race</td>\n      <td>2022-10-02 20:00:00+08:00</td>\n      <td>2022-10-02 12:00:00</td>\n      <td>True</td>\n    </tr>\n    <tr>\n      <th>19</th>\n      <td>18</td>\n      <td>Japan</td>\n      <td>Suzuka</td>\n      <td>FORMULA 1 HONDA JAPANESE GRAND PRIX 2022</td>\n      <td>2022-10-09</td>\n      <td>Japanese Grand Prix</td>\n      <td>conventional</td>\n      <td>Practice 1</td>\n      <td>2022-10-07 12:00:00+09:00</td>\n      <td>2022-10-07 03:00:00</td>\n      <td>...</td>\n      <td>Practice 3</td>\n      <td>2022-10-08 12:00:00+09:00</td>\n      <td>2022-10-08 03:00:00</td>\n      <td>Qualifying</td>\n      <td>2022-10-08 15:00:00+09:00</td>\n      <td>2022-10-08 06:00:00</td>\n      <td>Race</td>\n      <td>2022-10-09 14:00:00+09:00</td>\n      <td>2022-10-09 05:00:00</td>\n      <td>True</td>\n    </tr>\n    <tr>\n      <th>20</th>\n      <td>19</td>\n      <td>United States</td>\n      <td>Austin</td>\n      <td>FORMULA 1 ARAMCO UNITED STATES GRAND PRIX 2022</td>\n      <td>2022-10-23</td>\n      <td>United States Grand Prix</td>\n      <td>conventional</td>\n      <td>Practice 1</td>\n      <td>2022-10-21 14:00:00-05:00</td>\n      <td>2022-10-21 19:00:00</td>\n      <td>...</td>\n      <td>Practice 3</td>\n      <td>2022-10-22 14:00:00-05:00</td>\n      <td>2022-10-22 19:00:00</td>\n      <td>Qualifying</td>\n      <td>2022-10-22 17:00:00-05:00</td>\n      <td>2022-10-22 22:00:00</td>\n      <td>Race</td>\n      <td>2022-10-23 14:00:00-05:00</td>\n      <td>2022-10-23 19:00:00</td>\n      <td>True</td>\n    </tr>\n    <tr>\n      <th>21</th>\n      <td>20</td>\n      <td>Mexico</td>\n      <td>Mexico City</td>\n      <td>FORMULA 1 HEINEKEN GRAN PREMIO DE LA CIUDAD DE...</td>\n      <td>2022-10-30</td>\n      <td>Mexico City Grand Prix</td>\n      <td>conventional</td>\n      <td>Practice 1</td>\n      <td>2022-10-28 13:00:00-06:00</td>\n      <td>2022-10-28 19:00:00</td>\n      <td>...</td>\n      <td>Practice 3</td>\n      <td>2022-10-29 12:00:00-06:00</td>\n      <td>2022-10-29 18:00:00</td>\n      <td>Qualifying</td>\n      <td>2022-10-29 15:00:00-06:00</td>\n      <td>2022-10-29 21:00:00</td>\n      <td>Race</td>\n      <td>2022-10-30 14:00:00-06:00</td>\n      <td>2022-10-30 20:00:00</td>\n      <td>True</td>\n    </tr>\n    <tr>\n      <th>22</th>\n      <td>21</td>\n      <td>Brazil</td>\n      <td>São Paulo</td>\n      <td>FORMULA 1 HEINEKEN GRANDE PRÊMIO DE SÃO PAULO ...</td>\n      <td>2022-11-13</td>\n      <td>São Paulo Grand Prix</td>\n      <td>sprint</td>\n      <td>Practice 1</td>\n      <td>2022-11-11 12:30:00-03:00</td>\n      <td>2022-11-11 15:30:00</td>\n      <td>...</td>\n      <td>Practice 2</td>\n      <td>2022-11-12 12:30:00-03:00</td>\n      <td>2022-11-12 15:30:00</td>\n      <td>Sprint</td>\n      <td>2022-11-12 16:30:00-03:00</td>\n      <td>2022-11-12 19:30:00</td>\n      <td>Race</td>\n      <td>2022-11-13 15:00:00-03:00</td>\n      <td>2022-11-13 18:00:00</td>\n      <td>True</td>\n    </tr>\n    <tr>\n      <th>23</th>\n      <td>22</td>\n      <td>Abu Dhabi</td>\n      <td>Yas Island</td>\n      <td>FORMULA 1 ETIHAD AIRWAYS ABU DHABI GRAND PRIX ...</td>\n      <td>2022-11-20</td>\n      <td>Abu Dhabi Grand Prix</td>\n      <td>conventional</td>\n      <td>Practice 1</td>\n      <td>2022-11-18 14:00:00+04:00</td>\n      <td>2022-11-18 10:00:00</td>\n      <td>...</td>\n      <td>Practice 3</td>\n      <td>2022-11-19 14:30:00+04:00</td>\n      <td>2022-11-19 10:30:00</td>\n      <td>Qualifying</td>\n      <td>2022-11-19 18:00:00+04:00</td>\n      <td>2022-11-19 14:00:00</td>\n      <td>Race</td>\n      <td>2022-11-20 17:00:00+04:00</td>\n      <td>2022-11-20 13:00:00</td>\n      <td>True</td>\n    </tr>\n  </tbody>\n</table>\n<p>24 rows × 23 columns</p>\n</div>"
     },
     "execution_count": 4,
     "metadata": {},
     "output_type": "execute_result"
    }
   ],
   "source": [
    "race_schedule_2022 = fastf1.get_event_schedule(2022)\n",
    "race_schedule_2022"
   ],
   "metadata": {
    "collapsed": false,
    "ExecuteTime": {
     "end_time": "2024-06-10T10:01:35.167748900Z",
     "start_time": "2024-06-10T10:01:34.907696800Z"
    }
   },
   "id": "9b43c27d277f62b"
  },
  {
   "cell_type": "markdown",
   "source": [
    "The link of the JSON file that keeps all audio data from a specific race:\n",
    "\n",
    "livetiming.formula1.com/static/2023/2023-02-25_Bahrain_Grand_Prix/2023-02-25_Race/TeamRadio.jsonStream"
   ],
   "metadata": {
    "collapsed": false
   },
   "id": "c5ab04f5ec543e8b"
  },
  {
   "cell_type": "code",
   "execution_count": 11,
   "outputs": [],
   "source": [
    "def get_team_radio(location):\n",
    "    logging.basicConfig(format='%(asctime)s - %(message)s', level=logging.INFO)\n",
    "    url = location\n",
    "    logging.info('Attempting to retrieve data from URL: %s', url)\n",
    "    try:\n",
    "        r = requests.get(location)\n",
    "        r.encoding = 'utf-8-sig'\n",
    "        out = json.loads(r.text)\n",
    "        output = json.dumps(out, indent=4)\n",
    "        logging.info('Data successfully retrieved from URL: %s', url)\n",
    "        #return output\n",
    "        return json.loads(output)\n",
    "    except requests.RequestException as e:\n",
    "        logging.error('Error retrieving data from URL: %s', url)\n",
    "        logging.error(e)\n",
    "        return None\n",
    "    except JSONDecodeError:\n",
    "        logging.warning('Failed to decode JSON data from URL: %s', url)\n",
    "        return None"
   ],
   "metadata": {
    "collapsed": false,
    "ExecuteTime": {
     "end_time": "2024-06-10T10:08:00.567166Z",
     "start_time": "2024-06-10T10:08:00.540225100Z"
    }
   },
   "id": "a64a272171b95db4"
  },
  {
   "cell_type": "code",
   "execution_count": 12,
   "outputs": [
    {
     "name": "stderr",
     "output_type": "stream",
     "text": [
      "2024-06-10 13:08:01,681 - Attempting to retrieve data from URL: https://livetiming.formula1.com/static/2023/2023-03-05_Bahrain_Grand_Prix/2023-03-05_Race/TeamRadio.json\n",
      "2024-06-10 13:08:02,349 - Data successfully retrieved from URL: https://livetiming.formula1.com/static/2023/2023-03-05_Bahrain_Grand_Prix/2023-03-05_Race/TeamRadio.json\n"
     ]
    },
    {
     "name": "stdout",
     "output_type": "stream",
     "text": [
      "JSON data: {'Captures': [{'Utc': '2023-03-05T14:20:25.563Z', 'RacingNumber': '20', 'Path': 'TeamRadio/KEVMAG01_20_20230305_141949.mp3'}, {'Utc': '2023-03-05T14:28:08.211Z', 'RacingNumber': '11', 'Path': 'TeamRadio/SERPER01_11_20230305_142737.mp3'}, {'Utc': '2023-03-05T14:58:31.7697978Z', 'RacingNumber': '20', 'Path': 'TeamRadio/KEVMAG01_20_20230305_145820.mp3'}, {'Utc': '2023-03-05T15:00:11.957Z', 'RacingNumber': '27', 'Path': 'TeamRadio/NICHUL01_27_20230305_145953.mp3'}, {'Utc': '2023-03-05T15:02:58.2510788Z', 'RacingNumber': '2', 'Path': 'TeamRadio/LOGSAR01_2_20230305_150237.mp3'}, {'Utc': '2023-03-05T15:07:58.261Z', 'RacingNumber': '27', 'Path': 'TeamRadio/NICHUL01_27_20230305_150739.mp3'}, {'Utc': '2023-03-05T15:09:04.8859816Z', 'RacingNumber': '11', 'Path': 'TeamRadio/SERPER01_11_20230305_150827.mp3'}, {'Utc': '2023-03-05T15:11:18.835Z', 'RacingNumber': '27', 'Path': 'TeamRadio/NICHUL01_27_20230305_151055.mp3'}, {'Utc': '2023-03-05T15:15:11.487Z', 'RacingNumber': '77', 'Path': 'TeamRadio/VALBOT01_77_20230305_151456.mp3'}, {'Utc': '2023-03-05T15:16:18.377Z', 'RacingNumber': '4', 'Path': 'TeamRadio/LANNOR01_4_20230305_151548.mp3'}, {'Utc': '2023-03-05T15:16:20.877Z', 'RacingNumber': '23', 'Path': 'TeamRadio/ALEALB01_23_20230305_151555.mp3'}, {'Utc': '2023-03-05T15:16:53.032Z', 'RacingNumber': '27', 'Path': 'TeamRadio/NICHUL01_27_20230305_151611.mp3'}, {'Utc': '2023-03-05T15:18:01.187Z', 'RacingNumber': '44', 'Path': 'TeamRadio/LEWHAM01_44_20230305_151725.mp3'}, {'Utc': '2023-03-05T15:19:06.8939905Z', 'RacingNumber': '1', 'Path': 'TeamRadio/MAXVER01_1_20230305_151829.mp3'}, {'Utc': '2023-03-05T15:19:07.171Z', 'RacingNumber': '24', 'Path': 'TeamRadio/GUAZHO01_24_20230305_151859.mp3'}, {'Utc': '2023-03-05T15:19:41.467Z', 'RacingNumber': '1', 'Path': 'TeamRadio/MAXVER01_1_20230305_151925.mp3'}, {'Utc': '2023-03-05T15:21:21.778Z', 'RacingNumber': '27', 'Path': 'TeamRadio/NICHUL01_27_20230305_152101.mp3'}, {'Utc': '2023-03-05T15:23:02.088Z', 'RacingNumber': '18', 'Path': 'TeamRadio/LANSTR01_18_20230305_152227.mp3'}, {'Utc': '2023-03-05T15:23:02.088Z', 'RacingNumber': '55', 'Path': 'TeamRadio/CARSAI01_55_20230305_152246.mp3'}, {'Utc': '2023-03-05T15:25:47.523Z', 'RacingNumber': '14', 'Path': 'TeamRadio/FERALO01_14_20230305_152529.mp3'}, {'Utc': '2023-03-05T15:27:27.865Z', 'RacingNumber': '27', 'Path': 'TeamRadio/NICHUL01_27_20230305_152700.mp3'}, {'Utc': '2023-03-05T15:29:08.5257245Z', 'RacingNumber': '81', 'Path': 'TeamRadio/OSCPIA01_81_20230305_152844.mp3'}, {'Utc': '2023-03-05T15:30:15.377Z', 'RacingNumber': '23', 'Path': 'TeamRadio/ALEALB01_23_20230305_152947.mp3'}, {'Utc': '2023-03-05T15:30:49.267Z', 'RacingNumber': '22', 'Path': 'TeamRadio/YUKTSU01_22_20230305_153021.mp3'}, {'Utc': '2023-03-05T15:33:04.624Z', 'RacingNumber': '22', 'Path': 'TeamRadio/YUKTSU01_22_20230305_153246.mp3'}, {'Utc': '2023-03-05T15:35:17.372Z', 'RacingNumber': '77', 'Path': 'TeamRadio/VALBOT01_77_20230305_153449.mp3'}, {'Utc': '2023-03-05T15:35:51.215Z', 'RacingNumber': '20', 'Path': 'TeamRadio/KEVMAG01_20_20230305_153511.mp3'}, {'Utc': '2023-03-05T15:35:51.622Z', 'RacingNumber': '1', 'Path': 'TeamRadio/MAXVER01_1_20230305_153512.mp3'}, {'Utc': '2023-03-05T15:35:51.996Z', 'RacingNumber': '4', 'Path': 'TeamRadio/LANNOR01_4_20230305_153524.mp3'}, {'Utc': '2023-03-05T15:37:32.354Z', 'RacingNumber': '27', 'Path': 'TeamRadio/NICHUL01_27_20230305_153709.mp3'}, {'Utc': '2023-03-05T15:39:11.821Z', 'RacingNumber': '22', 'Path': 'TeamRadio/YUKTSU01_22_20230305_153903.mp3'}, {'Utc': '2023-03-05T15:40:20.851Z', 'RacingNumber': '20', 'Path': 'TeamRadio/KEVMAG01_20_20230305_154004.mp3'}, {'Utc': '2023-03-05T15:42:32.223Z', 'RacingNumber': '1', 'Path': 'TeamRadio/MAXVER01_1_20230305_154159.mp3'}, {'Utc': '2023-03-05T15:42:32.645Z', 'RacingNumber': '16', 'Path': 'TeamRadio/CHALEC01_16_20230305_154208.mp3'}, {'Utc': '2023-03-05T15:42:32.7785668Z', 'RacingNumber': '31', 'Path': 'TeamRadio/ESTOCO01_31_20230305_154224.mp3'}, {'Utc': '2023-03-05T15:42:32.989Z', 'RacingNumber': '55', 'Path': 'TeamRadio/CARSAI01_55_20230305_154226.mp3'}, {'Utc': '2023-03-05T15:42:33.036Z', 'RacingNumber': '31', 'Path': 'TeamRadio/ESTOCO01_31_20230305_154227.mp3'}, {'Utc': '2023-03-05T15:42:33.1785071Z', 'RacingNumber': '16', 'Path': 'TeamRadio/CHALEC01_16_20230305_154229.mp3'}, {'Utc': '2023-03-05T15:42:33.286Z', 'RacingNumber': '10', 'Path': 'TeamRadio/PIEGAS01_10_20230305_154231.mp3'}, {'Utc': '2023-03-05T15:43:07.629Z', 'RacingNumber': '31', 'Path': 'TeamRadio/ESTOCO01_31_20230305_154233.mp3'}, {'Utc': '2023-03-05T15:43:08.02Z', 'RacingNumber': '24', 'Path': 'TeamRadio/GUAZHO01_24_20230305_154237.mp3'}, {'Utc': '2023-03-05T15:43:08.176Z', 'RacingNumber': '24', 'Path': 'TeamRadio/GUAZHO01_24_20230305_154252.mp3'}, {'Utc': '2023-03-05T15:44:48.924Z', 'RacingNumber': '14', 'Path': 'TeamRadio/FERALO01_14_20230305_154411.mp3'}, {'Utc': '2023-03-05T15:48:09.311Z', 'RacingNumber': '16', 'Path': 'TeamRadio/CHALEC01_16_20230305_154746.mp3'}, {'Utc': '2023-03-05T15:50:22.605Z', 'RacingNumber': '27', 'Path': 'TeamRadio/NICHUL01_27_20230305_154950.mp3'}, {'Utc': '2023-03-05T15:50:57.699Z', 'RacingNumber': '1', 'Path': 'TeamRadio/MAXVER01_1_20230305_155007.mp3'}, {'Utc': '2023-03-05T15:50:57.699Z', 'RacingNumber': '11', 'Path': 'TeamRadio/SERPER01_11_20230305_155033.mp3'}, {'Utc': '2023-03-05T15:50:57.699Z', 'RacingNumber': '16', 'Path': 'TeamRadio/CHALEC01_16_20230305_155040.mp3'}, {'Utc': '2023-03-05T15:50:57.699Z', 'RacingNumber': '44', 'Path': 'TeamRadio/LEWHAM01_44_20230305_155041.mp3'}, {'Utc': '2023-03-05T15:52:37.931Z', 'RacingNumber': '11', 'Path': 'TeamRadio/SERPER01_11_20230305_155209.mp3'}, {'Utc': '2023-03-05T15:52:37.931Z', 'RacingNumber': '11', 'Path': 'TeamRadio/SERPER01_11_20230305_155215.mp3'}, {'Utc': '2023-03-05T15:52:37.931Z', 'RacingNumber': '23', 'Path': 'TeamRadio/ALEALB01_23_20230305_155216.mp3'}, {'Utc': '2023-03-05T15:54:18.257Z', 'RacingNumber': '44', 'Path': 'TeamRadio/LEWHAM01_44_20230305_155328.mp3'}, {'Utc': '2023-03-05T15:54:53.351Z', 'RacingNumber': '18', 'Path': 'TeamRadio/LANSTR01_18_20230305_155420.mp3'}, {'Utc': '2023-03-05T15:54:53.351Z', 'RacingNumber': '63', 'Path': 'TeamRadio/GEORUS01_63_20230305_155430.mp3'}, {'Utc': '2023-03-05T15:55:59.084Z', 'RacingNumber': '24', 'Path': 'TeamRadio/GUAZHO01_24_20230305_155524.mp3'}, {'Utc': '2023-03-05T15:58:13.769Z', 'RacingNumber': '31', 'Path': 'TeamRadio/ESTOCO01_31_20230305_155746.mp3'}, {'Utc': '2023-03-05T16:07:05.681Z', 'RacingNumber': '4', 'Path': 'TeamRadio/LANNOR01_4_20230305_160632.mp3'}, {'Utc': '2023-03-05T16:07:06.087Z', 'RacingNumber': '14', 'Path': 'TeamRadio/FERALO01_14_20230305_160629.mp3'}, {'Utc': '2023-03-05T16:09:53.1Z', 'RacingNumber': '31', 'Path': 'TeamRadio/ESTOCO01_31_20230305_160907.mp3'}, {'Utc': '2023-03-05T16:17:07.217Z', 'RacingNumber': '4', 'Path': 'TeamRadio/LANNOR01_4_20230305_161646.mp3'}, {'Utc': '2023-03-05T16:17:07.217Z', 'RacingNumber': '55', 'Path': 'TeamRadio/CARSAI01_55_20230305_161631.mp3'}, {'Utc': '2023-03-05T16:17:07.217Z', 'RacingNumber': '21', 'Path': 'TeamRadio/NYCDEV01_21_20230305_161647.mp3'}, {'Utc': '2023-03-05T16:17:40.029Z', 'RacingNumber': '11', 'Path': 'TeamRadio/SERPER01_11_20230305_161725.mp3'}, {'Utc': '2023-03-05T16:18:47.497Z', 'RacingNumber': '27', 'Path': 'TeamRadio/NICHUL01_27_20230305_161807.mp3'}, {'Utc': '2023-03-05T16:20:27.776Z', 'RacingNumber': '77', 'Path': 'TeamRadio/VALBOT01_77_20230305_162018.mp3'}, {'Utc': '2023-03-05T16:23:14.477Z', 'RacingNumber': '14', 'Path': 'TeamRadio/FERALO01_14_20230305_162303.mp3'}, {'Utc': '2023-03-05T16:26:01.004Z', 'RacingNumber': '14', 'Path': 'TeamRadio/FERALO01_14_20230305_162511.mp3'}, {'Utc': '2023-03-05T16:29:54.906Z', 'RacingNumber': '14', 'Path': 'TeamRadio/FERALO01_14_20230305_162918.mp3'}, {'Utc': '2023-03-05T16:32:41.778Z', 'RacingNumber': '18', 'Path': 'TeamRadio/LANSTR01_18_20230305_163228.mp3'}, {'Utc': '2023-03-05T16:34:22.308Z', 'RacingNumber': '4', 'Path': 'TeamRadio/LANNOR01_4_20230305_163402.mp3'}, {'Utc': '2023-03-05T16:36:36.884Z', 'RacingNumber': '24', 'Path': 'TeamRadio/GUAZHO01_24_20230305_163627.mp3'}, {'Utc': '2023-03-05T16:40:31.629Z', 'RacingNumber': '14', 'Path': 'TeamRadio/FERALO01_14_20230305_163945.mp3'}, {'Utc': '2023-03-05T16:42:52.674Z', 'RacingNumber': '2', 'Path': 'TeamRadio/LOGSAR01_2_20230305_164323.mp3'}, {'Utc': '2023-03-05T16:42:52.674Z', 'RacingNumber': '14', 'Path': 'TeamRadio/FERALO01_14_20230305_164341.mp3'}, {'Utc': '2023-03-05T16:42:52.674Z', 'RacingNumber': '63', 'Path': 'TeamRadio/GEORUS01_63_20230305_164410.mp3'}, {'Utc': '2023-03-05T16:42:52.674Z', 'RacingNumber': '23', 'Path': 'TeamRadio/ALEALB01_23_20230305_164612.mp3'}, {'Utc': '2023-03-05T16:42:52.674Z', 'RacingNumber': '22', 'Path': 'TeamRadio/YUKTSU01_22_20230305_164722.mp3'}, {'Utc': '2023-03-05T16:42:52.674Z', 'RacingNumber': '11', 'Path': 'TeamRadio/SERPER01_11_20230305_164706.mp3'}, {'Utc': '2023-03-05T16:42:52.674Z', 'RacingNumber': '21', 'Path': 'TeamRadio/NYCDEV01_21_20230305_164854.mp3'}, {'Utc': '2023-03-05T16:42:52.674Z', 'RacingNumber': '10', 'Path': 'TeamRadio/PIEGAS01_10_20230305_164848.mp3'}, {'Utc': '2023-03-05T16:42:52.674Z', 'RacingNumber': '27', 'Path': 'TeamRadio/NICHUL01_27_20230305_165025.mp3'}, {'Utc': '2023-03-05T16:42:52.674Z', 'RacingNumber': '20', 'Path': 'TeamRadio/KEVMAG01_20_20230305_165155.mp3'}, {'Utc': '2023-03-05T16:42:52.674Z', 'RacingNumber': '77', 'Path': 'TeamRadio/VALBOT01_77_20230305_165208.mp3'}]}\n"
     ]
    }
   ],
   "source": [
    "bahrain_location = \"https://livetiming.formula1.com/static/2023/2023-03-05_Bahrain_Grand_Prix/2023-03-05_Race/TeamRadio.json\"\n",
    "data = get_team_radio(bahrain_location)\n",
    "print(\"JSON data:\", data) if data else print(\"Failed to retrieve JSON data.\")\n"
   ],
   "metadata": {
    "collapsed": false,
    "ExecuteTime": {
     "end_time": "2024-06-10T10:08:02.367149300Z",
     "start_time": "2024-06-10T10:08:01.681872800Z"
    }
   },
   "id": "3ca834c860a6c2d2"
  },
  {
   "cell_type": "markdown",
   "source": [
    "Let us automize the way of creating the link for a race other than Bahrain.\n",
    "\n",
    "The formula goes as follows:\n",
    "\n",
    "\"https://livetiming.formula1.com/static/ **year** /**date**_**eventName**/**date**_Race/TeamRadio.json\""
   ],
   "metadata": {
    "collapsed": false
   },
   "id": "756402eaa7c8f681"
  },
  {
   "cell_type": "code",
   "execution_count": 13,
   "outputs": [
    {
     "name": "stdout",
     "output_type": "stream",
     "text": [
      "{'Bahrain_Grand_Prix': 'https://livetiming.formula1.com/static/2023/2023-03-05_Bahrain_Grand_Prix/2023-03-05_Race/TeamRadio.json', 'Saudi_Arabian_Grand_Prix': 'https://livetiming.formula1.com/static/2023/2023-03-19_Saudi_Arabian_Grand_Prix/2023-03-19_Race/TeamRadio.json', 'Australian_Grand_Prix': 'https://livetiming.formula1.com/static/2023/2023-04-02_Australian_Grand_Prix/2023-04-02_Race/TeamRadio.json', 'Azerbaijan_Grand_Prix': 'https://livetiming.formula1.com/static/2023/2023-04-30_Azerbaijan_Grand_Prix/2023-04-30_Race/TeamRadio.json', 'Miami_Grand_Prix': 'https://livetiming.formula1.com/static/2023/2023-05-07_Miami_Grand_Prix/2023-05-07_Race/TeamRadio.json', 'Monaco_Grand_Prix': 'https://livetiming.formula1.com/static/2023/2023-05-28_Monaco_Grand_Prix/2023-05-28_Race/TeamRadio.json', 'Spanish_Grand_Prix': 'https://livetiming.formula1.com/static/2023/2023-06-04_Spanish_Grand_Prix/2023-06-04_Race/TeamRadio.json', 'Canadian_Grand_Prix': 'https://livetiming.formula1.com/static/2023/2023-06-18_Canadian_Grand_Prix/2023-06-18_Race/TeamRadio.json', 'Austrian_Grand_Prix': 'https://livetiming.formula1.com/static/2023/2023-07-02_Austrian_Grand_Prix/2023-07-02_Race/TeamRadio.json', 'British_Grand_Prix': 'https://livetiming.formula1.com/static/2023/2023-07-09_British_Grand_Prix/2023-07-09_Race/TeamRadio.json', 'Hungarian_Grand_Prix': 'https://livetiming.formula1.com/static/2023/2023-07-23_Hungarian_Grand_Prix/2023-07-23_Race/TeamRadio.json', 'Belgian_Grand_Prix': 'https://livetiming.formula1.com/static/2023/2023-07-30_Belgian_Grand_Prix/2023-07-30_Race/TeamRadio.json', 'Dutch_Grand_Prix': 'https://livetiming.formula1.com/static/2023/2023-08-27_Dutch_Grand_Prix/2023-08-27_Race/TeamRadio.json', 'Italian_Grand_Prix': 'https://livetiming.formula1.com/static/2023/2023-09-03_Italian_Grand_Prix/2023-09-03_Race/TeamRadio.json', 'Singapore_Grand_Prix': 'https://livetiming.formula1.com/static/2023/2023-09-17_Singapore_Grand_Prix/2023-09-17_Race/TeamRadio.json', 'Japanese_Grand_Prix': 'https://livetiming.formula1.com/static/2023/2023-09-24_Japanese_Grand_Prix/2023-09-24_Race/TeamRadio.json', 'Qatar_Grand_Prix': 'https://livetiming.formula1.com/static/2023/2023-10-08_Qatar_Grand_Prix/2023-10-08_Race/TeamRadio.json', 'United_States_Grand_Prix': 'https://livetiming.formula1.com/static/2023/2023-10-22_United_States_Grand_Prix/2023-10-22_Race/TeamRadio.json', 'Mexico_City_Grand_Prix': 'https://livetiming.formula1.com/static/2023/2023-10-29_Mexico_City_Grand_Prix/2023-10-29_Race/TeamRadio.json', 'São_Paulo_Grand_Prix': 'https://livetiming.formula1.com/static/2023/2023-11-05_São_Paulo_Grand_Prix/2023-11-05_Race/TeamRadio.json', 'Las_Vegas_Grand_Prix': 'https://livetiming.formula1.com/static/2023/2023-11-18_Las_Vegas_Grand_Prix/2023-11-18_Race/TeamRadio.json', 'Abu_Dhabi_Grand_Prix': 'https://livetiming.formula1.com/static/2023/2023-11-26_Abu_Dhabi_Grand_Prix/2023-11-26_Race/TeamRadio.json'}\n"
     ]
    }
   ],
   "source": [
    "team_radio_links = {}\n",
    "for i in race_schedule_2023[1:].index:\n",
    "    date = race_schedule_2023.EventDate[i] #format %Y-%m-%d %H:%M:%S.%f\n",
    "    event_name = race_schedule_2023.EventName[i].replace(\" \", \"_\")\n",
    "    country = race_schedule_2023.Country[i]\n",
    "    \n",
    "    team_radio_links[event_name] = \"https://livetiming.formula1.com/static/\" + date.strftime('%Y') + \"/\" + date.strftime('%Y-%m-%d') + \"_\" + event_name + \"/\" + date.strftime('%Y-%m-%d') + \"_Race/TeamRadio.json\"\n",
    "    \n",
    "print(team_radio_links)"
   ],
   "metadata": {
    "collapsed": false,
    "ExecuteTime": {
     "end_time": "2024-06-10T10:08:08.061924800Z",
     "start_time": "2024-06-10T10:08:08.035820300Z"
    }
   },
   "id": "a458184e0d38e00b"
  },
  {
   "cell_type": "markdown",
   "source": [
    "Apply the same procedure for the 2022 season."
   ],
   "metadata": {
    "collapsed": false
   },
   "id": "f47b9e813879c4c"
  },
  {
   "cell_type": "code",
   "execution_count": 21,
   "outputs": [
    {
     "name": "stdout",
     "output_type": "stream",
     "text": [
      "{'Bahrain_Grand_Prix': 'https://livetiming.formula1.com/static/2022/2022-03-20_Bahrain_Grand_Prix/2022-03-20_Race/TeamRadio.json', 'Saudi_Arabian_Grand_Prix': 'https://livetiming.formula1.com/static/2022/2022-03-27_Saudi_Arabian_Grand_Prix/2022-03-27_Race/TeamRadio.json', 'Australian_Grand_Prix': 'https://livetiming.formula1.com/static/2022/2022-04-10_Australian_Grand_Prix/2022-04-10_Race/TeamRadio.json', 'Emilia_Romagna_Grand_Prix': 'https://livetiming.formula1.com/static/2022/2022-04-24_Emilia_Romagna_Grand_Prix/2022-04-24_Race/TeamRadio.json', 'Miami_Grand_Prix': 'https://livetiming.formula1.com/static/2022/2022-05-08_Miami_Grand_Prix/2022-05-08_Race/TeamRadio.json', 'Spanish_Grand_Prix': 'https://livetiming.formula1.com/static/2022/2022-05-22_Spanish_Grand_Prix/2022-05-22_Race/TeamRadio.json', 'Monaco_Grand_Prix': 'https://livetiming.formula1.com/static/2022/2022-05-29_Monaco_Grand_Prix/2022-05-29_Race/TeamRadio.json', 'Azerbaijan_Grand_Prix': 'https://livetiming.formula1.com/static/2022/2022-06-12_Azerbaijan_Grand_Prix/2022-06-12_Race/TeamRadio.json', 'Canadian_Grand_Prix': 'https://livetiming.formula1.com/static/2022/2022-06-19_Canadian_Grand_Prix/2022-06-19_Race/TeamRadio.json', 'British_Grand_Prix': 'https://livetiming.formula1.com/static/2022/2022-07-03_British_Grand_Prix/2022-07-03_Race/TeamRadio.json', 'Austrian_Grand_Prix': 'https://livetiming.formula1.com/static/2022/2022-07-10_Austrian_Grand_Prix/2022-07-10_Race/TeamRadio.json', 'French_Grand_Prix': 'https://livetiming.formula1.com/static/2022/2022-07-24_French_Grand_Prix/2022-07-24_Race/TeamRadio.json', 'Hungarian_Grand_Prix': 'https://livetiming.formula1.com/static/2022/2022-07-31_Hungarian_Grand_Prix/2022-07-31_Race/TeamRadio.json', 'Belgian_Grand_Prix': 'https://livetiming.formula1.com/static/2022/2022-08-28_Belgian_Grand_Prix/2022-08-28_Race/TeamRadio.json', 'Dutch_Grand_Prix': 'https://livetiming.formula1.com/static/2022/2022-09-04_Dutch_Grand_Prix/2022-09-04_Race/TeamRadio.json', 'Italian_Grand_Prix': 'https://livetiming.formula1.com/static/2022/2022-09-11_Italian_Grand_Prix/2022-09-11_Race/TeamRadio.json', 'Singapore_Grand_Prix': 'https://livetiming.formula1.com/static/2022/2022-10-02_Singapore_Grand_Prix/2022-10-02_Race/TeamRadio.json', 'Japanese_Grand_Prix': 'https://livetiming.formula1.com/static/2022/2022-10-09_Japanese_Grand_Prix/2022-10-09_Race/TeamRadio.json', 'United_States_Grand_Prix': 'https://livetiming.formula1.com/static/2022/2022-10-23_United_States_Grand_Prix/2022-10-23_Race/TeamRadio.json', 'Mexico_City_Grand_Prix': 'https://livetiming.formula1.com/static/2022/2022-10-30_Mexico_City_Grand_Prix/2022-10-30_Race/TeamRadio.json', 'São_Paulo_Grand_Prix': 'https://livetiming.formula1.com/static/2022/2022-11-13_São_Paulo_Grand_Prix/2022-11-13_Race/TeamRadio.json', 'Abu_Dhabi_Grand_Prix': 'https://livetiming.formula1.com/static/2022/2022-11-20_Abu_Dhabi_Grand_Prix/2022-11-20_Race/TeamRadio.json'}\n"
     ]
    }
   ],
   "source": [
    "team_radio_links22 = {}\n",
    "for i in race_schedule_2022[2:].index: #First two are pre-season testings\n",
    "    date = race_schedule_2022.EventDate[i] #format %Y-%m-%d %H:%M:%S.%f\n",
    "    event_name = race_schedule_2022.EventName[i].replace(\" \", \"_\")\n",
    "    country = race_schedule_2022.Country[i]\n",
    "    \n",
    "    team_radio_links22[event_name] = \"https://livetiming.formula1.com/static/\" + date.strftime('%Y') + \"/\" + date.strftime('%Y-%m-%d') + \"_\" + event_name + \"/\" + date.strftime('%Y-%m-%d') + \"_Race/TeamRadio.json\"\n",
    "    \n",
    "print(team_radio_links22)"
   ],
   "metadata": {
    "collapsed": false,
    "ExecuteTime": {
     "end_time": "2024-06-10T10:13:28.409284Z",
     "start_time": "2024-06-10T10:13:28.355611400Z"
    }
   },
   "id": "20f0820c459bce73"
  },
  {
   "cell_type": "markdown",
   "source": [
    "Now, all of the team radio JSON sources are in the **team_radio_links** dictionary.\n",
    "\n",
    "Below, we run a small test to see all our links are correct and reachable. We can see that all the content is reached, successfully.\n",
    "\n",
    "Now it is time to organize the data"
   ],
   "metadata": {
    "collapsed": false
   },
   "id": "19fa69a5739e6a87"
  },
  {
   "cell_type": "code",
   "execution_count": null,
   "outputs": [],
   "source": [
    "for i in team_radio_links.keys():\n",
    "    print(i)\n",
    "    data = get_team_radio(team_radio_links[i])\n",
    "    print(\"\") if data else print(\"ERROR! INDEX:\",i)"
   ],
   "metadata": {
    "collapsed": false
   },
   "id": "2ab60d656303260f"
  },
  {
   "cell_type": "code",
   "execution_count": null,
   "outputs": [],
   "source": [
    "for i in team_radio_links22.keys():\n",
    "    print(i)\n",
    "    data = get_team_radio(team_radio_links22[i])\n",
    "    print(\"\") if data else print(\"ERROR! INDEX:\",i)"
   ],
   "metadata": {
    "collapsed": false
   },
   "id": "bfe636a048f42bf"
  },
  {
   "cell_type": "markdown",
   "source": [
    "Grouping the team radio so that all conversations from one driver is together."
   ],
   "metadata": {
    "collapsed": false
   },
   "id": "39ee8f8ded2cbae"
  },
  {
   "cell_type": "code",
   "execution_count": 23,
   "outputs": [],
   "source": [
    "def group_by_driver(data): \n",
    "    grouped_data = {}\n",
    "    for item in data:\n",
    "        racing_number = item['RacingNumber']\n",
    "        if racing_number not in grouped_data:\n",
    "            grouped_data[racing_number] = []\n",
    "        grouped_data[racing_number].append(item)\n",
    "        \n",
    "    grouped_data = dict(sorted(grouped_data.items()))\n",
    "    return grouped_data"
   ],
   "metadata": {
    "collapsed": false,
    "ExecuteTime": {
     "end_time": "2024-06-10T10:14:03.465943Z",
     "start_time": "2024-06-10T10:14:03.451372900Z"
    }
   },
   "id": "5b7cac5e03675995"
  },
  {
   "cell_type": "code",
   "execution_count": 24,
   "outputs": [],
   "source": [
    "def dict2df(dict):\n",
    "    dfs = []\n",
    "    for racing_number, data_list in dict.items():\n",
    "        df = pd.DataFrame(data_list)\n",
    "        dfs.append(df)\n",
    "    \n",
    "    result = pd.concat(dfs, keys=dict.keys())\n",
    "    return result"
   ],
   "metadata": {
    "collapsed": false,
    "ExecuteTime": {
     "end_time": "2024-06-10T10:14:03.963708Z",
     "start_time": "2024-06-10T10:14:03.953168700Z"
    }
   },
   "id": "3357d7e9e8c1ca9e"
  },
  {
   "cell_type": "code",
   "execution_count": null,
   "outputs": [],
   "source": [
    "content = get_team_radio(team_radio_links['Bahrain_Grand_Prix'])\n",
    "data = content['Captures']\n",
    "grouped_data = group_by_driver(data)"
   ],
   "metadata": {
    "collapsed": false
   },
   "id": "2bdc0bf1af80e8d2"
  },
  {
   "cell_type": "code",
   "execution_count": null,
   "outputs": [],
   "source": [
    "dict2df(grouped_data)"
   ],
   "metadata": {
    "collapsed": false
   },
   "id": "9f7447f2e0017a2a"
  },
  {
   "cell_type": "code",
   "execution_count": null,
   "outputs": [],
   "source": [
    "dict2df(grouped_data).loc['1'] # Driver with racing number '1' (Max Verstappen)"
   ],
   "metadata": {
    "collapsed": false
   },
   "id": "b5d8734e66c15a63"
  },
  {
   "cell_type": "markdown",
   "source": [
    "Now we have a basic understanding of how our team radio data should be storaged and organized, we need to apply the same procedure for all countries."
   ],
   "metadata": {
    "collapsed": false
   },
   "id": "713ea3bbc9e552ae"
  },
  {
   "cell_type": "markdown",
   "source": [
    "We also convert the audio links into the appropriate form.\n",
    "\n",
    "\n",
    "**link we need:** https://livetiming.formula1.com/static/2023/2023-03-05_Bahrain_Grand_Prix/2023-03-05_Race/TeamRadio/GUAZHO01_24_20230305_163627.mp3\n",
    "\n",
    "**split**\n",
    "https://livetiming.formula1.com/static/2023/2023-03-05_Bahrain_Grand_Prix/2023-03-05_Race/TeamRadio.json\n",
    "->\n",
    "https://livetiming.formula1.com/static/2023/2023-03-05_Bahrain_Grand_Prix/2023-03-05_Race/ + TeamRadio/GUAZHO01_24_20230305_163627.mp3"
   ],
   "metadata": {
    "collapsed": false
   },
   "id": "8e1b6d8b171272e8"
  },
  {
   "cell_type": "code",
   "execution_count": 27,
   "outputs": [
    {
     "name": "stderr",
     "output_type": "stream",
     "text": [
      "2024-06-10 13:16:44,842 - Attempting to retrieve data from URL: https://livetiming.formula1.com/static/2023/2023-03-05_Bahrain_Grand_Prix/2023-03-05_Race/TeamRadio.json\n",
      "2024-06-10 13:16:45,228 - Data successfully retrieved from URL: https://livetiming.formula1.com/static/2023/2023-03-05_Bahrain_Grand_Prix/2023-03-05_Race/TeamRadio.json\n",
      "2024-06-10 13:16:45,249 - Attempting to retrieve data from URL: https://livetiming.formula1.com/static/2023/2023-03-19_Saudi_Arabian_Grand_Prix/2023-03-19_Race/TeamRadio.json\n",
      "2024-06-10 13:16:45,779 - Data successfully retrieved from URL: https://livetiming.formula1.com/static/2023/2023-03-19_Saudi_Arabian_Grand_Prix/2023-03-19_Race/TeamRadio.json\n",
      "2024-06-10 13:16:45,812 - Attempting to retrieve data from URL: https://livetiming.formula1.com/static/2023/2023-04-02_Australian_Grand_Prix/2023-04-02_Race/TeamRadio.json\n",
      "2024-06-10 13:16:46,347 - Data successfully retrieved from URL: https://livetiming.formula1.com/static/2023/2023-04-02_Australian_Grand_Prix/2023-04-02_Race/TeamRadio.json\n",
      "2024-06-10 13:16:46,374 - Attempting to retrieve data from URL: https://livetiming.formula1.com/static/2023/2023-04-30_Azerbaijan_Grand_Prix/2023-04-30_Race/TeamRadio.json\n",
      "2024-06-10 13:16:46,893 - Data successfully retrieved from URL: https://livetiming.formula1.com/static/2023/2023-04-30_Azerbaijan_Grand_Prix/2023-04-30_Race/TeamRadio.json\n",
      "2024-06-10 13:16:46,927 - Attempting to retrieve data from URL: https://livetiming.formula1.com/static/2023/2023-05-07_Miami_Grand_Prix/2023-05-07_Race/TeamRadio.json\n",
      "2024-06-10 13:16:47,570 - Data successfully retrieved from URL: https://livetiming.formula1.com/static/2023/2023-05-07_Miami_Grand_Prix/2023-05-07_Race/TeamRadio.json\n",
      "2024-06-10 13:16:47,628 - Attempting to retrieve data from URL: https://livetiming.formula1.com/static/2023/2023-05-28_Monaco_Grand_Prix/2023-05-28_Race/TeamRadio.json\n",
      "2024-06-10 13:16:48,218 - Data successfully retrieved from URL: https://livetiming.formula1.com/static/2023/2023-05-28_Monaco_Grand_Prix/2023-05-28_Race/TeamRadio.json\n",
      "2024-06-10 13:16:48,254 - Attempting to retrieve data from URL: https://livetiming.formula1.com/static/2023/2023-06-04_Spanish_Grand_Prix/2023-06-04_Race/TeamRadio.json\n",
      "2024-06-10 13:16:48,797 - Data successfully retrieved from URL: https://livetiming.formula1.com/static/2023/2023-06-04_Spanish_Grand_Prix/2023-06-04_Race/TeamRadio.json\n",
      "2024-06-10 13:16:48,833 - Attempting to retrieve data from URL: https://livetiming.formula1.com/static/2023/2023-06-18_Canadian_Grand_Prix/2023-06-18_Race/TeamRadio.json\n",
      "2024-06-10 13:16:49,344 - Data successfully retrieved from URL: https://livetiming.formula1.com/static/2023/2023-06-18_Canadian_Grand_Prix/2023-06-18_Race/TeamRadio.json\n",
      "2024-06-10 13:16:49,370 - Attempting to retrieve data from URL: https://livetiming.formula1.com/static/2023/2023-07-02_Austrian_Grand_Prix/2023-07-02_Race/TeamRadio.json\n",
      "2024-06-10 13:16:49,866 - Data successfully retrieved from URL: https://livetiming.formula1.com/static/2023/2023-07-02_Austrian_Grand_Prix/2023-07-02_Race/TeamRadio.json\n",
      "2024-06-10 13:16:49,898 - Attempting to retrieve data from URL: https://livetiming.formula1.com/static/2023/2023-07-09_British_Grand_Prix/2023-07-09_Race/TeamRadio.json\n",
      "2024-06-10 13:16:50,406 - Data successfully retrieved from URL: https://livetiming.formula1.com/static/2023/2023-07-09_British_Grand_Prix/2023-07-09_Race/TeamRadio.json\n",
      "2024-06-10 13:16:50,435 - Attempting to retrieve data from URL: https://livetiming.formula1.com/static/2023/2023-07-23_Hungarian_Grand_Prix/2023-07-23_Race/TeamRadio.json\n",
      "2024-06-10 13:16:50,955 - Data successfully retrieved from URL: https://livetiming.formula1.com/static/2023/2023-07-23_Hungarian_Grand_Prix/2023-07-23_Race/TeamRadio.json\n",
      "2024-06-10 13:16:50,976 - Attempting to retrieve data from URL: https://livetiming.formula1.com/static/2023/2023-07-30_Belgian_Grand_Prix/2023-07-30_Race/TeamRadio.json\n",
      "2024-06-10 13:16:51,476 - Data successfully retrieved from URL: https://livetiming.formula1.com/static/2023/2023-07-30_Belgian_Grand_Prix/2023-07-30_Race/TeamRadio.json\n",
      "2024-06-10 13:16:51,503 - Attempting to retrieve data from URL: https://livetiming.formula1.com/static/2023/2023-08-27_Dutch_Grand_Prix/2023-08-27_Race/TeamRadio.json\n",
      "2024-06-10 13:16:52,048 - Data successfully retrieved from URL: https://livetiming.formula1.com/static/2023/2023-08-27_Dutch_Grand_Prix/2023-08-27_Race/TeamRadio.json\n",
      "2024-06-10 13:16:52,081 - Attempting to retrieve data from URL: https://livetiming.formula1.com/static/2023/2023-09-03_Italian_Grand_Prix/2023-09-03_Race/TeamRadio.json\n",
      "2024-06-10 13:16:52,786 - Data successfully retrieved from URL: https://livetiming.formula1.com/static/2023/2023-09-03_Italian_Grand_Prix/2023-09-03_Race/TeamRadio.json\n",
      "2024-06-10 13:16:52,822 - Attempting to retrieve data from URL: https://livetiming.formula1.com/static/2023/2023-09-17_Singapore_Grand_Prix/2023-09-17_Race/TeamRadio.json\n",
      "2024-06-10 13:16:53,342 - Data successfully retrieved from URL: https://livetiming.formula1.com/static/2023/2023-09-17_Singapore_Grand_Prix/2023-09-17_Race/TeamRadio.json\n",
      "2024-06-10 13:16:53,364 - Attempting to retrieve data from URL: https://livetiming.formula1.com/static/2023/2023-09-24_Japanese_Grand_Prix/2023-09-24_Race/TeamRadio.json\n",
      "2024-06-10 13:16:53,849 - Data successfully retrieved from URL: https://livetiming.formula1.com/static/2023/2023-09-24_Japanese_Grand_Prix/2023-09-24_Race/TeamRadio.json\n",
      "2024-06-10 13:16:53,879 - Attempting to retrieve data from URL: https://livetiming.formula1.com/static/2023/2023-10-08_Qatar_Grand_Prix/2023-10-08_Race/TeamRadio.json\n",
      "2024-06-10 13:16:54,409 - Data successfully retrieved from URL: https://livetiming.formula1.com/static/2023/2023-10-08_Qatar_Grand_Prix/2023-10-08_Race/TeamRadio.json\n",
      "2024-06-10 13:16:54,439 - Attempting to retrieve data from URL: https://livetiming.formula1.com/static/2023/2023-10-22_United_States_Grand_Prix/2023-10-22_Race/TeamRadio.json\n",
      "2024-06-10 13:16:55,005 - Data successfully retrieved from URL: https://livetiming.formula1.com/static/2023/2023-10-22_United_States_Grand_Prix/2023-10-22_Race/TeamRadio.json\n",
      "2024-06-10 13:16:55,042 - Attempting to retrieve data from URL: https://livetiming.formula1.com/static/2023/2023-10-29_Mexico_City_Grand_Prix/2023-10-29_Race/TeamRadio.json\n",
      "2024-06-10 13:16:55,610 - Data successfully retrieved from URL: https://livetiming.formula1.com/static/2023/2023-10-29_Mexico_City_Grand_Prix/2023-10-29_Race/TeamRadio.json\n",
      "2024-06-10 13:16:55,643 - Attempting to retrieve data from URL: https://livetiming.formula1.com/static/2023/2023-11-05_São_Paulo_Grand_Prix/2023-11-05_Race/TeamRadio.json\n",
      "2024-06-10 13:16:56,177 - Data successfully retrieved from URL: https://livetiming.formula1.com/static/2023/2023-11-05_São_Paulo_Grand_Prix/2023-11-05_Race/TeamRadio.json\n",
      "2024-06-10 13:16:56,199 - Attempting to retrieve data from URL: https://livetiming.formula1.com/static/2023/2023-11-18_Las_Vegas_Grand_Prix/2023-11-18_Race/TeamRadio.json\n",
      "2024-06-10 13:16:56,722 - Data successfully retrieved from URL: https://livetiming.formula1.com/static/2023/2023-11-18_Las_Vegas_Grand_Prix/2023-11-18_Race/TeamRadio.json\n",
      "2024-06-10 13:16:56,756 - Attempting to retrieve data from URL: https://livetiming.formula1.com/static/2023/2023-11-26_Abu_Dhabi_Grand_Prix/2023-11-26_Race/TeamRadio.json\n",
      "2024-06-10 13:16:57,221 - Data successfully retrieved from URL: https://livetiming.formula1.com/static/2023/2023-11-26_Abu_Dhabi_Grand_Prix/2023-11-26_Race/TeamRadio.json\n"
     ]
    }
   ],
   "source": [
    "team_radio = {}\n",
    "for k,v in team_radio_links.items():\n",
    "    content = get_team_radio(team_radio_links[k])\n",
    "    data = content['Captures']\n",
    "    \n",
    "    for capture in data:\n",
    "        # CREATE NEW LINK\n",
    "        path = capture['Path']\n",
    "        path_new = v.split(\"TeamRadio.json\",1)[0] + path #creating a new link        \n",
    "        capture['Path New'] = path_new\n",
    "        \n",
    "        # CREATE TIMESTAMP\n",
    "        ts = pd.Timestamp(capture['Utc']).round('1ms')\n",
    "        ts_new = pd.Timestamp(ts.strftime(\"%Y-%m-%d %H:%M:%S.%f\"))\n",
    "        capture['Date'] = ts_new\n",
    "    \n",
    "    grouped_data = group_by_driver(data)\n",
    "    team_radio[k] = dict2df(grouped_data)"
   ],
   "metadata": {
    "collapsed": false,
    "ExecuteTime": {
     "end_time": "2024-06-10T10:16:57.254856200Z",
     "start_time": "2024-06-10T10:16:44.843089300Z"
    }
   },
   "id": "9e49910956cfb94a"
  },
  {
   "cell_type": "code",
   "execution_count": 25,
   "outputs": [
    {
     "name": "stderr",
     "output_type": "stream",
     "text": [
      "2024-06-10 13:15:51,719 - Attempting to retrieve data from URL: https://livetiming.formula1.com/static/2022/2022-03-20_Bahrain_Grand_Prix/2022-03-20_Race/TeamRadio.json\n",
      "2024-06-10 13:15:52,074 - Data successfully retrieved from URL: https://livetiming.formula1.com/static/2022/2022-03-20_Bahrain_Grand_Prix/2022-03-20_Race/TeamRadio.json\n",
      "2024-06-10 13:15:52,126 - Attempting to retrieve data from URL: https://livetiming.formula1.com/static/2022/2022-03-27_Saudi_Arabian_Grand_Prix/2022-03-27_Race/TeamRadio.json\n",
      "2024-06-10 13:15:52,466 - Data successfully retrieved from URL: https://livetiming.formula1.com/static/2022/2022-03-27_Saudi_Arabian_Grand_Prix/2022-03-27_Race/TeamRadio.json\n",
      "2024-06-10 13:15:52,489 - Attempting to retrieve data from URL: https://livetiming.formula1.com/static/2022/2022-04-10_Australian_Grand_Prix/2022-04-10_Race/TeamRadio.json\n",
      "2024-06-10 13:15:52,869 - Data successfully retrieved from URL: https://livetiming.formula1.com/static/2022/2022-04-10_Australian_Grand_Prix/2022-04-10_Race/TeamRadio.json\n",
      "2024-06-10 13:15:52,896 - Attempting to retrieve data from URL: https://livetiming.formula1.com/static/2022/2022-04-24_Emilia_Romagna_Grand_Prix/2022-04-24_Race/TeamRadio.json\n",
      "2024-06-10 13:15:53,339 - Data successfully retrieved from URL: https://livetiming.formula1.com/static/2022/2022-04-24_Emilia_Romagna_Grand_Prix/2022-04-24_Race/TeamRadio.json\n",
      "2024-06-10 13:15:53,363 - Attempting to retrieve data from URL: https://livetiming.formula1.com/static/2022/2022-05-08_Miami_Grand_Prix/2022-05-08_Race/TeamRadio.json\n",
      "2024-06-10 13:15:53,859 - Data successfully retrieved from URL: https://livetiming.formula1.com/static/2022/2022-05-08_Miami_Grand_Prix/2022-05-08_Race/TeamRadio.json\n",
      "2024-06-10 13:15:53,888 - Attempting to retrieve data from URL: https://livetiming.formula1.com/static/2022/2022-05-22_Spanish_Grand_Prix/2022-05-22_Race/TeamRadio.json\n",
      "2024-06-10 13:15:54,235 - Data successfully retrieved from URL: https://livetiming.formula1.com/static/2022/2022-05-22_Spanish_Grand_Prix/2022-05-22_Race/TeamRadio.json\n",
      "2024-06-10 13:15:54,270 - Attempting to retrieve data from URL: https://livetiming.formula1.com/static/2022/2022-05-29_Monaco_Grand_Prix/2022-05-29_Race/TeamRadio.json\n",
      "2024-06-10 13:15:54,771 - Data successfully retrieved from URL: https://livetiming.formula1.com/static/2022/2022-05-29_Monaco_Grand_Prix/2022-05-29_Race/TeamRadio.json\n",
      "2024-06-10 13:15:54,818 - Attempting to retrieve data from URL: https://livetiming.formula1.com/static/2022/2022-06-12_Azerbaijan_Grand_Prix/2022-06-12_Race/TeamRadio.json\n",
      "2024-06-10 13:15:55,304 - Data successfully retrieved from URL: https://livetiming.formula1.com/static/2022/2022-06-12_Azerbaijan_Grand_Prix/2022-06-12_Race/TeamRadio.json\n",
      "2024-06-10 13:15:55,341 - Attempting to retrieve data from URL: https://livetiming.formula1.com/static/2022/2022-06-19_Canadian_Grand_Prix/2022-06-19_Race/TeamRadio.json\n",
      "2024-06-10 13:15:55,702 - Data successfully retrieved from URL: https://livetiming.formula1.com/static/2022/2022-06-19_Canadian_Grand_Prix/2022-06-19_Race/TeamRadio.json\n",
      "2024-06-10 13:15:55,737 - Attempting to retrieve data from URL: https://livetiming.formula1.com/static/2022/2022-07-03_British_Grand_Prix/2022-07-03_Race/TeamRadio.json\n",
      "2024-06-10 13:15:56,225 - Data successfully retrieved from URL: https://livetiming.formula1.com/static/2022/2022-07-03_British_Grand_Prix/2022-07-03_Race/TeamRadio.json\n",
      "2024-06-10 13:15:56,264 - Attempting to retrieve data from URL: https://livetiming.formula1.com/static/2022/2022-07-10_Austrian_Grand_Prix/2022-07-10_Race/TeamRadio.json\n",
      "2024-06-10 13:15:56,623 - Data successfully retrieved from URL: https://livetiming.formula1.com/static/2022/2022-07-10_Austrian_Grand_Prix/2022-07-10_Race/TeamRadio.json\n",
      "2024-06-10 13:15:56,654 - Attempting to retrieve data from URL: https://livetiming.formula1.com/static/2022/2022-07-24_French_Grand_Prix/2022-07-24_Race/TeamRadio.json\n",
      "2024-06-10 13:15:57,003 - Data successfully retrieved from URL: https://livetiming.formula1.com/static/2022/2022-07-24_French_Grand_Prix/2022-07-24_Race/TeamRadio.json\n",
      "2024-06-10 13:15:57,040 - Attempting to retrieve data from URL: https://livetiming.formula1.com/static/2022/2022-07-31_Hungarian_Grand_Prix/2022-07-31_Race/TeamRadio.json\n",
      "2024-06-10 13:15:57,382 - Data successfully retrieved from URL: https://livetiming.formula1.com/static/2022/2022-07-31_Hungarian_Grand_Prix/2022-07-31_Race/TeamRadio.json\n",
      "2024-06-10 13:15:57,409 - Attempting to retrieve data from URL: https://livetiming.formula1.com/static/2022/2022-08-28_Belgian_Grand_Prix/2022-08-28_Race/TeamRadio.json\n",
      "2024-06-10 13:15:57,747 - Data successfully retrieved from URL: https://livetiming.formula1.com/static/2022/2022-08-28_Belgian_Grand_Prix/2022-08-28_Race/TeamRadio.json\n",
      "2024-06-10 13:15:57,781 - Attempting to retrieve data from URL: https://livetiming.formula1.com/static/2022/2022-09-04_Dutch_Grand_Prix/2022-09-04_Race/TeamRadio.json\n",
      "2024-06-10 13:15:58,106 - Data successfully retrieved from URL: https://livetiming.formula1.com/static/2022/2022-09-04_Dutch_Grand_Prix/2022-09-04_Race/TeamRadio.json\n",
      "2024-06-10 13:15:58,138 - Attempting to retrieve data from URL: https://livetiming.formula1.com/static/2022/2022-09-11_Italian_Grand_Prix/2022-09-11_Race/TeamRadio.json\n",
      "2024-06-10 13:15:58,565 - Data successfully retrieved from URL: https://livetiming.formula1.com/static/2022/2022-09-11_Italian_Grand_Prix/2022-09-11_Race/TeamRadio.json\n",
      "2024-06-10 13:15:58,595 - Attempting to retrieve data from URL: https://livetiming.formula1.com/static/2022/2022-10-02_Singapore_Grand_Prix/2022-10-02_Race/TeamRadio.json\n",
      "2024-06-10 13:15:58,933 - Data successfully retrieved from URL: https://livetiming.formula1.com/static/2022/2022-10-02_Singapore_Grand_Prix/2022-10-02_Race/TeamRadio.json\n",
      "2024-06-10 13:15:58,954 - Attempting to retrieve data from URL: https://livetiming.formula1.com/static/2022/2022-10-09_Japanese_Grand_Prix/2022-10-09_Race/TeamRadio.json\n",
      "2024-06-10 13:15:59,281 - Data successfully retrieved from URL: https://livetiming.formula1.com/static/2022/2022-10-09_Japanese_Grand_Prix/2022-10-09_Race/TeamRadio.json\n",
      "2024-06-10 13:15:59,303 - Attempting to retrieve data from URL: https://livetiming.formula1.com/static/2022/2022-10-23_United_States_Grand_Prix/2022-10-23_Race/TeamRadio.json\n",
      "2024-06-10 13:15:59,631 - Data successfully retrieved from URL: https://livetiming.formula1.com/static/2022/2022-10-23_United_States_Grand_Prix/2022-10-23_Race/TeamRadio.json\n",
      "2024-06-10 13:15:59,664 - Attempting to retrieve data from URL: https://livetiming.formula1.com/static/2022/2022-10-30_Mexico_City_Grand_Prix/2022-10-30_Race/TeamRadio.json\n",
      "2024-06-10 13:15:59,992 - Data successfully retrieved from URL: https://livetiming.formula1.com/static/2022/2022-10-30_Mexico_City_Grand_Prix/2022-10-30_Race/TeamRadio.json\n",
      "2024-06-10 13:16:00,019 - Attempting to retrieve data from URL: https://livetiming.formula1.com/static/2022/2022-11-13_São_Paulo_Grand_Prix/2022-11-13_Race/TeamRadio.json\n",
      "2024-06-10 13:16:00,351 - Data successfully retrieved from URL: https://livetiming.formula1.com/static/2022/2022-11-13_São_Paulo_Grand_Prix/2022-11-13_Race/TeamRadio.json\n",
      "2024-06-10 13:16:00,374 - Attempting to retrieve data from URL: https://livetiming.formula1.com/static/2022/2022-11-20_Abu_Dhabi_Grand_Prix/2022-11-20_Race/TeamRadio.json\n",
      "2024-06-10 13:16:00,702 - Data successfully retrieved from URL: https://livetiming.formula1.com/static/2022/2022-11-20_Abu_Dhabi_Grand_Prix/2022-11-20_Race/TeamRadio.json\n"
     ]
    }
   ],
   "source": [
    "team_radio22 = {}\n",
    "for k,v in team_radio_links22.items():\n",
    "    content = get_team_radio(team_radio_links22[k])\n",
    "    data = content['Captures']\n",
    "    \n",
    "    for capture in data:\n",
    "        # CREATE NEW LINK\n",
    "        path = capture['Path']\n",
    "        path_new = v.split(\"TeamRadio.json\",1)[0] + path #creating a new link        \n",
    "        capture['Path New'] = path_new\n",
    "        \n",
    "        # CREATE TIMESTAMP\n",
    "        ts = pd.Timestamp(capture['Utc']).round('1ms')\n",
    "        ts_new = pd.Timestamp(ts.strftime(\"%Y-%m-%d %H:%M:%S.%f\"))\n",
    "        capture['Date'] = ts_new\n",
    "    \n",
    "    grouped_data = group_by_driver(data)\n",
    "    team_radio22[k] = dict2df(grouped_data)"
   ],
   "metadata": {
    "collapsed": false,
    "ExecuteTime": {
     "end_time": "2024-06-10T10:16:00.747245500Z",
     "start_time": "2024-06-10T10:15:51.719447500Z"
    }
   },
   "id": "b428c35f2a66292b"
  },
  {
   "cell_type": "code",
   "execution_count": 28,
   "outputs": [
    {
     "name": "stdout",
     "output_type": "stream",
     "text": [
      "COUNTRIES IN THE DICTIONARY\n",
      " dict_keys(['Bahrain_Grand_Prix', 'Saudi_Arabian_Grand_Prix', 'Australian_Grand_Prix', 'Azerbaijan_Grand_Prix', 'Miami_Grand_Prix', 'Monaco_Grand_Prix', 'Spanish_Grand_Prix', 'Canadian_Grand_Prix', 'Austrian_Grand_Prix', 'British_Grand_Prix', 'Hungarian_Grand_Prix', 'Belgian_Grand_Prix', 'Dutch_Grand_Prix', 'Italian_Grand_Prix', 'Singapore_Grand_Prix', 'Japanese_Grand_Prix', 'Qatar_Grand_Prix', 'United_States_Grand_Prix', 'Mexico_City_Grand_Prix', 'São_Paulo_Grand_Prix', 'Las_Vegas_Grand_Prix', 'Abu_Dhabi_Grand_Prix'])\n",
      "\n",
      "\n",
      "COLUMNS\n",
      " Index(['Utc', 'RacingNumber', 'Path', 'Path New', 'Date'], dtype='object')\n"
     ]
    }
   ],
   "source": [
    "print(\"COUNTRIES IN THE DICTIONARY\\n\",team_radio.keys())\n",
    "print(\"\\n\\nCOLUMNS\\n\",team_radio['Saudi_Arabian_Grand_Prix'].columns)"
   ],
   "metadata": {
    "collapsed": false,
    "ExecuteTime": {
     "end_time": "2024-06-10T10:17:04.375666100Z",
     "start_time": "2024-06-10T10:17:04.357488800Z"
    }
   },
   "id": "24d143f4331ba675"
  },
  {
   "cell_type": "code",
   "execution_count": 29,
   "outputs": [
    {
     "data": {
      "text/plain": "                               Utc RacingNumber  \\\n1  0  2023-03-05T15:19:06.8939905Z            1   \n   1      2023-03-05T15:19:41.467Z            1   \n   2      2023-03-05T15:35:51.622Z            1   \n   3      2023-03-05T15:42:32.223Z            1   \n   4      2023-03-05T15:50:57.699Z            1   \n...                            ...          ...   \n77 0      2023-03-05T15:15:11.487Z           77   \n   1      2023-03-05T15:35:17.372Z           77   \n   2      2023-03-05T16:20:27.776Z           77   \n   3      2023-03-05T16:42:52.674Z           77   \n81 0  2023-03-05T15:29:08.5257245Z           81   \n\n                                           Path  \\\n1  0   TeamRadio/MAXVER01_1_20230305_151829.mp3   \n   1   TeamRadio/MAXVER01_1_20230305_151925.mp3   \n   2   TeamRadio/MAXVER01_1_20230305_153512.mp3   \n   3   TeamRadio/MAXVER01_1_20230305_154159.mp3   \n   4   TeamRadio/MAXVER01_1_20230305_155007.mp3   \n...                                         ...   \n77 0  TeamRadio/VALBOT01_77_20230305_151456.mp3   \n   1  TeamRadio/VALBOT01_77_20230305_153449.mp3   \n   2  TeamRadio/VALBOT01_77_20230305_162018.mp3   \n   3  TeamRadio/VALBOT01_77_20230305_165208.mp3   \n81 0  TeamRadio/OSCPIA01_81_20230305_152844.mp3   \n\n                                               Path New  \\\n1  0  https://livetiming.formula1.com/static/2023/20...   \n   1  https://livetiming.formula1.com/static/2023/20...   \n   2  https://livetiming.formula1.com/static/2023/20...   \n   3  https://livetiming.formula1.com/static/2023/20...   \n   4  https://livetiming.formula1.com/static/2023/20...   \n...                                                 ...   \n77 0  https://livetiming.formula1.com/static/2023/20...   \n   1  https://livetiming.formula1.com/static/2023/20...   \n   2  https://livetiming.formula1.com/static/2023/20...   \n   3  https://livetiming.formula1.com/static/2023/20...   \n81 0  https://livetiming.formula1.com/static/2023/20...   \n\n                        Date  \n1  0 2023-03-05 15:19:06.894  \n   1 2023-03-05 15:19:41.467  \n   2 2023-03-05 15:35:51.622  \n   3 2023-03-05 15:42:32.223  \n   4 2023-03-05 15:50:57.699  \n...                      ...  \n77 0 2023-03-05 15:15:11.487  \n   1 2023-03-05 15:35:17.372  \n   2 2023-03-05 16:20:27.776  \n   3 2023-03-05 16:42:52.674  \n81 0 2023-03-05 15:29:08.526  \n\n[84 rows x 5 columns]",
      "text/html": "<div>\n<style scoped>\n    .dataframe tbody tr th:only-of-type {\n        vertical-align: middle;\n    }\n\n    .dataframe tbody tr th {\n        vertical-align: top;\n    }\n\n    .dataframe thead th {\n        text-align: right;\n    }\n</style>\n<table border=\"1\" class=\"dataframe\">\n  <thead>\n    <tr style=\"text-align: right;\">\n      <th></th>\n      <th></th>\n      <th>Utc</th>\n      <th>RacingNumber</th>\n      <th>Path</th>\n      <th>Path New</th>\n      <th>Date</th>\n    </tr>\n  </thead>\n  <tbody>\n    <tr>\n      <th rowspan=\"5\" valign=\"top\">1</th>\n      <th>0</th>\n      <td>2023-03-05T15:19:06.8939905Z</td>\n      <td>1</td>\n      <td>TeamRadio/MAXVER01_1_20230305_151829.mp3</td>\n      <td>https://livetiming.formula1.com/static/2023/20...</td>\n      <td>2023-03-05 15:19:06.894</td>\n    </tr>\n    <tr>\n      <th>1</th>\n      <td>2023-03-05T15:19:41.467Z</td>\n      <td>1</td>\n      <td>TeamRadio/MAXVER01_1_20230305_151925.mp3</td>\n      <td>https://livetiming.formula1.com/static/2023/20...</td>\n      <td>2023-03-05 15:19:41.467</td>\n    </tr>\n    <tr>\n      <th>2</th>\n      <td>2023-03-05T15:35:51.622Z</td>\n      <td>1</td>\n      <td>TeamRadio/MAXVER01_1_20230305_153512.mp3</td>\n      <td>https://livetiming.formula1.com/static/2023/20...</td>\n      <td>2023-03-05 15:35:51.622</td>\n    </tr>\n    <tr>\n      <th>3</th>\n      <td>2023-03-05T15:42:32.223Z</td>\n      <td>1</td>\n      <td>TeamRadio/MAXVER01_1_20230305_154159.mp3</td>\n      <td>https://livetiming.formula1.com/static/2023/20...</td>\n      <td>2023-03-05 15:42:32.223</td>\n    </tr>\n    <tr>\n      <th>4</th>\n      <td>2023-03-05T15:50:57.699Z</td>\n      <td>1</td>\n      <td>TeamRadio/MAXVER01_1_20230305_155007.mp3</td>\n      <td>https://livetiming.formula1.com/static/2023/20...</td>\n      <td>2023-03-05 15:50:57.699</td>\n    </tr>\n    <tr>\n      <th>...</th>\n      <th>...</th>\n      <td>...</td>\n      <td>...</td>\n      <td>...</td>\n      <td>...</td>\n      <td>...</td>\n    </tr>\n    <tr>\n      <th rowspan=\"4\" valign=\"top\">77</th>\n      <th>0</th>\n      <td>2023-03-05T15:15:11.487Z</td>\n      <td>77</td>\n      <td>TeamRadio/VALBOT01_77_20230305_151456.mp3</td>\n      <td>https://livetiming.formula1.com/static/2023/20...</td>\n      <td>2023-03-05 15:15:11.487</td>\n    </tr>\n    <tr>\n      <th>1</th>\n      <td>2023-03-05T15:35:17.372Z</td>\n      <td>77</td>\n      <td>TeamRadio/VALBOT01_77_20230305_153449.mp3</td>\n      <td>https://livetiming.formula1.com/static/2023/20...</td>\n      <td>2023-03-05 15:35:17.372</td>\n    </tr>\n    <tr>\n      <th>2</th>\n      <td>2023-03-05T16:20:27.776Z</td>\n      <td>77</td>\n      <td>TeamRadio/VALBOT01_77_20230305_162018.mp3</td>\n      <td>https://livetiming.formula1.com/static/2023/20...</td>\n      <td>2023-03-05 16:20:27.776</td>\n    </tr>\n    <tr>\n      <th>3</th>\n      <td>2023-03-05T16:42:52.674Z</td>\n      <td>77</td>\n      <td>TeamRadio/VALBOT01_77_20230305_165208.mp3</td>\n      <td>https://livetiming.formula1.com/static/2023/20...</td>\n      <td>2023-03-05 16:42:52.674</td>\n    </tr>\n    <tr>\n      <th>81</th>\n      <th>0</th>\n      <td>2023-03-05T15:29:08.5257245Z</td>\n      <td>81</td>\n      <td>TeamRadio/OSCPIA01_81_20230305_152844.mp3</td>\n      <td>https://livetiming.formula1.com/static/2023/20...</td>\n      <td>2023-03-05 15:29:08.526</td>\n    </tr>\n  </tbody>\n</table>\n<p>84 rows × 5 columns</p>\n</div>"
     },
     "execution_count": 29,
     "metadata": {},
     "output_type": "execute_result"
    }
   ],
   "source": [
    "team_radio['Bahrain_Grand_Prix']"
   ],
   "metadata": {
    "collapsed": false,
    "ExecuteTime": {
     "end_time": "2024-06-10T10:17:09.649403100Z",
     "start_time": "2024-06-10T10:17:09.632883100Z"
    }
   },
   "id": "75a0ea90d60909eb"
  },
  {
   "cell_type": "code",
   "execution_count": 30,
   "outputs": [
    {
     "data": {
      "text/plain": "                           Utc RacingNumber  \\\n1  0  2022-03-20T14:19:09.733Z            1   \n   1  2022-03-20T15:07:31.765Z            1   \n   2  2022-03-20T15:09:34.552Z            1   \n   3  2022-03-20T15:17:41.909Z            1   \n   4   2022-03-20T15:21:45.65Z            1   \n...                        ...          ...   \n63 4  2022-03-20T15:49:09.011Z           63   \n   5  2022-03-20T15:49:09.011Z           63   \n   6  2022-03-20T16:07:25.571Z           63   \n   7  2022-03-20T16:44:31.123Z           63   \n77 0  2022-03-20T16:44:31.123Z           77   \n\n                                           Path  \\\n1  0   TeamRadio/MAXVER01_1_20220320_141847.mp3   \n   1   TeamRadio/MAXVER01_1_20220320_150702.mp3   \n   2   TeamRadio/MAXVER01_1_20220320_150940.mp3   \n   3   TeamRadio/MAXVER01_1_20220320_151709.mp3   \n   4   TeamRadio/MAXVER01_1_20220320_152142.mp3   \n...                                         ...   \n63 4  TeamRadio/GEORUS01_63_20220320_154803.mp3   \n   5  TeamRadio/GEORUS01_63_20220320_154820.mp3   \n   6  TeamRadio/GEORUS01_63_20220320_160717.mp3   \n   7  TeamRadio/GEORUS01_63_20220320_165701.mp3   \n77 0  TeamRadio/VALBOT01_77_20220320_165809.mp3   \n\n                                               Path New  \\\n1  0  https://livetiming.formula1.com/static/2022/20...   \n   1  https://livetiming.formula1.com/static/2022/20...   \n   2  https://livetiming.formula1.com/static/2022/20...   \n   3  https://livetiming.formula1.com/static/2022/20...   \n   4  https://livetiming.formula1.com/static/2022/20...   \n...                                                 ...   \n63 4  https://livetiming.formula1.com/static/2022/20...   \n   5  https://livetiming.formula1.com/static/2022/20...   \n   6  https://livetiming.formula1.com/static/2022/20...   \n   7  https://livetiming.formula1.com/static/2022/20...   \n77 0  https://livetiming.formula1.com/static/2022/20...   \n\n                        Date  \n1  0 2022-03-20 14:19:09.733  \n   1 2022-03-20 15:07:31.765  \n   2 2022-03-20 15:09:34.552  \n   3 2022-03-20 15:17:41.909  \n   4 2022-03-20 15:21:45.650  \n...                      ...  \n63 4 2022-03-20 15:49:09.011  \n   5 2022-03-20 15:49:09.011  \n   6 2022-03-20 16:07:25.571  \n   7 2022-03-20 16:44:31.123  \n77 0 2022-03-20 16:44:31.123  \n\n[137 rows x 5 columns]",
      "text/html": "<div>\n<style scoped>\n    .dataframe tbody tr th:only-of-type {\n        vertical-align: middle;\n    }\n\n    .dataframe tbody tr th {\n        vertical-align: top;\n    }\n\n    .dataframe thead th {\n        text-align: right;\n    }\n</style>\n<table border=\"1\" class=\"dataframe\">\n  <thead>\n    <tr style=\"text-align: right;\">\n      <th></th>\n      <th></th>\n      <th>Utc</th>\n      <th>RacingNumber</th>\n      <th>Path</th>\n      <th>Path New</th>\n      <th>Date</th>\n    </tr>\n  </thead>\n  <tbody>\n    <tr>\n      <th rowspan=\"5\" valign=\"top\">1</th>\n      <th>0</th>\n      <td>2022-03-20T14:19:09.733Z</td>\n      <td>1</td>\n      <td>TeamRadio/MAXVER01_1_20220320_141847.mp3</td>\n      <td>https://livetiming.formula1.com/static/2022/20...</td>\n      <td>2022-03-20 14:19:09.733</td>\n    </tr>\n    <tr>\n      <th>1</th>\n      <td>2022-03-20T15:07:31.765Z</td>\n      <td>1</td>\n      <td>TeamRadio/MAXVER01_1_20220320_150702.mp3</td>\n      <td>https://livetiming.formula1.com/static/2022/20...</td>\n      <td>2022-03-20 15:07:31.765</td>\n    </tr>\n    <tr>\n      <th>2</th>\n      <td>2022-03-20T15:09:34.552Z</td>\n      <td>1</td>\n      <td>TeamRadio/MAXVER01_1_20220320_150940.mp3</td>\n      <td>https://livetiming.formula1.com/static/2022/20...</td>\n      <td>2022-03-20 15:09:34.552</td>\n    </tr>\n    <tr>\n      <th>3</th>\n      <td>2022-03-20T15:17:41.909Z</td>\n      <td>1</td>\n      <td>TeamRadio/MAXVER01_1_20220320_151709.mp3</td>\n      <td>https://livetiming.formula1.com/static/2022/20...</td>\n      <td>2022-03-20 15:17:41.909</td>\n    </tr>\n    <tr>\n      <th>4</th>\n      <td>2022-03-20T15:21:45.65Z</td>\n      <td>1</td>\n      <td>TeamRadio/MAXVER01_1_20220320_152142.mp3</td>\n      <td>https://livetiming.formula1.com/static/2022/20...</td>\n      <td>2022-03-20 15:21:45.650</td>\n    </tr>\n    <tr>\n      <th>...</th>\n      <th>...</th>\n      <td>...</td>\n      <td>...</td>\n      <td>...</td>\n      <td>...</td>\n      <td>...</td>\n    </tr>\n    <tr>\n      <th rowspan=\"4\" valign=\"top\">63</th>\n      <th>4</th>\n      <td>2022-03-20T15:49:09.011Z</td>\n      <td>63</td>\n      <td>TeamRadio/GEORUS01_63_20220320_154803.mp3</td>\n      <td>https://livetiming.formula1.com/static/2022/20...</td>\n      <td>2022-03-20 15:49:09.011</td>\n    </tr>\n    <tr>\n      <th>5</th>\n      <td>2022-03-20T15:49:09.011Z</td>\n      <td>63</td>\n      <td>TeamRadio/GEORUS01_63_20220320_154820.mp3</td>\n      <td>https://livetiming.formula1.com/static/2022/20...</td>\n      <td>2022-03-20 15:49:09.011</td>\n    </tr>\n    <tr>\n      <th>6</th>\n      <td>2022-03-20T16:07:25.571Z</td>\n      <td>63</td>\n      <td>TeamRadio/GEORUS01_63_20220320_160717.mp3</td>\n      <td>https://livetiming.formula1.com/static/2022/20...</td>\n      <td>2022-03-20 16:07:25.571</td>\n    </tr>\n    <tr>\n      <th>7</th>\n      <td>2022-03-20T16:44:31.123Z</td>\n      <td>63</td>\n      <td>TeamRadio/GEORUS01_63_20220320_165701.mp3</td>\n      <td>https://livetiming.formula1.com/static/2022/20...</td>\n      <td>2022-03-20 16:44:31.123</td>\n    </tr>\n    <tr>\n      <th>77</th>\n      <th>0</th>\n      <td>2022-03-20T16:44:31.123Z</td>\n      <td>77</td>\n      <td>TeamRadio/VALBOT01_77_20220320_165809.mp3</td>\n      <td>https://livetiming.formula1.com/static/2022/20...</td>\n      <td>2022-03-20 16:44:31.123</td>\n    </tr>\n  </tbody>\n</table>\n<p>137 rows × 5 columns</p>\n</div>"
     },
     "execution_count": 30,
     "metadata": {},
     "output_type": "execute_result"
    }
   ],
   "source": [
    "team_radio22['Bahrain_Grand_Prix']"
   ],
   "metadata": {
    "collapsed": false,
    "ExecuteTime": {
     "end_time": "2024-06-10T10:17:20.601233900Z",
     "start_time": "2024-06-10T10:17:20.540581500Z"
    }
   },
   "id": "ba21f08d6244065c"
  },
  {
   "cell_type": "code",
   "execution_count": null,
   "outputs": [],
   "source": [
    "team_radio['Mexico_City_Grand_Prix']"
   ],
   "metadata": {
    "collapsed": false
   },
   "id": "a54fc506bf173154"
  },
  {
   "cell_type": "markdown",
   "source": [
    "Now it is time to import the mp3 audio data.\n",
    "\n",
    "### 3.2 IMPORTING AUDIO DATA"
   ],
   "metadata": {
    "collapsed": false
   },
   "id": "9f92f20778bf93e0"
  },
  {
   "cell_type": "code",
   "execution_count": null,
   "outputs": [],
   "source": [
    "audio_url = team_radio['Bahrain']['Path New'].iloc[3]\n",
    "print(audio_url) #Max Verstappen's 8 seconds long radio.\n",
    "\n",
    "Audio(audio_url, autoplay=True)"
   ],
   "metadata": {
    "collapsed": false
   },
   "id": "b0c5d292d37122de"
  },
  {
   "cell_type": "code",
   "execution_count": null,
   "outputs": [],
   "source": [
    "def download_audio(url):\n",
    "    response = requests.get(url)\n",
    "    if response.status_code == 200:\n",
    "        return response.content  # Return the audio data\n",
    "    else:\n",
    "        print(\"Failed to download audio\")\n",
    "        return None"
   ],
   "metadata": {
    "collapsed": false
   },
   "id": "891a3e22d88d200f"
  },
  {
   "cell_type": "markdown",
   "source": [
    "Python's Speech Recognition module.\n",
    "> https://pypi.org/project/SpeechRecognition/\n",
    "\n",
    "Speech recognition engine/API support:\n",
    "- CMU Sphinx (works offline)\n",
    "- Google Speech Recognition\n",
    "- Google Cloud Speech API\n",
    "- Wit.ai\n",
    "- Microsoft Azure Speech\n",
    "- Microsoft Bing Voice Recognition (Deprecated)\n",
    "- Houndify API\n",
    "- IBM Speech to Text\n",
    "- Snowboy Hotword Detection (works offline)\n",
    "- Tensorflow\n",
    "- Vosk API (works offline)\n",
    "- OpenAI whisper (works offline)\n",
    "- Whisper API\n",
    "\n",
    "### 3.2.1 Google Speech Recognition Model"
   ],
   "metadata": {
    "collapsed": false
   },
   "id": "f14c1ae89f4cdc7e"
  },
  {
   "cell_type": "code",
   "execution_count": null,
   "outputs": [],
   "source": [
    "def speech_to_text(audio_data, sample_rate, sample_width):\n",
    "    recognizer = sr.Recognizer()\n",
    "    # Converting the audio data to audio source\n",
    "    audio_source = sr.AudioData(audio_data, sample_rate, sample_width)  #Sample_rate and sample_width\n",
    "\n",
    "    # Speech to text conversion\n",
    "    try:\n",
    "        text = recognizer.recognize_google(audio_source)  #we are using Google Speech Recognition API\n",
    "        return text\n",
    "    except sr.UnknownValueError:\n",
    "        print(\"Speech recognition could not understand audio\")\n",
    "        return None\n",
    "    except sr.RequestError as e:\n",
    "        print(f\"Could not request results from Speech Recognition service; {e}\")\n",
    "        return None"
   ],
   "metadata": {
    "collapsed": false
   },
   "id": "e4a499211761f862"
  },
  {
   "cell_type": "code",
   "execution_count": null,
   "outputs": [],
   "source": [
    "audio_data = download_audio(audio_url)\n",
    "if audio_data:\n",
    "    result = speech_to_text(audio_data, 48000, 4)\n",
    "    if result:\n",
    "        print(\"Text from audio:\", result)"
   ],
   "metadata": {
    "collapsed": false
   },
   "id": "bb4451f48792c9f6"
  },
  {
   "cell_type": "markdown",
   "source": [
    "Ideas to solve this issue:\n",
    "\n",
    "- Verify sample rate and width (from the original audio data source)\n",
    "- To void background noises. (this might be the main issue)\n",
    "    - Noise reduction \n",
    "    - Filters: Low-pass filters, high-pass filters, band-stop filters\n",
    "    - Preprocessing :??\n",
    "- Additional parameters: Sensitivity threshold, noise suppression settings, language?"
   ],
   "metadata": {
    "collapsed": false
   },
   "id": "51030be20686ec57"
  },
  {
   "cell_type": "markdown",
   "source": [
    "### 3.2.2 OpenAI's Whisper Model"
   ],
   "metadata": {
    "collapsed": false
   },
   "id": "30a0cf2762951e47"
  },
  {
   "cell_type": "code",
   "execution_count": null,
   "outputs": [],
   "source": [
    "def download_audio_new(url):\n",
    "    response = requests.get(url)\n",
    "    if response.status_code == 200:\n",
    "        with tempfile.NamedTemporaryFile(delete=False) as tmp_file:\n",
    "            tmp_file.write(response.content)\n",
    "            tmp_file_name = tmp_file.name\n",
    "        audio_data, _ = sf.read(tmp_file_name, dtype='float32')  # Read audio file as waveform\n",
    "        return audio_data\n",
    "    else:\n",
    "        print(\"Failed to download audio\")\n",
    "        return None"
   ],
   "metadata": {
    "collapsed": false
   },
   "id": "eb13a4ebb1bb2e2e"
  },
  {
   "cell_type": "code",
   "execution_count": null,
   "outputs": [],
   "source": [
    "def speech_to_text_whisper(url,model):\n",
    "    audio_data = download_audio_new(url)\n",
    "    results = model.transcribe(audio_data)\n",
    "    return results['text']"
   ],
   "metadata": {
    "collapsed": false
   },
   "id": "53a8043dd155eeb6"
  },
  {
   "cell_type": "code",
   "execution_count": null,
   "outputs": [],
   "source": [
    "model = whisper.load_model(\"base.en\")\n",
    "print(\n",
    "    f\"Model is {'multilingual' if model.is_multilingual else 'English-only'} \"\n",
    "    f\"and has {sum(np.prod(p.shape) for p in model.parameters()):,} parameters.\"\n",
    ")\n",
    "options = whisper.DecodingOptions(language=\"en\", without_timestamps=True)\n",
    "options"
   ],
   "metadata": {
    "collapsed": false
   },
   "id": "dcc74a41358f66e9"
  },
  {
   "cell_type": "code",
   "execution_count": null,
   "outputs": [],
   "source": [
    "print(speech_to_text_whisper(audio_url,model))"
   ],
   "metadata": {
    "collapsed": false
   },
   "id": "3189074eba90fdf7"
  },
  {
   "cell_type": "code",
   "execution_count": null,
   "outputs": [],
   "source": [
    "for country in team_radio.keys():\n",
    "    print(f\"{country:<20} : {len(team_radio[country]):<20}\")"
   ],
   "metadata": {
    "collapsed": false
   },
   "id": "fc12eca06e267b31"
  },
  {
   "cell_type": "code",
   "execution_count": null,
   "outputs": [],
   "source": [
    "country = random.sample(list(team_radio.keys()),k=1)[0]\n",
    "index = random.randint(0, 55)\n",
    "\n",
    "audio_url = team_radio[country]['Path New'].iloc[index]\n",
    "\n",
    "print(speech_to_text_whisper(audio_url,model))\n",
    "Audio(audio_url,autoplay=True)"
   ],
   "metadata": {
    "collapsed": false
   },
   "id": "d420d069a0b976b8"
  },
  {
   "cell_type": "markdown",
   "source": [
    "Open AI's Whisper model also seems to be not working well.\n",
    "\n",
    "### 3.4 SAVE DICTIONARY\n",
    "\n",
    "We must save the team radio-timestamps dictionary to our file so that we can import and use in the next phases of our project."
   ],
   "metadata": {
    "collapsed": false
   },
   "id": "ae511892eb007c6c"
  },
  {
   "cell_type": "code",
   "execution_count": null,
   "outputs": [],
   "source": [
    "with open(os.path.join(data_path,'team_radio23.pkl'), 'wb') as f:\n",
    "    pickle.dump(team_radio, f)"
   ],
   "metadata": {
    "collapsed": false
   },
   "id": "9351d3015f3d811d"
  },
  {
   "cell_type": "code",
   "execution_count": 32,
   "outputs": [],
   "source": [
    "with open(os.path.join(data_path,'team_radio22.pkl'), 'wb') as f:\n",
    "    pickle.dump(team_radio22, f)"
   ],
   "metadata": {
    "collapsed": false,
    "ExecuteTime": {
     "end_time": "2024-06-10T10:21:48.112143600Z",
     "start_time": "2024-06-10T10:21:48.089504400Z"
    }
   },
   "id": "4e6433a52cc79905"
  },
  {
   "cell_type": "code",
   "execution_count": null,
   "outputs": [],
   "source": [],
   "metadata": {
    "collapsed": false
   },
   "id": "3e76d7093a1efb"
  }
 ],
 "metadata": {
  "kernelspec": {
   "display_name": "Python 3",
   "language": "python",
   "name": "python3"
  },
  "language_info": {
   "codemirror_mode": {
    "name": "ipython",
    "version": 2
   },
   "file_extension": ".py",
   "mimetype": "text/x-python",
   "name": "python",
   "nbconvert_exporter": "python",
   "pygments_lexer": "ipython2",
   "version": "2.7.6"
  }
 },
 "nbformat": 4,
 "nbformat_minor": 5
}
