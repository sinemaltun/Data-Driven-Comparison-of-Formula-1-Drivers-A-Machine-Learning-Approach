{
 "cells": [
  {
   "cell_type": "markdown",
   "source": [
    "# 6. FORMULA ONE RACING SEASONS"
   ],
   "metadata": {
    "collapsed": false
   },
   "id": "add0a4497789b66e"
  },
  {
   "cell_type": "code",
   "execution_count": 1,
   "outputs": [],
   "source": [
    "import fastf1\n",
    "import pickle\n",
    "import os\n",
    "import copy\n",
    "import calendar\n",
    "import numpy as np\n",
    "import pandas as pd\n",
    "\n",
    "#Visualization\n",
    "import plotly.graph_objects as go\n",
    "import plotly.express as px\n",
    "import plotly.figure_factory as ff\n",
    "\n",
    "from sklearn.metrics.pairwise import cosine_similarity\n",
    "from sklearn.preprocessing import StandardScaler, MinMaxScaler\n",
    "from sklearn.decomposition import PCA\n",
    "from scipy.cluster.hierarchy import dendrogram, linkage\n",
    "import scipy.cluster.hierarchy as sch\n",
    "import scipy.spatial.distance as ssd\n",
    "\n",
    "\n",
    "parent_dir = os.path.dirname(os.path.realpath(\"6. Formula 1 Racing Seasons.ipynb\")) \n",
    "data_path = os.path.join(parent_dir, 'Data Objects')"
   ],
   "metadata": {
    "collapsed": true,
    "ExecuteTime": {
     "end_time": "2024-06-10T20:04:22.470528800Z",
     "start_time": "2024-06-10T20:04:17.092122600Z"
    }
   },
   "id": "initial_id"
  },
  {
   "cell_type": "code",
   "execution_count": 2,
   "outputs": [],
   "source": [
    "def datetime2utc(df):\n",
    "    \"\"\"\n",
    "    Converts timestamps to UTC and adds them to the dataframe while removing the old date format\n",
    "    \"\"\"\n",
    "    series = df['Date']\n",
    "    new_date_format    = [calendar.timegm(ttime.timetuple()) for ttime in series]\n",
    "    df = df.drop('Date', axis=1) #If you wish to keep the old date format, comment this line\n",
    "    df.loc[:, \"Date_UTC\"] = new_date_format    \n",
    "    return df"
   ],
   "metadata": {
    "collapsed": false,
    "ExecuteTime": {
     "end_time": "2024-06-10T20:04:22.567513800Z",
     "start_time": "2024-06-10T20:04:22.156769200Z"
    }
   },
   "id": "75296cf117517af4"
  },
  {
   "cell_type": "code",
   "execution_count": 3,
   "outputs": [],
   "source": [
    "with open(os.path.join(data_path, 'f1_22.pkl'), 'rb') as f:\n",
    "    f1_22 = pickle.load(f)"
   ],
   "metadata": {
    "collapsed": false,
    "ExecuteTime": {
     "end_time": "2024-06-10T20:04:29.944643100Z",
     "start_time": "2024-06-10T20:04:22.167372800Z"
    }
   },
   "id": "3e5583db7fa8ca34"
  },
  {
   "cell_type": "code",
   "execution_count": 4,
   "outputs": [],
   "source": [
    "with open(os.path.join(data_path, 'f1_23.pkl'), 'rb') as f:\n",
    "    f1_23 = pickle.load(f)"
   ],
   "metadata": {
    "collapsed": false,
    "ExecuteTime": {
     "end_time": "2024-06-10T20:04:31.275694700Z",
     "start_time": "2024-06-10T20:04:25.588006Z"
    }
   },
   "id": "bf98412efc16c93a"
  },
  {
   "cell_type": "code",
   "execution_count": 5,
   "outputs": [
    {
     "name": "stdout",
     "output_type": "stream",
     "text": [
      "dict_keys(['Bahrain_Grand_Prix', 'Australian_Grand_Prix', 'Emilia_Romagna_Grand_Prix', 'Spanish_Grand_Prix', 'Monaco_Grand_Prix', 'Azerbaijan_Grand_Prix', 'Canadian_Grand_Prix', 'Austrian_Grand_Prix', 'French_Grand_Prix', 'Hungarian_Grand_Prix', 'Belgian_Grand_Prix', 'Dutch_Grand_Prix', 'Italian_Grand_Prix', 'Japanese_Grand_Prix', 'United_States_Grand_Prix', 'Mexico_City_Grand_Prix', 'Abu_Dhabi_Grand_Prix']) \n",
      "\n",
      "dict_keys(['Bahrain_Grand_Prix', 'Saudi_Arabian_Grand_Prix', 'Australian_Grand_Prix', 'Azerbaijan_Grand_Prix', 'Miami_Grand_Prix', 'Monaco_Grand_Prix', 'Spanish_Grand_Prix', 'Austrian_Grand_Prix', 'British_Grand_Prix', 'Belgian_Grand_Prix', 'Italian_Grand_Prix', 'Japanese_Grand_Prix', 'Mexico_City_Grand_Prix'])\n"
     ]
    }
   ],
   "source": [
    "print(f1_22.keys(),\"\\n\")\n",
    "print(f1_23.keys())"
   ],
   "metadata": {
    "collapsed": false,
    "ExecuteTime": {
     "end_time": "2024-06-10T20:04:31.382202300Z",
     "start_time": "2024-06-10T20:04:31.277002100Z"
    }
   },
   "id": "bbf32ffaec35d6a3"
  },
  {
   "cell_type": "code",
   "execution_count": 6,
   "outputs": [],
   "source": [
    "common_gps = ['Bahrain_Grand_Prix',  'Australian_Grand_Prix', 'Azerbaijan_Grand_Prix',  'Monaco_Grand_Prix',  'Austrian_Grand_Prix', 'Belgian_Grand_Prix', 'Italian_Grand_Prix', 'Japanese_Grand_Prix', 'Mexico_City_Grand_Prix']"
   ],
   "metadata": {
    "collapsed": false,
    "ExecuteTime": {
     "end_time": "2024-06-10T20:04:31.387629100Z",
     "start_time": "2024-06-10T20:04:31.304309600Z"
    }
   },
   "id": "222835674fa5de41"
  },
  {
   "cell_type": "code",
   "execution_count": 7,
   "outputs": [],
   "source": [
    "def normalize_driver_data(dictt):\n",
    "    drv = {}\n",
    "    for gp,df in dictt.items():  \n",
    "        if gp in common_gps:\n",
    "            drivers = set(df.index.get_level_values(0))\n",
    "            drv[gp] = {}\n",
    "            for driver in drivers:\n",
    "                drv_df = df.loc[(driver, slice(None))]\n",
    "                drv_df = datetime2utc(drv_df).reset_index(drop=True) #Make date integer and remove XYZ coordinate index\n",
    "                \n",
    "                scaler = StandardScaler()\n",
    "                drv_df_n = pd.DataFrame(scaler.fit_transform(drv_df), columns = drv_df.columns)\n",
    "        \n",
    "                drv[gp][driver] = drv_df_n \n",
    "            \n",
    "    return drv"
   ],
   "metadata": {
    "collapsed": false,
    "ExecuteTime": {
     "end_time": "2024-06-10T20:04:31.438235300Z",
     "start_time": "2024-06-10T20:04:31.340739500Z"
    }
   },
   "id": "e9f39ae249cb5308"
  },
  {
   "cell_type": "code",
   "execution_count": 8,
   "outputs": [],
   "source": [
    "drv22 = normalize_driver_data(f1_22)\n",
    "drv23 = normalize_driver_data(f1_23)"
   ],
   "metadata": {
    "collapsed": false,
    "ExecuteTime": {
     "end_time": "2024-06-10T20:07:39.145722800Z",
     "start_time": "2024-06-10T20:04:31.355023200Z"
    }
   },
   "id": "3470f18c6b818eb6"
  },
  {
   "cell_type": "code",
   "execution_count": 12,
   "outputs": [
    {
     "data": {
      "text/plain": "dict_keys(['3', '11', '24', '44', '10', '63', '55', '27', '47', '77', '6', '18', '1', '22', '4', '31', '23', '14', '20', '16'])"
     },
     "execution_count": 12,
     "metadata": {},
     "output_type": "execute_result"
    }
   ],
   "source": [
    "drv22['Bahrain_Grand_Prix']"
   ],
   "metadata": {
    "collapsed": false,
    "ExecuteTime": {
     "end_time": "2024-06-10T20:07:55.917761100Z",
     "start_time": "2024-06-10T20:07:55.834265600Z"
    }
   },
   "id": "c725fc808fea19fc"
  },
  {
   "cell_type": "code",
   "execution_count": 13,
   "outputs": [
    {
     "data": {
      "text/plain": "dict_keys(['21', '11', '24', '44', '10', '63', '55', '27', '77', '18', '1', '22', '4', '2', '31', '23', '14', '20', '16', '81'])"
     },
     "execution_count": 13,
     "metadata": {},
     "output_type": "execute_result"
    }
   ],
   "source": [
    "drv23['Bahrain_Grand_Prix']"
   ],
   "metadata": {
    "collapsed": false,
    "ExecuteTime": {
     "end_time": "2024-06-10T20:07:58.277349800Z",
     "start_time": "2024-06-10T20:07:58.220730100Z"
    }
   },
   "id": "7e25585294b367fd"
  },
  {
   "cell_type": "code",
   "execution_count": 11,
   "outputs": [],
   "source": [
    "with open(os.path.join(data_path,'pilots22.pkl'), 'wb') as f:\n",
    "    pickle.dump(drv22, f)\n",
    "\n",
    "with open(os.path.join(data_path,'pilots23.pkl'), 'wb') as f:\n",
    "    pickle.dump(drv23, f)"
   ],
   "metadata": {
    "collapsed": false,
    "ExecuteTime": {
     "end_time": "2024-06-10T20:07:42.263184100Z",
     "start_time": "2024-06-10T20:07:39.510892700Z"
    }
   },
   "id": "d04b339955c6cd0a"
  },
  {
   "cell_type": "code",
   "execution_count": null,
   "outputs": [],
   "source": [],
   "metadata": {
    "collapsed": false
   },
   "id": "7e8ae7f9a39004e5"
  }
 ],
 "metadata": {
  "kernelspec": {
   "display_name": "Python 3",
   "language": "python",
   "name": "python3"
  },
  "language_info": {
   "codemirror_mode": {
    "name": "ipython",
    "version": 2
   },
   "file_extension": ".py",
   "mimetype": "text/x-python",
   "name": "python",
   "nbconvert_exporter": "python",
   "pygments_lexer": "ipython2",
   "version": "2.7.6"
  }
 },
 "nbformat": 4,
 "nbformat_minor": 5
}
