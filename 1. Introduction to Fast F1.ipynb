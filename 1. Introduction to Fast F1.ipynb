{
 "cells": [
  {
   "cell_type": "markdown",
   "source": [
    "# INTRODUCTION TO FAST-F1 PACKAGE"
   ],
   "metadata": {
    "collapsed": false
   },
   "id": "3d2b6e3e2e5a6860"
  },
  {
   "cell_type": "code",
   "execution_count": 1,
   "outputs": [],
   "source": [
    "import fastf1\n",
    "from fastf1.core import Telemetry\n",
    "\n",
    "import logging\n",
    "# Get the FastF1 logger and set its level to ERROR\n",
    "fastf1_logger = logging.getLogger('fastf1')\n",
    "fastf1_logger.setLevel(logging.ERROR)\n"
   ],
   "metadata": {
    "collapsed": true,
    "ExecuteTime": {
     "end_time": "2024-07-15T11:39:56.211536200Z",
     "start_time": "2024-07-15T11:39:52.892409700Z"
    }
   },
   "id": "initial_id"
  },
  {
   "cell_type": "markdown",
   "source": [
    "fastf1.get_session(year, gp, identifier=None, *, backend=None, force_ergast=False)\n",
    "* session name abbreviation: 'FP1', 'FP2', 'FP3', 'Q', 'S', 'SS', 'R'\n",
    "\n",
    "* full session name: 'Practice 1', 'Practice 2', 'Practice 3', 'Sprint', 'Sprint Shootout', 'Qualifying', 'Race'; provided names will be normalized, so that the name is case-insensitive\n",
    "\n",
    "* number of the session: 1, 2, 3, 4, 5"
   ],
   "metadata": {
    "collapsed": false
   },
   "id": "41dfa5c7e9d81d6e"
  },
  {
   "cell_type": "code",
   "execution_count": 2,
   "outputs": [
    {
     "data": {
      "text/plain": "'Bahrain Grand Prix'"
     },
     "execution_count": 2,
     "metadata": {},
     "output_type": "execute_result"
    }
   ],
   "source": [
    "session = fastf1.get_session(2023, 'Bahrain','Race')\n",
    "session.event['EventName']"
   ],
   "metadata": {
    "collapsed": false,
    "ExecuteTime": {
     "end_time": "2024-07-15T11:40:05.024407300Z",
     "start_time": "2024-07-15T11:40:04.560525400Z"
    }
   },
   "id": "a8c597102c619d53"
  },
  {
   "cell_type": "markdown",
   "source": [
    "# Some Session Attributes"
   ],
   "metadata": {
    "collapsed": false
   },
   "id": "118aaa58889faa41"
  },
  {
   "cell_type": "code",
   "execution_count": 3,
   "outputs": [
    {
     "data": {
      "text/plain": "   DriverNumber BroadcastName Abbreviation         DriverId         TeamName  \\\n1             1  M VERSTAPPEN          VER   max_verstappen  Red Bull Racing   \n11           11       S PEREZ          PER            perez  Red Bull Racing   \n14           14      F ALONSO          ALO           alonso     Aston Martin   \n55           55       C SAINZ          SAI            sainz          Ferrari   \n44           44    L HAMILTON          HAM         hamilton         Mercedes   \n18           18      L STROLL          STR           stroll     Aston Martin   \n63           63     G RUSSELL          RUS          russell         Mercedes   \n77           77      V BOTTAS          BOT           bottas       Alfa Romeo   \n10           10       P GASLY          GAS            gasly           Alpine   \n23           23       A ALBON          ALB            albon         Williams   \n22           22     Y TSUNODA          TSU          tsunoda       AlphaTauri   \n2             2    L SARGEANT          SAR         sargeant         Williams   \n20           20   K MAGNUSSEN          MAG  kevin_magnussen     Haas F1 Team   \n21           21    N DE VRIES          DEV         de_vries       AlphaTauri   \n27           27  N HULKENBERG          HUL       hulkenberg     Haas F1 Team   \n24           24        G ZHOU          ZHO             zhou       Alfa Romeo   \n4             4      L NORRIS          NOR           norris          McLaren   \n31           31        E OCON          OCO             ocon           Alpine   \n16           16     C LECLERC          LEC          leclerc          Ferrari   \n81           81     O PIASTRI          PIA          piastri          McLaren   \n\n   TeamColor        TeamId  FirstName    LastName         FullName  ...  \\\n1     3671C6      red_bull        Max  Verstappen   Max Verstappen  ...   \n11    3671C6      red_bull     Sergio       Perez     Sergio Perez  ...   \n14    358C75  aston_martin   Fernando      Alonso  Fernando Alonso  ...   \n55    F91536       ferrari     Carlos       Sainz     Carlos Sainz  ...   \n44    6CD3BF      mercedes      Lewis    Hamilton   Lewis Hamilton  ...   \n18    358C75  aston_martin      Lance      Stroll     Lance Stroll  ...   \n63    6CD3BF      mercedes     George     Russell   George Russell  ...   \n77    C92D4B          alfa   Valtteri      Bottas  Valtteri Bottas  ...   \n10    2293D1        alpine     Pierre       Gasly     Pierre Gasly  ...   \n23    37BEDD      williams  Alexander       Albon  Alexander Albon  ...   \n22    5E8FAA    alphatauri       Yuki     Tsunoda     Yuki Tsunoda  ...   \n2     37BEDD      williams      Logan    Sargeant   Logan Sargeant  ...   \n20    B6BABD          haas      Kevin   Magnussen  Kevin Magnussen  ...   \n21    5E8FAA    alphatauri       Nyck    De Vries    Nyck De Vries  ...   \n27    B6BABD          haas       Nico  Hulkenberg  Nico Hulkenberg  ...   \n24    C92D4B          alfa     Guanyu        Zhou      Guanyu Zhou  ...   \n4     F58020       mclaren      Lando      Norris     Lando Norris  ...   \n31    2293D1        alpine    Esteban        Ocon     Esteban Ocon  ...   \n16    F91536       ferrari    Charles     Leclerc  Charles Leclerc  ...   \n81    F58020       mclaren      Oscar     Piastri    Oscar Piastri  ...   \n\n   CountryCode Position  ClassifiedPosition GridPosition  Q1  Q2  Q3  \\\n1          NED      1.0                   1          1.0 NaT NaT NaT   \n11         MEX      2.0                   2          2.0 NaT NaT NaT   \n14         ESP      3.0                   3          5.0 NaT NaT NaT   \n55         ESP      4.0                   4          4.0 NaT NaT NaT   \n44         GBR      5.0                   5          7.0 NaT NaT NaT   \n18         CAN      6.0                   6          8.0 NaT NaT NaT   \n63         GBR      7.0                   7          6.0 NaT NaT NaT   \n77         FIN      8.0                   8         12.0 NaT NaT NaT   \n10         FRA      9.0                   9         20.0 NaT NaT NaT   \n23         THA     10.0                  10         15.0 NaT NaT NaT   \n22         JPN     11.0                  11         14.0 NaT NaT NaT   \n2          USA     12.0                  12         16.0 NaT NaT NaT   \n20         DEN     13.0                  13         17.0 NaT NaT NaT   \n21         NED     14.0                  14         19.0 NaT NaT NaT   \n27         GER     15.0                  15         10.0 NaT NaT NaT   \n24         CHN     16.0                  16         13.0 NaT NaT NaT   \n4          GBR     17.0                  17         11.0 NaT NaT NaT   \n31         FRA     18.0                   R          9.0 NaT NaT NaT   \n16         MON     19.0                   R          3.0 NaT NaT NaT   \n81         AUS     20.0                   R         18.0 NaT NaT NaT   \n\n                     Time      Status Points  \n1  0 days 01:33:56.736000    Finished   25.0  \n11 0 days 00:00:11.987000    Finished   18.0  \n14 0 days 00:00:38.637000    Finished   15.0  \n55 0 days 00:00:48.052000    Finished   12.0  \n44 0 days 00:00:50.977000    Finished   10.0  \n18 0 days 00:00:54.502000    Finished    8.0  \n63 0 days 00:00:55.873000    Finished    6.0  \n77 0 days 00:01:12.647000    Finished    4.0  \n10 0 days 00:01:13.753000    Finished    2.0  \n23 0 days 00:01:29.774000    Finished    1.0  \n22 0 days 00:01:30.870000    Finished    0.0  \n2                     NaT      +1 Lap    0.0  \n20                    NaT      +1 Lap    0.0  \n21                    NaT      +1 Lap    0.0  \n27                    NaT      +1 Lap    0.0  \n24                    NaT      +1 Lap    0.0  \n4                     NaT     +2 Laps    0.0  \n31                    NaT  Mechanical    0.0  \n16                    NaT      Engine    0.0  \n81                    NaT  Electrical    0.0  \n\n[20 rows x 21 columns]",
      "text/html": "<div>\n<style scoped>\n    .dataframe tbody tr th:only-of-type {\n        vertical-align: middle;\n    }\n\n    .dataframe tbody tr th {\n        vertical-align: top;\n    }\n\n    .dataframe thead th {\n        text-align: right;\n    }\n</style>\n<table border=\"1\" class=\"dataframe\">\n  <thead>\n    <tr style=\"text-align: right;\">\n      <th></th>\n      <th>DriverNumber</th>\n      <th>BroadcastName</th>\n      <th>Abbreviation</th>\n      <th>DriverId</th>\n      <th>TeamName</th>\n      <th>TeamColor</th>\n      <th>TeamId</th>\n      <th>FirstName</th>\n      <th>LastName</th>\n      <th>FullName</th>\n      <th>...</th>\n      <th>CountryCode</th>\n      <th>Position</th>\n      <th>ClassifiedPosition</th>\n      <th>GridPosition</th>\n      <th>Q1</th>\n      <th>Q2</th>\n      <th>Q3</th>\n      <th>Time</th>\n      <th>Status</th>\n      <th>Points</th>\n    </tr>\n  </thead>\n  <tbody>\n    <tr>\n      <th>1</th>\n      <td>1</td>\n      <td>M VERSTAPPEN</td>\n      <td>VER</td>\n      <td>max_verstappen</td>\n      <td>Red Bull Racing</td>\n      <td>3671C6</td>\n      <td>red_bull</td>\n      <td>Max</td>\n      <td>Verstappen</td>\n      <td>Max Verstappen</td>\n      <td>...</td>\n      <td>NED</td>\n      <td>1.0</td>\n      <td>1</td>\n      <td>1.0</td>\n      <td>NaT</td>\n      <td>NaT</td>\n      <td>NaT</td>\n      <td>0 days 01:33:56.736000</td>\n      <td>Finished</td>\n      <td>25.0</td>\n    </tr>\n    <tr>\n      <th>11</th>\n      <td>11</td>\n      <td>S PEREZ</td>\n      <td>PER</td>\n      <td>perez</td>\n      <td>Red Bull Racing</td>\n      <td>3671C6</td>\n      <td>red_bull</td>\n      <td>Sergio</td>\n      <td>Perez</td>\n      <td>Sergio Perez</td>\n      <td>...</td>\n      <td>MEX</td>\n      <td>2.0</td>\n      <td>2</td>\n      <td>2.0</td>\n      <td>NaT</td>\n      <td>NaT</td>\n      <td>NaT</td>\n      <td>0 days 00:00:11.987000</td>\n      <td>Finished</td>\n      <td>18.0</td>\n    </tr>\n    <tr>\n      <th>14</th>\n      <td>14</td>\n      <td>F ALONSO</td>\n      <td>ALO</td>\n      <td>alonso</td>\n      <td>Aston Martin</td>\n      <td>358C75</td>\n      <td>aston_martin</td>\n      <td>Fernando</td>\n      <td>Alonso</td>\n      <td>Fernando Alonso</td>\n      <td>...</td>\n      <td>ESP</td>\n      <td>3.0</td>\n      <td>3</td>\n      <td>5.0</td>\n      <td>NaT</td>\n      <td>NaT</td>\n      <td>NaT</td>\n      <td>0 days 00:00:38.637000</td>\n      <td>Finished</td>\n      <td>15.0</td>\n    </tr>\n    <tr>\n      <th>55</th>\n      <td>55</td>\n      <td>C SAINZ</td>\n      <td>SAI</td>\n      <td>sainz</td>\n      <td>Ferrari</td>\n      <td>F91536</td>\n      <td>ferrari</td>\n      <td>Carlos</td>\n      <td>Sainz</td>\n      <td>Carlos Sainz</td>\n      <td>...</td>\n      <td>ESP</td>\n      <td>4.0</td>\n      <td>4</td>\n      <td>4.0</td>\n      <td>NaT</td>\n      <td>NaT</td>\n      <td>NaT</td>\n      <td>0 days 00:00:48.052000</td>\n      <td>Finished</td>\n      <td>12.0</td>\n    </tr>\n    <tr>\n      <th>44</th>\n      <td>44</td>\n      <td>L HAMILTON</td>\n      <td>HAM</td>\n      <td>hamilton</td>\n      <td>Mercedes</td>\n      <td>6CD3BF</td>\n      <td>mercedes</td>\n      <td>Lewis</td>\n      <td>Hamilton</td>\n      <td>Lewis Hamilton</td>\n      <td>...</td>\n      <td>GBR</td>\n      <td>5.0</td>\n      <td>5</td>\n      <td>7.0</td>\n      <td>NaT</td>\n      <td>NaT</td>\n      <td>NaT</td>\n      <td>0 days 00:00:50.977000</td>\n      <td>Finished</td>\n      <td>10.0</td>\n    </tr>\n    <tr>\n      <th>18</th>\n      <td>18</td>\n      <td>L STROLL</td>\n      <td>STR</td>\n      <td>stroll</td>\n      <td>Aston Martin</td>\n      <td>358C75</td>\n      <td>aston_martin</td>\n      <td>Lance</td>\n      <td>Stroll</td>\n      <td>Lance Stroll</td>\n      <td>...</td>\n      <td>CAN</td>\n      <td>6.0</td>\n      <td>6</td>\n      <td>8.0</td>\n      <td>NaT</td>\n      <td>NaT</td>\n      <td>NaT</td>\n      <td>0 days 00:00:54.502000</td>\n      <td>Finished</td>\n      <td>8.0</td>\n    </tr>\n    <tr>\n      <th>63</th>\n      <td>63</td>\n      <td>G RUSSELL</td>\n      <td>RUS</td>\n      <td>russell</td>\n      <td>Mercedes</td>\n      <td>6CD3BF</td>\n      <td>mercedes</td>\n      <td>George</td>\n      <td>Russell</td>\n      <td>George Russell</td>\n      <td>...</td>\n      <td>GBR</td>\n      <td>7.0</td>\n      <td>7</td>\n      <td>6.0</td>\n      <td>NaT</td>\n      <td>NaT</td>\n      <td>NaT</td>\n      <td>0 days 00:00:55.873000</td>\n      <td>Finished</td>\n      <td>6.0</td>\n    </tr>\n    <tr>\n      <th>77</th>\n      <td>77</td>\n      <td>V BOTTAS</td>\n      <td>BOT</td>\n      <td>bottas</td>\n      <td>Alfa Romeo</td>\n      <td>C92D4B</td>\n      <td>alfa</td>\n      <td>Valtteri</td>\n      <td>Bottas</td>\n      <td>Valtteri Bottas</td>\n      <td>...</td>\n      <td>FIN</td>\n      <td>8.0</td>\n      <td>8</td>\n      <td>12.0</td>\n      <td>NaT</td>\n      <td>NaT</td>\n      <td>NaT</td>\n      <td>0 days 00:01:12.647000</td>\n      <td>Finished</td>\n      <td>4.0</td>\n    </tr>\n    <tr>\n      <th>10</th>\n      <td>10</td>\n      <td>P GASLY</td>\n      <td>GAS</td>\n      <td>gasly</td>\n      <td>Alpine</td>\n      <td>2293D1</td>\n      <td>alpine</td>\n      <td>Pierre</td>\n      <td>Gasly</td>\n      <td>Pierre Gasly</td>\n      <td>...</td>\n      <td>FRA</td>\n      <td>9.0</td>\n      <td>9</td>\n      <td>20.0</td>\n      <td>NaT</td>\n      <td>NaT</td>\n      <td>NaT</td>\n      <td>0 days 00:01:13.753000</td>\n      <td>Finished</td>\n      <td>2.0</td>\n    </tr>\n    <tr>\n      <th>23</th>\n      <td>23</td>\n      <td>A ALBON</td>\n      <td>ALB</td>\n      <td>albon</td>\n      <td>Williams</td>\n      <td>37BEDD</td>\n      <td>williams</td>\n      <td>Alexander</td>\n      <td>Albon</td>\n      <td>Alexander Albon</td>\n      <td>...</td>\n      <td>THA</td>\n      <td>10.0</td>\n      <td>10</td>\n      <td>15.0</td>\n      <td>NaT</td>\n      <td>NaT</td>\n      <td>NaT</td>\n      <td>0 days 00:01:29.774000</td>\n      <td>Finished</td>\n      <td>1.0</td>\n    </tr>\n    <tr>\n      <th>22</th>\n      <td>22</td>\n      <td>Y TSUNODA</td>\n      <td>TSU</td>\n      <td>tsunoda</td>\n      <td>AlphaTauri</td>\n      <td>5E8FAA</td>\n      <td>alphatauri</td>\n      <td>Yuki</td>\n      <td>Tsunoda</td>\n      <td>Yuki Tsunoda</td>\n      <td>...</td>\n      <td>JPN</td>\n      <td>11.0</td>\n      <td>11</td>\n      <td>14.0</td>\n      <td>NaT</td>\n      <td>NaT</td>\n      <td>NaT</td>\n      <td>0 days 00:01:30.870000</td>\n      <td>Finished</td>\n      <td>0.0</td>\n    </tr>\n    <tr>\n      <th>2</th>\n      <td>2</td>\n      <td>L SARGEANT</td>\n      <td>SAR</td>\n      <td>sargeant</td>\n      <td>Williams</td>\n      <td>37BEDD</td>\n      <td>williams</td>\n      <td>Logan</td>\n      <td>Sargeant</td>\n      <td>Logan Sargeant</td>\n      <td>...</td>\n      <td>USA</td>\n      <td>12.0</td>\n      <td>12</td>\n      <td>16.0</td>\n      <td>NaT</td>\n      <td>NaT</td>\n      <td>NaT</td>\n      <td>NaT</td>\n      <td>+1 Lap</td>\n      <td>0.0</td>\n    </tr>\n    <tr>\n      <th>20</th>\n      <td>20</td>\n      <td>K MAGNUSSEN</td>\n      <td>MAG</td>\n      <td>kevin_magnussen</td>\n      <td>Haas F1 Team</td>\n      <td>B6BABD</td>\n      <td>haas</td>\n      <td>Kevin</td>\n      <td>Magnussen</td>\n      <td>Kevin Magnussen</td>\n      <td>...</td>\n      <td>DEN</td>\n      <td>13.0</td>\n      <td>13</td>\n      <td>17.0</td>\n      <td>NaT</td>\n      <td>NaT</td>\n      <td>NaT</td>\n      <td>NaT</td>\n      <td>+1 Lap</td>\n      <td>0.0</td>\n    </tr>\n    <tr>\n      <th>21</th>\n      <td>21</td>\n      <td>N DE VRIES</td>\n      <td>DEV</td>\n      <td>de_vries</td>\n      <td>AlphaTauri</td>\n      <td>5E8FAA</td>\n      <td>alphatauri</td>\n      <td>Nyck</td>\n      <td>De Vries</td>\n      <td>Nyck De Vries</td>\n      <td>...</td>\n      <td>NED</td>\n      <td>14.0</td>\n      <td>14</td>\n      <td>19.0</td>\n      <td>NaT</td>\n      <td>NaT</td>\n      <td>NaT</td>\n      <td>NaT</td>\n      <td>+1 Lap</td>\n      <td>0.0</td>\n    </tr>\n    <tr>\n      <th>27</th>\n      <td>27</td>\n      <td>N HULKENBERG</td>\n      <td>HUL</td>\n      <td>hulkenberg</td>\n      <td>Haas F1 Team</td>\n      <td>B6BABD</td>\n      <td>haas</td>\n      <td>Nico</td>\n      <td>Hulkenberg</td>\n      <td>Nico Hulkenberg</td>\n      <td>...</td>\n      <td>GER</td>\n      <td>15.0</td>\n      <td>15</td>\n      <td>10.0</td>\n      <td>NaT</td>\n      <td>NaT</td>\n      <td>NaT</td>\n      <td>NaT</td>\n      <td>+1 Lap</td>\n      <td>0.0</td>\n    </tr>\n    <tr>\n      <th>24</th>\n      <td>24</td>\n      <td>G ZHOU</td>\n      <td>ZHO</td>\n      <td>zhou</td>\n      <td>Alfa Romeo</td>\n      <td>C92D4B</td>\n      <td>alfa</td>\n      <td>Guanyu</td>\n      <td>Zhou</td>\n      <td>Guanyu Zhou</td>\n      <td>...</td>\n      <td>CHN</td>\n      <td>16.0</td>\n      <td>16</td>\n      <td>13.0</td>\n      <td>NaT</td>\n      <td>NaT</td>\n      <td>NaT</td>\n      <td>NaT</td>\n      <td>+1 Lap</td>\n      <td>0.0</td>\n    </tr>\n    <tr>\n      <th>4</th>\n      <td>4</td>\n      <td>L NORRIS</td>\n      <td>NOR</td>\n      <td>norris</td>\n      <td>McLaren</td>\n      <td>F58020</td>\n      <td>mclaren</td>\n      <td>Lando</td>\n      <td>Norris</td>\n      <td>Lando Norris</td>\n      <td>...</td>\n      <td>GBR</td>\n      <td>17.0</td>\n      <td>17</td>\n      <td>11.0</td>\n      <td>NaT</td>\n      <td>NaT</td>\n      <td>NaT</td>\n      <td>NaT</td>\n      <td>+2 Laps</td>\n      <td>0.0</td>\n    </tr>\n    <tr>\n      <th>31</th>\n      <td>31</td>\n      <td>E OCON</td>\n      <td>OCO</td>\n      <td>ocon</td>\n      <td>Alpine</td>\n      <td>2293D1</td>\n      <td>alpine</td>\n      <td>Esteban</td>\n      <td>Ocon</td>\n      <td>Esteban Ocon</td>\n      <td>...</td>\n      <td>FRA</td>\n      <td>18.0</td>\n      <td>R</td>\n      <td>9.0</td>\n      <td>NaT</td>\n      <td>NaT</td>\n      <td>NaT</td>\n      <td>NaT</td>\n      <td>Mechanical</td>\n      <td>0.0</td>\n    </tr>\n    <tr>\n      <th>16</th>\n      <td>16</td>\n      <td>C LECLERC</td>\n      <td>LEC</td>\n      <td>leclerc</td>\n      <td>Ferrari</td>\n      <td>F91536</td>\n      <td>ferrari</td>\n      <td>Charles</td>\n      <td>Leclerc</td>\n      <td>Charles Leclerc</td>\n      <td>...</td>\n      <td>MON</td>\n      <td>19.0</td>\n      <td>R</td>\n      <td>3.0</td>\n      <td>NaT</td>\n      <td>NaT</td>\n      <td>NaT</td>\n      <td>NaT</td>\n      <td>Engine</td>\n      <td>0.0</td>\n    </tr>\n    <tr>\n      <th>81</th>\n      <td>81</td>\n      <td>O PIASTRI</td>\n      <td>PIA</td>\n      <td>piastri</td>\n      <td>McLaren</td>\n      <td>F58020</td>\n      <td>mclaren</td>\n      <td>Oscar</td>\n      <td>Piastri</td>\n      <td>Oscar Piastri</td>\n      <td>...</td>\n      <td>AUS</td>\n      <td>20.0</td>\n      <td>R</td>\n      <td>18.0</td>\n      <td>NaT</td>\n      <td>NaT</td>\n      <td>NaT</td>\n      <td>NaT</td>\n      <td>Electrical</td>\n      <td>0.0</td>\n    </tr>\n  </tbody>\n</table>\n<p>20 rows × 21 columns</p>\n</div>"
     },
     "execution_count": 3,
     "metadata": {},
     "output_type": "execute_result"
    }
   ],
   "source": [
    "session.load()\n",
    "session.results"
   ],
   "metadata": {
    "collapsed": false,
    "ExecuteTime": {
     "end_time": "2024-06-09T14:41:04.405272700Z",
     "start_time": "2024-06-09T14:40:28.283842500Z"
    }
   },
   "id": "8918042b48f746cd"
  },
  {
   "cell_type": "code",
   "execution_count": null,
   "outputs": [],
   "source": [
    "driver_number = session.drivers\n",
    "print(driver_number)"
   ],
   "metadata": {
    "collapsed": false
   },
   "id": "d3d2d06e2917b30a"
  },
  {
   "cell_type": "code",
   "execution_count": null,
   "outputs": [],
   "source": [
    "# Issued by race control officials during the event.\n",
    "session.race_control_messages"
   ],
   "metadata": {
    "collapsed": false
   },
   "id": "1d01d5e2bec3a697"
  },
  {
   "cell_type": "code",
   "execution_count": null,
   "outputs": [],
   "source": [
    "session.weather_data"
   ],
   "metadata": {
    "collapsed": false
   },
   "id": "7f0de3fef631f462"
  },
  {
   "cell_type": "markdown",
   "source": [
    "## CAR DATA (TELEMETRY)\n",
    "\t\n",
    "Dictionary of car telemetry (Speed, RPM, etc.) as received from the api by car number (where car number is a string and the telemetry is an instance of Telemetry)\n",
    "\n",
    "Car data Refers to telemetry data collected directly from the car's sensors and systems. Essential for analyzing the performance and behavior of the car itself.\n",
    "\n",
    "* RPM: Revolutions Per Minute, the engine speed of the car's motor.\n",
    "* Speed: Refers to the velocity of the car(km/h).\n",
    "* nGear: Gear number the car is currently in.\n",
    "* Throttle: The percentage of throttle pedal pressure applied by the driver, typically ranging from 0% (no throttle) to 100% (full throttle).\n",
    "* Brake: Indicates whether the brakes are being applied (True) or not (False).\n",
    "* DRS: Drag Reduction System, an aerodynamic device that reduces drag and increases speed on straights. It indicates whether the DRS is activated or not.\n",
    "* Source: How the telemetry data was generated or obtained, such as directly from the car's sensors (car), positional data (pos), or through interpolation (interpolated)."
   ],
   "metadata": {
    "collapsed": false
   },
   "id": "f6d2cfd514d9262f"
  },
  {
   "cell_type": "code",
   "execution_count": null,
   "outputs": [],
   "source": [
    "session.car_data"
   ],
   "metadata": {
    "collapsed": false
   },
   "id": "fa2b5142f621a17f"
  },
  {
   "cell_type": "markdown",
   "source": [
    "## POS DATA (TELEMETRY)\n",
    "\n",
    "Dictionary of car position data as received from the api by car number (where car number is a string and the telemetry is an instance of Telemetry)\n",
    "\n",
    "Data (car's coordinates (X, Y, Z) on the track, status (on-track or off-track) etc) related to the position and status of the car on the track. Crucial for tracking the car's movement on the circuit, understanding its trajectory, adherence to the racing line, and monitoring any deviations from the track boundaries.\n",
    "\n",
    "* Status: Status of the car's position, on track (OnTrack) or off track (OffTrack).\n",
    "\n",
    "* X: The horizontal position of the car on the track, often measured in tenths of a meter.\n",
    "\n",
    "* Y: The lateral position of the car on the track, typically measured in tenths of a meter.\n",
    "\n",
    "* Z: The vertical position of the car relative to the track surface, usually measured in tenths of a meter.\n",
    "\n",
    "* Source: Specifies how the positional data was obtained or generated, such as directly from the car's sensors or through interpolation."
   ],
   "metadata": {
    "collapsed": false
   },
   "id": "f92e2eb258617079"
  },
  {
   "cell_type": "code",
   "execution_count": null,
   "outputs": [],
   "source": [
    "session.pos_data"
   ],
   "metadata": {
    "collapsed": false
   },
   "id": "856a63f18f21d75c"
  },
  {
   "cell_type": "markdown",
   "source": [
    "# LAP"
   ],
   "metadata": {
    "collapsed": false
   },
   "id": "8d4fbc922143c37d"
  },
  {
   "cell_type": "code",
   "execution_count": 4,
   "outputs": [],
   "source": [
    "laps = session.laps"
   ],
   "metadata": {
    "collapsed": false,
    "ExecuteTime": {
     "end_time": "2024-06-09T14:41:04.407260700Z",
     "start_time": "2024-06-09T14:41:04.396292100Z"
    }
   },
   "id": "da001c0d4412f3f1"
  },
  {
   "cell_type": "markdown",
   "source": [
    "## TELEMETRY DATA\n",
    "Telemetry data for all laps in self\n",
    "\n",
    "Telemetry data is the result of merging the returned data from get_car_data() and get_pos_data(). This means that telemetry data at least partially contains interpolated values! Telemetry data additionally already has computed channels added (e.g. Distance).\n",
    "\n",
    "This method is provided for convenience and compatibility reasons. But using it does usually not produce the most accurate possible result. It is recommended to use get_car_data() or get_pos_data() when possible. \n",
    "\n",
    "\n",
    "**Telemetry can only be returned if self contains laps of one driver only.**"
   ],
   "metadata": {
    "collapsed": false
   },
   "id": "6c43a1f0ecba41c9"
  },
  {
   "cell_type": "code",
   "execution_count": 5,
   "outputs": [
    {
     "name": "stdout",
     "output_type": "stream",
     "text": [
      "Index(['Date', 'SessionTime', 'DriverAhead', 'DistanceToDriverAhead', 'Time',\n",
      "       'RPM', 'Speed', 'nGear', 'Throttle', 'Brake', 'DRS', 'Source',\n",
      "       'Distance', 'RelativeDistance', 'Status', 'X', 'Y', 'Z'],\n",
      "      dtype='object')\n"
     ]
    },
    {
     "data": {
      "text/plain": "                         Date            SessionTime DriverAhead  \\\n2     2023-03-05 15:03:38.501 0 days 01:02:36.652000               \n3     2023-03-05 15:03:38.611 0 days 01:02:36.762000               \n4     2023-03-05 15:03:38.686 0 days 01:02:36.837000               \n5     2023-03-05 15:03:38.811 0 days 01:02:36.962000               \n6     2023-03-05 15:03:38.946 0 days 01:02:37.097000               \n...                       ...                    ...         ...   \n42768 2023-03-05 16:38:25.845 0 days 02:37:23.996000               \n42769 2023-03-05 16:38:25.948 0 days 02:37:24.099000               \n42770 2023-03-05 16:38:26.045 0 days 02:37:24.196000               \n42771 2023-03-05 16:38:26.389 0 days 02:37:24.540000               \n42772 2023-03-05 16:38:26.504 0 days 02:37:24.655000               \n\n       DistanceToDriverAhead                   Time    RPM  Speed  nGear  \\\n2                   0.077778        0 days 00:00:00   8870      0      1   \n3                   0.077778 0 days 00:00:00.110000   8860      0      1   \n4                   0.077778 0 days 00:00:00.185000   8690      0      1   \n5                   0.077778 0 days 00:00:00.310000   8521      0      1   \n6                   0.077778 0 days 00:00:00.445000   7907      2      1   \n...                      ...                    ...    ...    ...    ...   \n42768             523.856944 0 days 01:34:47.344000  10933    281      7   \n42769             523.856944 0 days 01:34:47.447000  10540    282      7   \n42770             523.856944 0 days 01:34:47.544000  10576    284      7   \n42771             523.856944 0 days 01:34:47.888000  10613    286      8   \n42772             523.856944 0 days 01:34:48.003000  10619    286      8   \n\n       Throttle  Brake  DRS         Source       Distance  RelativeDistance  \\\n2            20  False    1  interpolation       0.010890      3.566374e-08   \n3            20  False    1            car       0.000000      0.000000e+00   \n4            20  False    1            pos      -0.017225     -5.640883e-08   \n5            20  False    1            car       0.000000      0.000000e+00   \n6            20  False    1            pos       0.213883      7.004343e-07   \n...         ...    ...  ...            ...            ...               ...   \n42768       100  False    0            pos  305291.563648      9.997854e-01   \n42769       100  False    0            car  305299.657222      9.998119e-01   \n42770       100  False    0            pos  305307.315216      9.998370e-01   \n42771       100  False    0            car  305334.692222      9.999266e-01   \n42772        97  False    0  interpolation  305343.881308      9.999567e-01   \n\n        Status           X            Y      Z  \n2      OnTrack -299.918107  3101.065440 -159.0  \n3      OnTrack -299.915026  3101.067904 -159.0  \n4      OnTrack -300.000000  3101.000000 -159.0  \n5      OnTrack -300.294728  3100.764477 -159.0  \n6      OnTrack -300.000000  3101.000000 -159.0  \n...        ...         ...          ...    ...  \n42768  OnTrack -406.000000   753.000000 -159.0  \n42769  OnTrack -399.866783   875.361593 -159.0  \n42770  OnTrack -394.000000   993.000000 -159.0  \n42771  OnTrack -379.601545  1282.968957 -159.0  \n42772  OnTrack -377.017586  1335.638953 -159.0  \n\n[42771 rows x 18 columns]",
      "text/html": "<div>\n<style scoped>\n    .dataframe tbody tr th:only-of-type {\n        vertical-align: middle;\n    }\n\n    .dataframe tbody tr th {\n        vertical-align: top;\n    }\n\n    .dataframe thead th {\n        text-align: right;\n    }\n</style>\n<table border=\"1\" class=\"dataframe\">\n  <thead>\n    <tr style=\"text-align: right;\">\n      <th></th>\n      <th>Date</th>\n      <th>SessionTime</th>\n      <th>DriverAhead</th>\n      <th>DistanceToDriverAhead</th>\n      <th>Time</th>\n      <th>RPM</th>\n      <th>Speed</th>\n      <th>nGear</th>\n      <th>Throttle</th>\n      <th>Brake</th>\n      <th>DRS</th>\n      <th>Source</th>\n      <th>Distance</th>\n      <th>RelativeDistance</th>\n      <th>Status</th>\n      <th>X</th>\n      <th>Y</th>\n      <th>Z</th>\n    </tr>\n  </thead>\n  <tbody>\n    <tr>\n      <th>2</th>\n      <td>2023-03-05 15:03:38.501</td>\n      <td>0 days 01:02:36.652000</td>\n      <td></td>\n      <td>0.077778</td>\n      <td>0 days 00:00:00</td>\n      <td>8870</td>\n      <td>0</td>\n      <td>1</td>\n      <td>20</td>\n      <td>False</td>\n      <td>1</td>\n      <td>interpolation</td>\n      <td>0.010890</td>\n      <td>3.566374e-08</td>\n      <td>OnTrack</td>\n      <td>-299.918107</td>\n      <td>3101.065440</td>\n      <td>-159.0</td>\n    </tr>\n    <tr>\n      <th>3</th>\n      <td>2023-03-05 15:03:38.611</td>\n      <td>0 days 01:02:36.762000</td>\n      <td></td>\n      <td>0.077778</td>\n      <td>0 days 00:00:00.110000</td>\n      <td>8860</td>\n      <td>0</td>\n      <td>1</td>\n      <td>20</td>\n      <td>False</td>\n      <td>1</td>\n      <td>car</td>\n      <td>0.000000</td>\n      <td>0.000000e+00</td>\n      <td>OnTrack</td>\n      <td>-299.915026</td>\n      <td>3101.067904</td>\n      <td>-159.0</td>\n    </tr>\n    <tr>\n      <th>4</th>\n      <td>2023-03-05 15:03:38.686</td>\n      <td>0 days 01:02:36.837000</td>\n      <td></td>\n      <td>0.077778</td>\n      <td>0 days 00:00:00.185000</td>\n      <td>8690</td>\n      <td>0</td>\n      <td>1</td>\n      <td>20</td>\n      <td>False</td>\n      <td>1</td>\n      <td>pos</td>\n      <td>-0.017225</td>\n      <td>-5.640883e-08</td>\n      <td>OnTrack</td>\n      <td>-300.000000</td>\n      <td>3101.000000</td>\n      <td>-159.0</td>\n    </tr>\n    <tr>\n      <th>5</th>\n      <td>2023-03-05 15:03:38.811</td>\n      <td>0 days 01:02:36.962000</td>\n      <td></td>\n      <td>0.077778</td>\n      <td>0 days 00:00:00.310000</td>\n      <td>8521</td>\n      <td>0</td>\n      <td>1</td>\n      <td>20</td>\n      <td>False</td>\n      <td>1</td>\n      <td>car</td>\n      <td>0.000000</td>\n      <td>0.000000e+00</td>\n      <td>OnTrack</td>\n      <td>-300.294728</td>\n      <td>3100.764477</td>\n      <td>-159.0</td>\n    </tr>\n    <tr>\n      <th>6</th>\n      <td>2023-03-05 15:03:38.946</td>\n      <td>0 days 01:02:37.097000</td>\n      <td></td>\n      <td>0.077778</td>\n      <td>0 days 00:00:00.445000</td>\n      <td>7907</td>\n      <td>2</td>\n      <td>1</td>\n      <td>20</td>\n      <td>False</td>\n      <td>1</td>\n      <td>pos</td>\n      <td>0.213883</td>\n      <td>7.004343e-07</td>\n      <td>OnTrack</td>\n      <td>-300.000000</td>\n      <td>3101.000000</td>\n      <td>-159.0</td>\n    </tr>\n    <tr>\n      <th>...</th>\n      <td>...</td>\n      <td>...</td>\n      <td>...</td>\n      <td>...</td>\n      <td>...</td>\n      <td>...</td>\n      <td>...</td>\n      <td>...</td>\n      <td>...</td>\n      <td>...</td>\n      <td>...</td>\n      <td>...</td>\n      <td>...</td>\n      <td>...</td>\n      <td>...</td>\n      <td>...</td>\n      <td>...</td>\n      <td>...</td>\n    </tr>\n    <tr>\n      <th>42768</th>\n      <td>2023-03-05 16:38:25.845</td>\n      <td>0 days 02:37:23.996000</td>\n      <td></td>\n      <td>523.856944</td>\n      <td>0 days 01:34:47.344000</td>\n      <td>10933</td>\n      <td>281</td>\n      <td>7</td>\n      <td>100</td>\n      <td>False</td>\n      <td>0</td>\n      <td>pos</td>\n      <td>305291.563648</td>\n      <td>9.997854e-01</td>\n      <td>OnTrack</td>\n      <td>-406.000000</td>\n      <td>753.000000</td>\n      <td>-159.0</td>\n    </tr>\n    <tr>\n      <th>42769</th>\n      <td>2023-03-05 16:38:25.948</td>\n      <td>0 days 02:37:24.099000</td>\n      <td></td>\n      <td>523.856944</td>\n      <td>0 days 01:34:47.447000</td>\n      <td>10540</td>\n      <td>282</td>\n      <td>7</td>\n      <td>100</td>\n      <td>False</td>\n      <td>0</td>\n      <td>car</td>\n      <td>305299.657222</td>\n      <td>9.998119e-01</td>\n      <td>OnTrack</td>\n      <td>-399.866783</td>\n      <td>875.361593</td>\n      <td>-159.0</td>\n    </tr>\n    <tr>\n      <th>42770</th>\n      <td>2023-03-05 16:38:26.045</td>\n      <td>0 days 02:37:24.196000</td>\n      <td></td>\n      <td>523.856944</td>\n      <td>0 days 01:34:47.544000</td>\n      <td>10576</td>\n      <td>284</td>\n      <td>7</td>\n      <td>100</td>\n      <td>False</td>\n      <td>0</td>\n      <td>pos</td>\n      <td>305307.315216</td>\n      <td>9.998370e-01</td>\n      <td>OnTrack</td>\n      <td>-394.000000</td>\n      <td>993.000000</td>\n      <td>-159.0</td>\n    </tr>\n    <tr>\n      <th>42771</th>\n      <td>2023-03-05 16:38:26.389</td>\n      <td>0 days 02:37:24.540000</td>\n      <td></td>\n      <td>523.856944</td>\n      <td>0 days 01:34:47.888000</td>\n      <td>10613</td>\n      <td>286</td>\n      <td>8</td>\n      <td>100</td>\n      <td>False</td>\n      <td>0</td>\n      <td>car</td>\n      <td>305334.692222</td>\n      <td>9.999266e-01</td>\n      <td>OnTrack</td>\n      <td>-379.601545</td>\n      <td>1282.968957</td>\n      <td>-159.0</td>\n    </tr>\n    <tr>\n      <th>42772</th>\n      <td>2023-03-05 16:38:26.504</td>\n      <td>0 days 02:37:24.655000</td>\n      <td></td>\n      <td>523.856944</td>\n      <td>0 days 01:34:48.003000</td>\n      <td>10619</td>\n      <td>286</td>\n      <td>8</td>\n      <td>97</td>\n      <td>False</td>\n      <td>0</td>\n      <td>interpolation</td>\n      <td>305343.881308</td>\n      <td>9.999567e-01</td>\n      <td>OnTrack</td>\n      <td>-377.017586</td>\n      <td>1335.638953</td>\n      <td>-159.0</td>\n    </tr>\n  </tbody>\n</table>\n<p>42771 rows × 18 columns</p>\n</div>"
     },
     "execution_count": 5,
     "metadata": {},
     "output_type": "execute_result"
    }
   ],
   "source": [
    "laps_driver_44 = laps.pick_driver('44')  # Hamilton\n",
    "telemetry_driver_44 = laps_driver_44.get_telemetry()\n",
    "print(telemetry_driver_44.columns)\n",
    "telemetry_driver_44"
   ],
   "metadata": {
    "collapsed": false,
    "ExecuteTime": {
     "end_time": "2024-06-09T14:41:07.613410400Z",
     "start_time": "2024-06-09T14:41:04.401278900Z"
    }
   },
   "id": "1fdb41d7a688f721"
  },
  {
   "cell_type": "markdown",
   "source": [
    "## CAR DATA\n",
    "Car data for all laps in self\n",
    "\n",
    "Slices the car data in Session.car_data using this set of laps and returns the result.\n",
    "\n",
    "The data returned by this method does not contain computed telemetry channels. The can be added by calling the appropriate add_*() method on the returned telemetry object.."
   ],
   "metadata": {
    "collapsed": false
   },
   "id": "e6868b5759b2a91b"
  },
  {
   "cell_type": "code",
   "execution_count": 6,
   "outputs": [
    {
     "name": "stdout",
     "output_type": "stream",
     "text": [
      "Index(['Date', 'RPM', 'Speed', 'nGear', 'Throttle', 'Brake', 'DRS', 'Source',\n",
      "       'Time', 'SessionTime'],\n",
      "      dtype='object')\n"
     ]
    },
    {
     "data": {
      "text/plain": "                         Date    RPM  Speed  nGear  Throttle  Brake  DRS  \\\n0     2023-03-05 15:03:38.611   8860      0      1        20  False    1   \n1     2023-03-05 15:03:38.811   8521      0      1        20  False    1   \n2     2023-03-05 15:03:39.091   6680      8      1        20  False    1   \n3     2023-03-05 15:03:39.451   4846     16      1        20  False    1   \n4     2023-03-05 15:03:39.691   4955     24      1        20  False    1   \n...                       ...    ...    ...    ...       ...    ...  ...   \n21156 2023-03-05 16:38:25.188  11464    275      7       100  False    0   \n21157 2023-03-05 16:38:25.388  11435    277      7       100  False    0   \n21158 2023-03-05 16:38:25.668  11326    280      7       100  False    0   \n21159 2023-03-05 16:38:25.948  10540    282      7       100  False    0   \n21160 2023-03-05 16:38:26.389  10613    286      8       100  False    0   \n\n      Source                   Time            SessionTime  \n0        car 0 days 00:00:00.110000 0 days 01:02:36.762000  \n1        car 0 days 00:00:00.310000 0 days 01:02:36.962000  \n2        car 0 days 00:00:00.590000 0 days 01:02:37.242000  \n3        car 0 days 00:00:00.950000 0 days 01:02:37.602000  \n4        car 0 days 00:00:01.190000 0 days 01:02:37.842000  \n...      ...                    ...                    ...  \n21156    car 0 days 01:34:46.687000 0 days 02:37:23.339000  \n21157    car 0 days 01:34:46.887000 0 days 02:37:23.539000  \n21158    car 0 days 01:34:47.167000 0 days 02:37:23.819000  \n21159    car 0 days 01:34:47.447000 0 days 02:37:24.099000  \n21160    car 0 days 01:34:47.888000 0 days 02:37:24.540000  \n\n[21161 rows x 10 columns]",
      "text/html": "<div>\n<style scoped>\n    .dataframe tbody tr th:only-of-type {\n        vertical-align: middle;\n    }\n\n    .dataframe tbody tr th {\n        vertical-align: top;\n    }\n\n    .dataframe thead th {\n        text-align: right;\n    }\n</style>\n<table border=\"1\" class=\"dataframe\">\n  <thead>\n    <tr style=\"text-align: right;\">\n      <th></th>\n      <th>Date</th>\n      <th>RPM</th>\n      <th>Speed</th>\n      <th>nGear</th>\n      <th>Throttle</th>\n      <th>Brake</th>\n      <th>DRS</th>\n      <th>Source</th>\n      <th>Time</th>\n      <th>SessionTime</th>\n    </tr>\n  </thead>\n  <tbody>\n    <tr>\n      <th>0</th>\n      <td>2023-03-05 15:03:38.611</td>\n      <td>8860</td>\n      <td>0</td>\n      <td>1</td>\n      <td>20</td>\n      <td>False</td>\n      <td>1</td>\n      <td>car</td>\n      <td>0 days 00:00:00.110000</td>\n      <td>0 days 01:02:36.762000</td>\n    </tr>\n    <tr>\n      <th>1</th>\n      <td>2023-03-05 15:03:38.811</td>\n      <td>8521</td>\n      <td>0</td>\n      <td>1</td>\n      <td>20</td>\n      <td>False</td>\n      <td>1</td>\n      <td>car</td>\n      <td>0 days 00:00:00.310000</td>\n      <td>0 days 01:02:36.962000</td>\n    </tr>\n    <tr>\n      <th>2</th>\n      <td>2023-03-05 15:03:39.091</td>\n      <td>6680</td>\n      <td>8</td>\n      <td>1</td>\n      <td>20</td>\n      <td>False</td>\n      <td>1</td>\n      <td>car</td>\n      <td>0 days 00:00:00.590000</td>\n      <td>0 days 01:02:37.242000</td>\n    </tr>\n    <tr>\n      <th>3</th>\n      <td>2023-03-05 15:03:39.451</td>\n      <td>4846</td>\n      <td>16</td>\n      <td>1</td>\n      <td>20</td>\n      <td>False</td>\n      <td>1</td>\n      <td>car</td>\n      <td>0 days 00:00:00.950000</td>\n      <td>0 days 01:02:37.602000</td>\n    </tr>\n    <tr>\n      <th>4</th>\n      <td>2023-03-05 15:03:39.691</td>\n      <td>4955</td>\n      <td>24</td>\n      <td>1</td>\n      <td>20</td>\n      <td>False</td>\n      <td>1</td>\n      <td>car</td>\n      <td>0 days 00:00:01.190000</td>\n      <td>0 days 01:02:37.842000</td>\n    </tr>\n    <tr>\n      <th>...</th>\n      <td>...</td>\n      <td>...</td>\n      <td>...</td>\n      <td>...</td>\n      <td>...</td>\n      <td>...</td>\n      <td>...</td>\n      <td>...</td>\n      <td>...</td>\n      <td>...</td>\n    </tr>\n    <tr>\n      <th>21156</th>\n      <td>2023-03-05 16:38:25.188</td>\n      <td>11464</td>\n      <td>275</td>\n      <td>7</td>\n      <td>100</td>\n      <td>False</td>\n      <td>0</td>\n      <td>car</td>\n      <td>0 days 01:34:46.687000</td>\n      <td>0 days 02:37:23.339000</td>\n    </tr>\n    <tr>\n      <th>21157</th>\n      <td>2023-03-05 16:38:25.388</td>\n      <td>11435</td>\n      <td>277</td>\n      <td>7</td>\n      <td>100</td>\n      <td>False</td>\n      <td>0</td>\n      <td>car</td>\n      <td>0 days 01:34:46.887000</td>\n      <td>0 days 02:37:23.539000</td>\n    </tr>\n    <tr>\n      <th>21158</th>\n      <td>2023-03-05 16:38:25.668</td>\n      <td>11326</td>\n      <td>280</td>\n      <td>7</td>\n      <td>100</td>\n      <td>False</td>\n      <td>0</td>\n      <td>car</td>\n      <td>0 days 01:34:47.167000</td>\n      <td>0 days 02:37:23.819000</td>\n    </tr>\n    <tr>\n      <th>21159</th>\n      <td>2023-03-05 16:38:25.948</td>\n      <td>10540</td>\n      <td>282</td>\n      <td>7</td>\n      <td>100</td>\n      <td>False</td>\n      <td>0</td>\n      <td>car</td>\n      <td>0 days 01:34:47.447000</td>\n      <td>0 days 02:37:24.099000</td>\n    </tr>\n    <tr>\n      <th>21160</th>\n      <td>2023-03-05 16:38:26.389</td>\n      <td>10613</td>\n      <td>286</td>\n      <td>8</td>\n      <td>100</td>\n      <td>False</td>\n      <td>0</td>\n      <td>car</td>\n      <td>0 days 01:34:47.888000</td>\n      <td>0 days 02:37:24.540000</td>\n    </tr>\n  </tbody>\n</table>\n<p>21161 rows × 10 columns</p>\n</div>"
     },
     "execution_count": 6,
     "metadata": {},
     "output_type": "execute_result"
    }
   ],
   "source": [
    "car_driver_44 = laps_driver_44.get_car_data()\n",
    "print(car_driver_44.columns)\n",
    "car_driver_44"
   ],
   "metadata": {
    "collapsed": false,
    "ExecuteTime": {
     "end_time": "2024-06-09T14:41:07.635493300Z",
     "start_time": "2024-06-09T14:41:07.603516Z"
    }
   },
   "id": "ad1c8d93ec4f2c17"
  },
  {
   "cell_type": "markdown",
   "source": [
    "# POS DATA\n",
    "Pos data for all laps in self"
   ],
   "metadata": {
    "collapsed": false
   },
   "id": "6614f823b7c687d5"
  },
  {
   "cell_type": "code",
   "execution_count": null,
   "outputs": [],
   "source": [
    "pos_driver_44 = laps_driver_44.get_pos_data()\n",
    "print(pos_driver_44.columns)\n",
    "pos_driver_44"
   ],
   "metadata": {
    "collapsed": false
   },
   "id": "9fb2814b10c47fd7"
  }
 ],
 "metadata": {
  "kernelspec": {
   "display_name": "Python 3",
   "language": "python",
   "name": "python3"
  },
  "language_info": {
   "codemirror_mode": {
    "name": "ipython",
    "version": 2
   },
   "file_extension": ".py",
   "mimetype": "text/x-python",
   "name": "python",
   "nbconvert_exporter": "python",
   "pygments_lexer": "ipython2",
   "version": "2.7.6"
  }
 },
 "nbformat": 4,
 "nbformat_minor": 5
}
