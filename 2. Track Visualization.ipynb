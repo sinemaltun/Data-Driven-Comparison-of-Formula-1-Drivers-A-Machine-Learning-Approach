{
 "cells": [
  {
   "cell_type": "markdown",
   "source": [
    "# TRACK VISUALIZATION"
   ],
   "metadata": {
    "collapsed": false
   },
   "id": "156218e0372e050b"
  },
  {
   "cell_type": "code",
   "execution_count": null,
   "outputs": [],
   "source": [
    "import fastf1\n",
    "import random\n",
    "import matplotlib as mpl\n",
    "import numpy as np\n",
    "from matplotlib import pyplot as plt\n",
    "import plotly.graph_objects as go\n",
    "from matplotlib.collections import LineCollection\n",
    "from fastf1.core import Telemetry\n",
    "import mplcursors\n",
    "\n",
    "import logging\n",
    "\n",
    "# Get the FastF1 logger and set its level to ERROR\n",
    "fastf1_logger = logging.getLogger('fastf1')\n",
    "fastf1_logger.setLevel(logging.ERROR)\n"
   ],
   "metadata": {
    "collapsed": false,
    "is_executing": true
   },
   "id": "2dc0fa625ea57117"
  },
  {
   "cell_type": "code",
   "execution_count": null,
   "outputs": [],
   "source": [
    "session = fastf1.get_session(2023, 'Bahrain','Race') # First race of the 2023 season\n",
    "session.load()"
   ],
   "metadata": {
    "collapsed": false
   },
   "id": "205801ef3b23045b"
  },
  {
   "cell_type": "code",
   "execution_count": null,
   "outputs": [],
   "source": [
    "session.event"
   ],
   "metadata": {
    "collapsed": false
   },
   "id": "e0f1fcdf21beb4be"
  },
  {
   "cell_type": "code",
   "execution_count": null,
   "outputs": [],
   "source": [
    "session.laps"
   ],
   "metadata": {
    "collapsed": false
   },
   "id": "7c549fbe5e5453ae"
  },
  {
   "cell_type": "code",
   "execution_count": null,
   "outputs": [],
   "source": [
    "for driver in session.drivers:\n",
    "    broadcast_name = session.get_driver(driver)['BroadcastName']\n",
    "    team_name = session.get_driver(driver)['TeamName']\n",
    "    print(f\"{driver:<10} : {broadcast_name:<20} : {team_name}\")"
   ],
   "metadata": {
    "collapsed": false
   },
   "id": "b31cd66b12cbd098"
  },
  {
   "cell_type": "markdown",
   "source": [
    "### Telemetry car data for M Verstappen\n",
    "* RPM: Revolutions Per Minute, the engine speed of the car's motor.\n",
    "* Speed: Refers to the velocity of the car(km/h).\n",
    "* nGear: Gear number the car is currently in.\n",
    "* Throttle: The percentage of throttle pedal pressure applied by the driver, typically ranging from 0% (no throttle) to 100% (full throttle).\n",
    "* Brake: Indicates whether the brakes are being applied (True) or not (False).\n",
    "* DRS: Drag Reduction System, an aerodynamic device that reduces drag and increases speed on straights. It indicates whether the DRS is activated or not.\n",
    "* Source: How the telemetry data was generated or obtained, such as directly from the car's sensors (car), positional data (pos), or through interpolation (interpolated)."
   ],
   "metadata": {
    "collapsed": false
   },
   "id": "7d1405d9704ed3b0"
  },
  {
   "cell_type": "code",
   "execution_count": null,
   "outputs": [],
   "source": [
    "driver_no = '1'\n",
    "car_1 = session.car_data[driver_no]\n",
    "car_1"
   ],
   "metadata": {
    "collapsed": false
   },
   "id": "c4a8b0d8efaf375d"
  },
  {
   "cell_type": "code",
   "execution_count": null,
   "outputs": [],
   "source": [
    "car_1.columns"
   ],
   "metadata": {
    "collapsed": false
   },
   "id": "e6fcea95f90ce41b"
  },
  {
   "cell_type": "markdown",
   "source": [
    "### Telemetry position data for M Verstappen\n",
    "* Status: Status of the car's position, on track (OnTrack) or off track (OffTrack).\n",
    "* X: The horizontal position of the car on the track, often measured in tenths of a meter.\n",
    "* Y: The lateral position of the car on the track, typically measured in tenths of a meter.\n",
    "* Z: The vertical position of the car relative to the track surface, usually measured in tenths of a meter.\n",
    "* Source: Specifies how the positional data was obtained or generated, such as directly from the car's sensors or through interpolation."
   ],
   "metadata": {
    "collapsed": false
   },
   "id": "f1b0955786ebf4e2"
  },
  {
   "cell_type": "code",
   "execution_count": null,
   "outputs": [],
   "source": [
    "pos_1 = session.pos_data[driver_no]\n",
    "pos_1"
   ],
   "metadata": {
    "collapsed": false
   },
   "id": "f12f4d6909317d46"
  },
  {
   "cell_type": "code",
   "execution_count": null,
   "outputs": [],
   "source": [
    "laps_1 = session.laps.pick_driver(driver_no)\n",
    "print(laps_1.columns)\n",
    "laps_1"
   ],
   "metadata": {
    "collapsed": false
   },
   "id": "cb17093b2144ca6b"
  },
  {
   "cell_type": "code",
   "execution_count": null,
   "outputs": [],
   "source": [
    "fastest_lap_1 = session.laps.pick_driver(driver_no).pick_fastest()\n",
    "print(\"Fastest Lap Number:\", fastest_lap_1.LapNumber)\n",
    "fastest_lap_1 "
   ],
   "metadata": {
    "collapsed": false
   },
   "id": "95ac88f38a61c038"
  },
  {
   "cell_type": "markdown",
   "source": [
    "We can get telemetry data for the fastest lap"
   ],
   "metadata": {
    "collapsed": false
   },
   "id": "f1f83f1db44a5901"
  },
  {
   "cell_type": "code",
   "execution_count": null,
   "outputs": [],
   "source": [
    "fast_tel_1 = fastest_lap_1.get_telemetry()\n",
    "fast_tel_1"
   ],
   "metadata": {
    "collapsed": false
   },
   "id": "f84d35b01bf8214e"
  },
  {
   "cell_type": "markdown",
   "source": [
    "Telemetry data of a driver for ALL laps (not just the fastest.)\n",
    "In our case, this makes the most sense, as we will want to see the telemetry data from the timestamp which a radio conversation occurs! "
   ],
   "metadata": {
    "collapsed": false
   },
   "id": "c4008c9ae2e2c7d8"
  },
  {
   "cell_type": "code",
   "execution_count": null,
   "outputs": [],
   "source": [
    "all_laps_1 = session.laps.pick_driver(driver_no) #STARTING POINT OF LAP DATA\n",
    "tel_all_laps_1 = all_laps_1.get_telemetry()\n",
    "print(tel_all_laps_1.columns)\n",
    "tel_all_laps_1"
   ],
   "metadata": {
    "collapsed": false
   },
   "id": "e4a7b82269b8aa13"
  },
  {
   "cell_type": "markdown",
   "source": [
    "For now, let's act as if we have a list of timestamps from audio data, later on in the project we actually will have those timestamps, but now lets just check to see if we can mark the position of the car in the track according to the  timestamp."
   ],
   "metadata": {
    "collapsed": false
   },
   "id": "1ee21932e13168f7"
  },
  {
   "cell_type": "markdown",
   "source": [
    "In the audio data, the time stamp is given as\n",
    "\"Utc\":\"2023-04-02T05:11:40.709Z\"\n",
    "Meaning it is 2023-04-02 05:11:40.709\n",
    "\n",
    "In the lap info we have from Fast F1- the equivalent version is **Date**\n",
    "2023-03-05 14:01:02.640\n",
    "\n",
    "So it would be wise to use this timestamp."
   ],
   "metadata": {
    "collapsed": false
   },
   "id": "39e84bd012c598cb"
  },
  {
   "cell_type": "code",
   "execution_count": null,
   "outputs": [],
   "source": [
    "#random.sample(list(tel_all_laps_1.Date),k=10)\n",
    "rnd_timestamps = [timestamp.strftime('%Y-%m-%d %H:%M:%S.%f') for timestamp in random.sample(list(tel_all_laps_1.Date),k=30)]\n",
    "rnd_timestamps"
   ],
   "metadata": {
    "collapsed": false
   },
   "id": "afd9288111fced"
  },
  {
   "cell_type": "code",
   "execution_count": null,
   "outputs": [],
   "source": [
    "tel_some_laps_1 = tel_all_laps_1[tel_all_laps_1['Date'].isin(rnd_timestamps)]\n",
    "tel_some_laps_1"
   ],
   "metadata": {
    "collapsed": false
   },
   "id": "8e8f52f51a3afb00"
  },
  {
   "cell_type": "markdown",
   "source": [
    "Let's plot the track"
   ],
   "metadata": {
    "collapsed": false
   },
   "id": "8af9c3b6cdbeb8b2"
  },
  {
   "cell_type": "code",
   "execution_count": null,
   "outputs": [],
   "source": [
    "colormap = mpl.cm.plasma"
   ],
   "metadata": {
    "collapsed": false
   },
   "id": "f257ecedd37844ff"
  },
  {
   "cell_type": "code",
   "execution_count": null,
   "outputs": [],
   "source": [
    "x = tel_all_laps_1['X']              # values for x-axis\n",
    "y = tel_all_laps_1['Y']              # values for y-axis\n",
    "color = tel_all_laps_1['RPM']      # value to base color gradient on"
   ],
   "metadata": {
    "collapsed": false
   },
   "id": "da64fb288728fa39"
  },
  {
   "cell_type": "code",
   "execution_count": null,
   "outputs": [],
   "source": [
    "points = np.array([x, y]).T.reshape(-1, 1, 2)\n",
    "segments = np.concatenate([points[:-1], points[1:]], axis=1)"
   ],
   "metadata": {
    "collapsed": false
   },
   "id": "117902aaaf9c6f58"
  },
  {
   "cell_type": "code",
   "execution_count": null,
   "outputs": [],
   "source": [
    "fig, ax = plt.subplots(sharex=True, sharey=True, figsize=(12, 6.75))\n",
    "\n",
    "plt.subplots_adjust(left=0.1, right=0.9, top=0.9, bottom=0.12)\n",
    "ax.axis('off')\n",
    "ax.plot(tel_all_laps_1['X'], tel_all_laps_1['Y'], color='black', linestyle='-', linewidth=16, zorder=0)\n",
    "\n",
    "# Map from data points to colors\n",
    "norm = plt.Normalize(color.min(), color.max())\n",
    "lc = LineCollection(segments, cmap=colormap, norm=norm, linestyle='-', linewidth=5)\n",
    "lc.set_array(color)\n",
    "line = ax.add_collection(lc)\n",
    "\n",
    "# Mark points from tel_some_laps_1['Date']\n",
    "for timestamp in tel_some_laps_1['Date']:\n",
    "    # Find the index of the timestamp in tel_all_laps_1\n",
    "    index = np.where(tel_all_laps_1['Date'] == timestamp)[0]\n",
    "    if len(index) > 0:\n",
    "        # Get the corresponding point on the track\n",
    "        point_x = tel_all_laps_1['X'][index[0]]\n",
    "        point_y = tel_all_laps_1['Y'][index[0]]\n",
    "        ax.plot(point_x, point_y, marker='o', markersize=8, color='red')"
   ],
   "metadata": {
    "collapsed": false
   },
   "id": "4a41951df1807240"
  },
  {
   "cell_type": "code",
   "execution_count": null,
   "outputs": [],
   "source": [
    "fig, ax = plt.subplots(sharex=True, sharey=True, figsize=(12, 6.75))\n",
    "\n",
    "plt.subplots_adjust(left=0.1, right=0.9, top=0.9, bottom=0.12)\n",
    "ax.axis('off')\n",
    "ax.plot(tel_all_laps_1['X'], tel_all_laps_1['Y'], color='black', linestyle='-', linewidth=16, zorder=0)\n",
    "\n",
    "norm = plt.Normalize(color.min(), color.max())\n",
    "lc = LineCollection(segments, cmap=colormap, norm=norm, linestyle='-', linewidth=5)\n",
    "lc.set_array(color)\n",
    "line = ax.add_collection(lc)\n",
    "\n",
    "for timestamp in tel_some_laps_1['Date']:\n",
    "    index = np.where(tel_all_laps_1['Date'] == timestamp)[0]\n",
    "    if len(index) > 0:\n",
    "        # Get the corresponding point on the track\n",
    "        point_x = tel_all_laps_1['X'][index[0]]\n",
    "        point_y = tel_all_laps_1['Y'][index[0]]\n",
    "        # Plot the point\n",
    "        ax.plot(point_x, point_y, marker='o', markersize=8, color='red')\n",
    "        # Annotate the timestamp\n",
    "        ax.annotate(timestamp.strftime('%H:%M:%S'), (point_x, point_y),\n",
    "                    textcoords=\"offset points\", xytext=(10,10), ha='center')"
   ],
   "metadata": {
    "collapsed": false
   },
   "id": "1c4a19b669977017"
  },
  {
   "cell_type": "code",
   "execution_count": null,
   "outputs": [],
   "source": [
    "fig = go.Figure()\n",
    "\n",
    "fig.add_trace(go.Scatter(\n",
    "    x=tel_all_laps_1['X'],\n",
    "    y=tel_all_laps_1['Y'],\n",
    "    mode='lines',\n",
    "    line=dict(color='black', width=16),\n",
    "    name='Track',\n",
    "    showlegend=False\n",
    "))\n",
    "\n",
    "for timestamp in tel_some_laps_1['Date']:\n",
    "    index = np.where(tel_all_laps_1['Date'] == timestamp)[0]\n",
    "    if len(index) > 0:\n",
    "        i = index[0]\n",
    "        point_x = tel_all_laps_1['X'][i] #36977 ______ [36977] index[0] vs index\n",
    "        point_y = tel_all_laps_1['Y'][i]\n",
    "        fig.add_trace(go.Scatter(\n",
    "            x=[point_x],\n",
    "            y=[point_y],\n",
    "            mode='markers',\n",
    "            marker=dict(size=8, color='red'),\n",
    "            #text=[timestamp.strftime('%Y-%m-%d %H:%M:%S')],\n",
    "            text = [f\"Time:{timestamp.strftime('%Y-%m-%d %H:%M:%S')}\"\n",
    "                    f\"<br>RPM:{tel_all_laps_1['RPM'][i]}\"\n",
    "                    f\"<br>Brake:{tel_all_laps_1['Brake'][i]}\"\n",
    "                    f\"<br>DRS:{tel_all_laps_1['DRS'][i]}\"\n",
    "                    f\"<br>Throttle:{tel_all_laps_1['Throttle'][i]}\"],\n",
    "            hoverinfo='text',\n",
    "            name=timestamp.strftime('%H:%M:%S')  \n",
    "        ))\n",
    "\n",
    "driver_name = session.laps.loc[session.laps['DriverNumber'] == f'{driver_no}', 'Driver'].iloc[0]\n",
    "\n",
    "fig.update_layout(\n",
    "    title=f\"{session.event.EventName} Laps / Driver:{driver_no}-{driver_name}\",\n",
    "    xaxis=dict(title=\"X\"),\n",
    "    yaxis=dict(title=\"Y\"),\n",
    "    coloraxis_showscale=False\n",
    ")\n",
    "\n",
    "fig.show()\n"
   ],
   "metadata": {
    "collapsed": false
   },
   "id": "97d429efa17a5e51"
  },
  {
   "cell_type": "code",
   "execution_count": null,
   "outputs": [],
   "source": [
    "tel_all_laps_1.columns"
   ],
   "metadata": {
    "collapsed": false
   },
   "id": "5fb298adee1c2d76"
  },
  {
   "cell_type": "code",
   "execution_count": null,
   "outputs": [],
   "source": [
    "# rpm, (yan yana)brake,drs, throttle"
   ],
   "metadata": {
    "collapsed": false
   },
   "id": "7c5291ab07dfb969"
  },
  {
   "cell_type": "code",
   "execution_count": null,
   "outputs": [],
   "source": [
    "timestamp = \"2023-03-05 15:35:51.000\"\n",
    "tel_all_laps_1[tel_all_laps_1['Date'] >  timestamp]"
   ],
   "metadata": {
    "collapsed": false
   },
   "id": "7263d64c53bed55e"
  }
 ],
 "metadata": {
  "kernelspec": {
   "display_name": "Python 3",
   "language": "python",
   "name": "python3"
  },
  "language_info": {
   "codemirror_mode": {
    "name": "ipython",
    "version": 2
   },
   "file_extension": ".py",
   "mimetype": "text/x-python",
   "name": "python",
   "nbconvert_exporter": "python",
   "pygments_lexer": "ipython2",
   "version": "2.7.6"
  }
 },
 "nbformat": 4,
 "nbformat_minor": 5
}
