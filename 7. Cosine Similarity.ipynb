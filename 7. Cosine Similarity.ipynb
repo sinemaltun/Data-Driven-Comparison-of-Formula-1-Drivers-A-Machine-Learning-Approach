{
 "cells": [
  {
   "cell_type": "markdown",
   "id": "3ca47d2fdf1597eb",
   "metadata": {},
   "source": [
    "# 7. COSINE SIMILARITY"
   ]
  },
  {
   "cell_type": "code",
   "execution_count": 1,
   "id": "af46c26b45e3c93c",
   "metadata": {
    "ExecuteTime": {
     "end_time": "2024-06-12T13:24:23.884566300Z",
     "start_time": "2024-06-12T13:24:17.227195300Z"
    }
   },
   "outputs": [],
   "source": [
    "import fastf1\n",
    "import pickle\n",
    "import os\n",
    "import copy\n",
    "import calendar\n",
    "import numpy as np\n",
    "import pandas as pd\n",
    "\n",
    "#Visualization\n",
    "import plotly.graph_objects as go\n",
    "import plotly.express as px\n",
    "import plotly.figure_factory as ff\n",
    "\n",
    "from sklearn.metrics.pairwise import cosine_similarity\n",
    "from sklearn.preprocessing import StandardScaler, MinMaxScaler\n",
    "from sklearn.decomposition import PCA\n",
    "from scipy.cluster.hierarchy import dendrogram, linkage\n",
    "import scipy.cluster.hierarchy as sch\n",
    "import scipy.spatial.distance as ssd\n",
    "\n",
    "\n",
    "parent_dir = os.path.dirname(os.path.realpath(\"7. Cosine Similarity.ipynb\")) \n",
    "data_path = os.path.join(parent_dir, 'Data Objects')"
   ]
  },
  {
   "cell_type": "code",
   "execution_count": 2,
   "id": "fa23716bbdfe918",
   "metadata": {
    "ExecuteTime": {
     "end_time": "2024-06-12T13:24:26.012581200Z",
     "start_time": "2024-06-12T13:24:23.890546100Z"
    }
   },
   "outputs": [],
   "source": [
    "with open(os.path.join(data_path, 'pilots22.pkl'), 'rb') as f:\n",
    "    pilots22 = pickle.load(f)\n",
    "\n",
    "with open(os.path.join(data_path, 'pilots23.pkl'), 'rb') as f:\n",
    "    pilots23 = pickle.load(f)"
   ]
  },
  {
   "cell_type": "markdown",
   "id": "44aa147fd70e8486",
   "metadata": {},
   "source": [
    "### 7.1 PCA Dimensionality Reduction\n",
    "\n",
    "#### 7.1.1 Optimal Number of Components"
   ]
  },
  {
   "cell_type": "code",
   "execution_count": 3,
   "id": "99e1c0ae91363aad",
   "metadata": {
    "ExecuteTime": {
     "end_time": "2024-06-12T13:24:26.050366200Z",
     "start_time": "2024-06-12T13:24:26.008594900Z"
    }
   },
   "outputs": [],
   "source": [
    "def find_optimal_pca(data,graph=False):\n",
    "    \"\"\"\n",
    "    Determines the optimal number of PCA components to explain at least 90% of the variance.\n",
    "    \n",
    "    Parameters:\n",
    "    - data: array-like, shape (n_samples, n_features)\n",
    "        The input data to perform PCA on.\n",
    "    - graph: bool, optional (default=False)\n",
    "        If True, displays an interactive Plotly graph showing the cumulative explained variance.\n",
    "    \n",
    "    Returns:\n",
    "    - n_components: int\n",
    "        The number of components to explain at least 90% of the variance.\n",
    "    \"\"\"\n",
    "    pca = PCA()\n",
    "    pca.fit(data)\n",
    "    \n",
    "    explained_variance_ratio = pca.explained_variance_ratio_\n",
    "    \n",
    "    cumulative_explained_variance = np.cumsum(explained_variance_ratio)\n",
    "    \n",
    "    if graph:\n",
    "        fig = go.Figure()\n",
    "        \n",
    "        fig.add_trace(go.Scatter(\n",
    "            x=np.arange(1, len(cumulative_explained_variance) + 1),\n",
    "            y=cumulative_explained_variance,\n",
    "            mode='lines+markers',\n",
    "            name='Cumulative Explained Variance'\n",
    "        ))\n",
    "        \n",
    "        fig.add_trace(go.Scatter(\n",
    "            x=[1, len(cumulative_explained_variance)],\n",
    "            y=[0.9, 0.9],\n",
    "            mode='lines',\n",
    "            line=dict(color='red', dash='dash'),\n",
    "            name='90% Explained Variance'\n",
    "        ))\n",
    "        \n",
    "        fig.update_layout(\n",
    "            title='Explained Variance vs. Number of Components',\n",
    "            xaxis_title='Number of Components',\n",
    "            yaxis_title='Cumulative Explained Variance',\n",
    "            showlegend=True\n",
    "        )\n",
    "        \n",
    "        fig.show()\n",
    "    \n",
    "    n_components = np.where(cumulative_explained_variance >= 0.9)[0][0] + 1\n",
    "    print(f\"Number of components to explain 90% of the variance: {n_components}\")\n",
    "    return n_components"
   ]
  },
  {
   "cell_type": "code",
   "execution_count": null,
   "id": "ae0bbb25dcf4d030",
   "metadata": {
    "ExecuteTime": {
     "start_time": "2024-06-11T11:07:56.821258100Z"
    }
   },
   "outputs": [],
   "source": [
    "dt=pilots22['Bahrain_Grand_Prix']['14'].T\n",
    "n=find_optimal_pca(dt,True)"
   ]
  },
  {
   "cell_type": "code",
   "execution_count": 4,
   "id": "ec36305d9083f552",
   "metadata": {
    "ExecuteTime": {
     "end_time": "2024-06-12T10:02:41.785130500Z",
     "start_time": "2024-06-12T10:02:41.758963400Z"
    }
   },
   "outputs": [],
   "source": [
    "def components_by_season(pilots_dict): \n",
    "    \"\"\"\n",
    "    Calculate the average number of PCA components for each Grand Prix event.\n",
    "\n",
    "    Parameters:\n",
    "    - pilots_dict: dict\n",
    "        A dictionary where keys are Grand Prix events and values are dictionaries containing data for different drivers.\n",
    "\n",
    "    Returns:\n",
    "    - component_dict: dict\n",
    "        A dictionary where keys are Grand Prix events and values are the average number of PCA components.\n",
    "    \"\"\"\n",
    "    component_dict = {}\n",
    "    for gp, gp_dict in pilots_dict.items():\n",
    "        components = []\n",
    "        for driver, driver_df in gp_dict.items():\n",
    "            n = find_optimal_pca(driver_df.T) \n",
    "            components.append(n)\n",
    "            \n",
    "        component_dict[gp] = np.average(components)\n",
    "        \n",
    "    return component_dict"
   ]
  },
  {
   "cell_type": "code",
   "execution_count": null,
   "id": "4d0e5c7232e2ca97",
   "metadata": {
    "ExecuteTime": {
     "end_time": "2024-06-11T11:08:48.785751200Z",
     "start_time": "2024-06-11T11:08:45.498260800Z"
    },
    "scrolled": true
   },
   "outputs": [],
   "source": [
    "com22 = components_by_season(pilots22)\n",
    "\"\"\"\n",
    "grand_prix = list(com22.keys())\n",
    "values = list(com22.values())\n",
    "fig = go.Figure(data=go.Scatter(x=grand_prix, y=values, mode='lines+markers'))\n",
    "\n",
    "fig.update_layout(\n",
    "    title='2022 Grand Prix PCA Component Values',\n",
    "    xaxis_title='Grand Prix',\n",
    "    yaxis_title='Value',\n",
    "    xaxis_tickangle=-45  \n",
    ")\n",
    "\n",
    "fig.show()\n",
    "\"\"\""
   ]
  },
  {
   "cell_type": "code",
   "execution_count": null,
   "id": "b08d0429c19e9c4f",
   "metadata": {
    "ExecuteTime": {
     "end_time": "2024-06-11T11:08:58.526640600Z",
     "start_time": "2024-06-11T11:08:55.483492Z"
    },
    "scrolled": true
   },
   "outputs": [],
   "source": [
    "com23 = components_by_season(pilots23)\n",
    "\"\"\"\n",
    "grand_prix = list(com23.keys())\n",
    "values = list(com23.values())\n",
    "fig = go.Figure(data=go.Scatter(x=grand_prix, y=values, mode='lines+markers'))\n",
    "\n",
    "fig.update_layout(\n",
    "    title='2023 Grand Prix PCA Component Values',\n",
    "    xaxis_title='Grand Prix',\n",
    "    yaxis_title='Value',\n",
    "    xaxis_tickangle=-45  \n",
    ")\n",
    "\n",
    "fig.show()\n",
    "\"\"\""
   ]
  },
  {
   "cell_type": "code",
   "execution_count": 4,
   "outputs": [],
   "source": [
    "com22=1\n",
    "com23=1"
   ],
   "metadata": {
    "collapsed": false,
    "ExecuteTime": {
     "end_time": "2024-06-12T13:24:26.127553400Z",
     "start_time": "2024-06-12T13:24:26.035537100Z"
    }
   },
   "id": "f590bfaafba3453b"
  },
  {
   "cell_type": "markdown",
   "id": "b4b21ba09bb0329a",
   "metadata": {},
   "source": [
    "#### 7.1.2 Applying PCA"
   ]
  },
  {
   "cell_type": "code",
   "execution_count": 5,
   "id": "215026771dcd88da",
   "metadata": {
    "ExecuteTime": {
     "end_time": "2024-06-12T13:24:26.163434200Z",
     "start_time": "2024-06-12T13:24:26.050366200Z"
    }
   },
   "outputs": [],
   "source": [
    "def apply_pca(pilots_dict, com):\n",
    "    pilots_pca = {}\n",
    "    for gp, gp_dict in pilots_dict.items():\n",
    "        #n = round(com[gp])\n",
    "        n=8\n",
    "        pilots_pca[gp] = {}  \n",
    "        for driver, driver_df in gp_dict.items():\n",
    "            pca = PCA(n_components=n)\n",
    "            data = driver_df.iloc[:,3:].T\n",
    "            pilots_pca[gp][driver] = pca.fit_transform(data)\n",
    "            \n",
    "    return pilots_pca"
   ]
  },
  {
   "cell_type": "code",
   "execution_count": 6,
   "id": "d7f4e3d4c00bd73c",
   "metadata": {
    "ExecuteTime": {
     "end_time": "2024-06-12T13:27:59.126407200Z",
     "start_time": "2024-06-12T13:24:26.068913700Z"
    }
   },
   "outputs": [],
   "source": [
    "pilots22_pca = apply_pca(pilots22,com22)\n",
    "pilots22_pca = dict(sorted(pilots22_pca.items()))\n",
    "\n",
    "pilots23_pca = apply_pca(pilots23,com23)\n",
    "pilots23_pca = dict(sorted(pilots23_pca.items()))"
   ]
  },
  {
   "cell_type": "markdown",
   "id": "3323ddf6e0b75915",
   "metadata": {},
   "source": [
    "### 7.2 Cosine Similarity"
   ]
  },
  {
   "cell_type": "code",
   "execution_count": 7,
   "id": "602926246ffa642d",
   "metadata": {
    "ExecuteTime": {
     "end_time": "2024-06-12T13:27:59.236784300Z",
     "start_time": "2024-06-12T13:27:59.107482200Z"
    }
   },
   "outputs": [],
   "source": [
    "def cos_similarity(dictt,gp):\n",
    "    # TELEMETRY AND POSITION\n",
    "    pilot_ids = list(dictt[gp].keys())\n",
    "    cosine_sim_matrix = pd.DataFrame(index=pilot_ids, columns=pilot_ids)\n",
    "    \n",
    "    for i in range(len(pilot_ids)):\n",
    "        for j in range(i + 1, len(pilot_ids)):\n",
    "            pilot1, pilot2 = pilot_ids[i], pilot_ids[j]\n",
    "            similarity_matrix = cosine_similarity(dictt[gp][pilot1],dictt[gp][pilot2])\n",
    "            similarity = np.mean(similarity_matrix)\n",
    "            # or I can flatten the cosine similarity elements, then calculate their similarity\n",
    "            \n",
    "            cosine_sim_matrix.loc[pilot1, pilot2] = similarity\n",
    "            cosine_sim_matrix.loc[pilot2, pilot1] = similarity\n",
    "            \n",
    "    np.fill_diagonal(cosine_sim_matrix.values, 1) #setting diagonal elements to 1\n",
    "    return cosine_sim_matrix"
   ]
  },
  {
   "cell_type": "code",
   "execution_count": 8,
   "id": "7a87d2b041bb20de",
   "metadata": {
    "ExecuteTime": {
     "end_time": "2024-06-12T13:27:59.804562900Z",
     "start_time": "2024-06-12T13:27:59.138812Z"
    }
   },
   "outputs": [],
   "source": [
    "gp = 'Monaco_Grand_Prix'\n",
    "cos_sim22 = cos_similarity(pilots22_pca,gp)\n",
    "#cos_sim22 #symmetric and diagonals are 1 "
   ]
  },
  {
   "cell_type": "code",
   "execution_count": 9,
   "id": "9217cf297bb102e7",
   "metadata": {
    "ExecuteTime": {
     "end_time": "2024-06-12T13:28:00.433578900Z",
     "start_time": "2024-06-12T13:27:59.794774Z"
    }
   },
   "outputs": [],
   "source": [
    "cos_sim23 = cos_similarity(pilots23_pca,gp)"
   ]
  },
  {
   "cell_type": "markdown",
   "id": "c21ff600998effdc",
   "metadata": {},
   "source": [
    "Converting cosine similarity matrix to a distance matrix (necessary for clustering)\n",
    "\n",
    "Clustering algorithms, rely on distances between points to determine how to group them."
   ]
  },
  {
   "cell_type": "code",
   "execution_count": 10,
   "id": "eb450f661a446140",
   "metadata": {
    "ExecuteTime": {
     "end_time": "2024-06-12T13:28:00.465936500Z",
     "start_time": "2024-06-12T13:28:00.414161100Z"
    }
   },
   "outputs": [],
   "source": [
    "dist_matrix22 = (1 - cos_sim22).to_numpy()\n",
    "\n",
    "dist_matrix23 = (1 - cos_sim23).to_numpy()"
   ]
  },
  {
   "cell_type": "markdown",
   "id": "310da71f2737c8e3",
   "metadata": {},
   "source": [
    "A condensed distance matrix is a 1D array representing the upper triangular portion of a 2D distance matrix (excluding the diagonal).\n",
    "\n",
    "scipy.cluster.hierarchy.linkage requires a condensed distance matrix, which is way we converted it."
   ]
  },
  {
   "cell_type": "code",
   "execution_count": 11,
   "id": "e6079b31bbb92ed1",
   "metadata": {
    "ExecuteTime": {
     "end_time": "2024-06-12T13:28:00.631381500Z",
     "start_time": "2024-06-12T13:28:00.430577400Z"
    }
   },
   "outputs": [],
   "source": [
    "condensed_dist22 = ssd.squareform(dist_matrix22)\n",
    "\n",
    "condensed_dist23 = ssd.squareform(dist_matrix23)"
   ]
  },
  {
   "cell_type": "code",
   "execution_count": 12,
   "id": "f29e5dfb",
   "metadata": {
    "ExecuteTime": {
     "end_time": "2024-06-12T13:28:00.672318400Z",
     "start_time": "2024-06-12T13:28:00.450906200Z"
    }
   },
   "outputs": [],
   "source": [
    " with open(os.path.join(data_path,'condensed_dist22.pkl'), 'wb') as f:\n",
    "    pickle.dump(condensed_dist22, f)\n",
    "    \n",
    "with open(os.path.join(data_path,'condensed_dist23.pkl'), 'wb') as f:\n",
    "    pickle.dump(condensed_dist23, f)\n",
    "    \n",
    "with open(os.path.join(data_path,'cos_sim22.pkl'), 'wb') as f:\n",
    "    pickle.dump(cos_sim22, f)\n",
    "    \n",
    "with open(os.path.join(data_path,'cos_sim23.pkl'), 'wb') as f:\n",
    "    pickle.dump(cos_sim23, f)\n",
    "    \n",
    "with open(os.path.join(data_path,'dist_matrix22.pkl'), 'wb') as f:\n",
    "    pickle.dump(dist_matrix22, f)\n",
    "    \n",
    "with open(os.path.join(data_path,'dist_matrix23.pkl'), 'wb') as f:\n",
    "    pickle.dump(dist_matrix23, f)"
   ]
  },
  {
   "cell_type": "code",
   "execution_count": null,
   "outputs": [],
   "source": [],
   "metadata": {
    "collapsed": false
   },
   "id": "ca6efcc553ab1272"
  }
 ],
 "metadata": {
  "kernelspec": {
   "display_name": "Python 3 (ipykernel)",
   "language": "python",
   "name": "python3"
  },
  "language_info": {
   "codemirror_mode": {
    "name": "ipython",
    "version": 3
   },
   "file_extension": ".py",
   "mimetype": "text/x-python",
   "name": "python",
   "nbconvert_exporter": "python",
   "pygments_lexer": "ipython3",
   "version": "3.11.5"
  }
 },
 "nbformat": 4,
 "nbformat_minor": 5
}
